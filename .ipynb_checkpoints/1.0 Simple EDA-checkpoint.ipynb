{
 "cells": [
  {
   "cell_type": "markdown",
   "metadata": {
    "id": "j0CUfft9s9Nt"
   },
   "source": [
    "### **importing the libarary**"
   ]
  },
  {
   "cell_type": "code",
   "execution_count": 1,
   "metadata": {
    "id": "8dh7gsyurZOS"
   },
   "outputs": [],
   "source": [
    "\n",
    "import pandas as pd\n",
    "import seaborn as sns\n",
    "import matplotlib.pyplot as plt\n",
    "import numpy as np"
   ]
  },
  {
   "cell_type": "code",
   "execution_count": 2,
   "metadata": {
    "id": "FSfLJegMsEQH"
   },
   "outputs": [],
   "source": [
    "df = pd.read_csv('Data/1.tripadvisor_scraped_hotel_reviews.csv')"
   ]
  },
  {
   "cell_type": "code",
   "execution_count": 3,
   "metadata": {
    "colab": {
     "base_uri": "https://localhost:8080/",
     "height": 694
    },
    "id": "GzIhMjhJsYCe",
    "outputId": "dbbc9ab5-2cc5-4215-bd40-e5b7f9ef0ec5"
   },
   "outputs": [
    {
     "data": {
      "text/html": [
       "<div>\n",
       "<style scoped>\n",
       "    .dataframe tbody tr th:only-of-type {\n",
       "        vertical-align: middle;\n",
       "    }\n",
       "\n",
       "    .dataframe tbody tr th {\n",
       "        vertical-align: top;\n",
       "    }\n",
       "\n",
       "    .dataframe thead th {\n",
       "        text-align: right;\n",
       "    }\n",
       "</style>\n",
       "<table border=\"1\" class=\"dataframe\">\n",
       "  <thead>\n",
       "    <tr style=\"text-align: right;\">\n",
       "      <th></th>\n",
       "      <th>hotel_name</th>\n",
       "      <th>review_summary</th>\n",
       "      <th>review_p1</th>\n",
       "      <th>review_p2</th>\n",
       "      <th>score</th>\n",
       "    </tr>\n",
       "  </thead>\n",
       "  <tbody>\n",
       "    <tr>\n",
       "      <th>0</th>\n",
       "      <td>Hotel Hilton London Gatwick Airport</td>\n",
       "      <td>Awful...</td>\n",
       "      <td>Its hard to find words that can describe this ...</td>\n",
       "      <td>its just all a bit 'run down'  Poor food, not...</td>\n",
       "      <td>&lt;span class=\"ui_bubble_rating bubble_10\"&gt;&lt;/span&gt;</td>\n",
       "    </tr>\n",
       "    <tr>\n",
       "      <th>1</th>\n",
       "      <td>Hotel Hilton London Gatwick Airport</td>\n",
       "      <td>Great start to hokidat</td>\n",
       "      <td>Staying in a hotel that’s part of the airport ...</td>\n",
       "      <td>NaN</td>\n",
       "      <td>&lt;span class=\"ui_bubble_rating bubble_50\"&gt;&lt;/span&gt;</td>\n",
       "    </tr>\n",
       "    <tr>\n",
       "      <th>2</th>\n",
       "      <td>Hotel Hilton London Gatwick Airport</td>\n",
       "      <td>A good overnight stay!</td>\n",
       "      <td>My wife and I stayed at this hotel for one nig...</td>\n",
       "      <td>flat-screen TV (with a huge selection of TV c...</td>\n",
       "      <td>&lt;span class=\"ui_bubble_rating bubble_50\"&gt;&lt;/span&gt;</td>\n",
       "    </tr>\n",
       "    <tr>\n",
       "      <th>3</th>\n",
       "      <td>Hotel Hilton London Gatwick Airport</td>\n",
       "      <td>Satisfactory one night stay</td>\n",
       "      <td>One night  stay which turned out to be much be...</td>\n",
       "      <td>so higher prices are expected. Overall a very...</td>\n",
       "      <td>&lt;span class=\"ui_bubble_rating bubble_40\"&gt;&lt;/span&gt;</td>\n",
       "    </tr>\n",
       "    <tr>\n",
       "      <th>4</th>\n",
       "      <td>Hotel Hilton London Gatwick Airport</td>\n",
       "      <td>Still nice but looking a bit sad, old and dated</td>\n",
       "      <td>We had an executive room and even these are st...</td>\n",
       "      <td>NaN</td>\n",
       "      <td>&lt;span class=\"ui_bubble_rating bubble_40\"&gt;&lt;/span&gt;</td>\n",
       "    </tr>\n",
       "    <tr>\n",
       "      <th>5</th>\n",
       "      <td>Hotel Hilton London Gatwick Airport</td>\n",
       "      <td>NaN</td>\n",
       "      <td>NaN</td>\n",
       "      <td>NaN</td>\n",
       "      <td>NaN</td>\n",
       "    </tr>\n",
       "    <tr>\n",
       "      <th>6</th>\n",
       "      <td>Hotel Hilton London Gatwick Airport</td>\n",
       "      <td>NaN</td>\n",
       "      <td>NaN</td>\n",
       "      <td>NaN</td>\n",
       "      <td>NaN</td>\n",
       "    </tr>\n",
       "    <tr>\n",
       "      <th>7</th>\n",
       "      <td>Hotel Hilton London Gatwick Airport</td>\n",
       "      <td>NaN</td>\n",
       "      <td>NaN</td>\n",
       "      <td>NaN</td>\n",
       "      <td>NaN</td>\n",
       "    </tr>\n",
       "    <tr>\n",
       "      <th>8</th>\n",
       "      <td>Hotel Hilton London Gatwick Airport</td>\n",
       "      <td>NaN</td>\n",
       "      <td>NaN</td>\n",
       "      <td>NaN</td>\n",
       "      <td>NaN</td>\n",
       "    </tr>\n",
       "    <tr>\n",
       "      <th>9</th>\n",
       "      <td>Hotel Hilton London Gatwick Airport</td>\n",
       "      <td>NaN</td>\n",
       "      <td>NaN</td>\n",
       "      <td>NaN</td>\n",
       "      <td>NaN</td>\n",
       "    </tr>\n",
       "  </tbody>\n",
       "</table>\n",
       "</div>"
      ],
      "text/plain": [
       "                            hotel_name  \\\n",
       "0  Hotel Hilton London Gatwick Airport   \n",
       "1  Hotel Hilton London Gatwick Airport   \n",
       "2  Hotel Hilton London Gatwick Airport   \n",
       "3  Hotel Hilton London Gatwick Airport   \n",
       "4  Hotel Hilton London Gatwick Airport   \n",
       "5  Hotel Hilton London Gatwick Airport   \n",
       "6  Hotel Hilton London Gatwick Airport   \n",
       "7  Hotel Hilton London Gatwick Airport   \n",
       "8  Hotel Hilton London Gatwick Airport   \n",
       "9  Hotel Hilton London Gatwick Airport   \n",
       "\n",
       "                                    review_summary  \\\n",
       "0                                         Awful...   \n",
       "1                           Great start to hokidat   \n",
       "2                           A good overnight stay!   \n",
       "3                      Satisfactory one night stay   \n",
       "4  Still nice but looking a bit sad, old and dated   \n",
       "5                                              NaN   \n",
       "6                                              NaN   \n",
       "7                                              NaN   \n",
       "8                                              NaN   \n",
       "9                                              NaN   \n",
       "\n",
       "                                           review_p1  \\\n",
       "0  Its hard to find words that can describe this ...   \n",
       "1  Staying in a hotel that’s part of the airport ...   \n",
       "2  My wife and I stayed at this hotel for one nig...   \n",
       "3  One night  stay which turned out to be much be...   \n",
       "4  We had an executive room and even these are st...   \n",
       "5                                                NaN   \n",
       "6                                                NaN   \n",
       "7                                                NaN   \n",
       "8                                                NaN   \n",
       "9                                                NaN   \n",
       "\n",
       "                                           review_p2  \\\n",
       "0   its just all a bit 'run down'  Poor food, not...   \n",
       "1                                                NaN   \n",
       "2   flat-screen TV (with a huge selection of TV c...   \n",
       "3   so higher prices are expected. Overall a very...   \n",
       "4                                                NaN   \n",
       "5                                                NaN   \n",
       "6                                                NaN   \n",
       "7                                                NaN   \n",
       "8                                                NaN   \n",
       "9                                                NaN   \n",
       "\n",
       "                                              score  \n",
       "0  <span class=\"ui_bubble_rating bubble_10\"></span>  \n",
       "1  <span class=\"ui_bubble_rating bubble_50\"></span>  \n",
       "2  <span class=\"ui_bubble_rating bubble_50\"></span>  \n",
       "3  <span class=\"ui_bubble_rating bubble_40\"></span>  \n",
       "4  <span class=\"ui_bubble_rating bubble_40\"></span>  \n",
       "5                                               NaN  \n",
       "6                                               NaN  \n",
       "7                                               NaN  \n",
       "8                                               NaN  \n",
       "9                                               NaN  "
      ]
     },
     "execution_count": 3,
     "metadata": {},
     "output_type": "execute_result"
    }
   ],
   "source": [
    "df.head(10)"
   ]
  },
  {
   "cell_type": "code",
   "execution_count": 4,
   "metadata": {
    "colab": {
     "base_uri": "https://localhost:8080/"
    },
    "id": "Hf-p-6TaskLp",
    "outputId": "a3b4268f-d6a6-4eee-f6d7-6ba10654b0d6"
   },
   "outputs": [
    {
     "name": "stdout",
     "output_type": "stream",
     "text": [
      "<class 'pandas.core.frame.DataFrame'>\n",
      "RangeIndex: 35078 entries, 0 to 35077\n",
      "Data columns (total 5 columns):\n",
      " #   Column          Non-Null Count  Dtype \n",
      "---  ------          --------------  ----- \n",
      " 0   hotel_name      35078 non-null  object\n",
      " 1   review_summary  17538 non-null  object\n",
      " 2   review_p1       17538 non-null  object\n",
      " 3   review_p2       4698 non-null   object\n",
      " 4   score           17538 non-null  object\n",
      "dtypes: object(5)\n",
      "memory usage: 1.3+ MB\n"
     ]
    }
   ],
   "source": [
    "df.info()\n"
   ]
  },
  {
   "cell_type": "markdown",
   "metadata": {
    "id": "J5m63NQFt3Oh"
   },
   "source": [
    "### **Cheking null values**\n",
    "so hear the double the number of rows so.there is null rows with only hotel name and no other values . so remove thos extra rows from our dataset\n"
   ]
  },
  {
   "cell_type": "code",
   "execution_count": 5,
   "metadata": {
    "id": "tdJyN8gPrlwH"
   },
   "outputs": [],
   "source": [
    "# so hear we select subset = review_p1 because if there is null value in review_p1 then intire row  will discard\n",
    "\n",
    "df.dropna(subset=['review_p1'],axis=0,inplace = True)"
   ]
  },
  {
   "cell_type": "code",
   "execution_count": 6,
   "metadata": {
    "colab": {
     "base_uri": "https://localhost:8080/"
    },
    "id": "9sXWE3Fcu32u",
    "outputId": "26e9026d-6efd-4710-e8ca-3ea6ce1fae6c"
   },
   "outputs": [
    {
     "name": "stdout",
     "output_type": "stream",
     "text": [
      "<class 'pandas.core.frame.DataFrame'>\n",
      "Int64Index: 17538 entries, 0 to 35072\n",
      "Data columns (total 5 columns):\n",
      " #   Column          Non-Null Count  Dtype \n",
      "---  ------          --------------  ----- \n",
      " 0   hotel_name      17538 non-null  object\n",
      " 1   review_summary  17538 non-null  object\n",
      " 2   review_p1       17538 non-null  object\n",
      " 3   review_p2       4698 non-null   object\n",
      " 4   score           17538 non-null  object\n",
      "dtypes: object(5)\n",
      "memory usage: 822.1+ KB\n"
     ]
    }
   ],
   "source": [
    "df.info()"
   ]
  },
  {
   "cell_type": "code",
   "execution_count": 7,
   "metadata": {
    "colab": {
     "base_uri": "https://localhost:8080/",
     "height": 285
    },
    "id": "ch5ysKC5s6ep",
    "outputId": "fcb95413-ef69-41ed-c37e-32531030db46"
   },
   "outputs": [
    {
     "data": {
      "text/html": [
       "<div>\n",
       "<style scoped>\n",
       "    .dataframe tbody tr th:only-of-type {\n",
       "        vertical-align: middle;\n",
       "    }\n",
       "\n",
       "    .dataframe tbody tr th {\n",
       "        vertical-align: top;\n",
       "    }\n",
       "\n",
       "    .dataframe thead th {\n",
       "        text-align: right;\n",
       "    }\n",
       "</style>\n",
       "<table border=\"1\" class=\"dataframe\">\n",
       "  <thead>\n",
       "    <tr style=\"text-align: right;\">\n",
       "      <th></th>\n",
       "      <th>hotel_name</th>\n",
       "      <th>review_summary</th>\n",
       "      <th>review_p1</th>\n",
       "      <th>review_p2</th>\n",
       "      <th>score</th>\n",
       "    </tr>\n",
       "  </thead>\n",
       "  <tbody>\n",
       "    <tr>\n",
       "      <th>0</th>\n",
       "      <td>Hotel Hilton London Gatwick Airport</td>\n",
       "      <td>Awful...</td>\n",
       "      <td>Its hard to find words that can describe this ...</td>\n",
       "      <td>its just all a bit 'run down'  Poor food, not...</td>\n",
       "      <td>1</td>\n",
       "    </tr>\n",
       "    <tr>\n",
       "      <th>1</th>\n",
       "      <td>Hotel Hilton London Gatwick Airport</td>\n",
       "      <td>Great start to hokidat</td>\n",
       "      <td>Staying in a hotel that’s part of the airport ...</td>\n",
       "      <td>NaN</td>\n",
       "      <td>5</td>\n",
       "    </tr>\n",
       "    <tr>\n",
       "      <th>2</th>\n",
       "      <td>Hotel Hilton London Gatwick Airport</td>\n",
       "      <td>A good overnight stay!</td>\n",
       "      <td>My wife and I stayed at this hotel for one nig...</td>\n",
       "      <td>flat-screen TV (with a huge selection of TV c...</td>\n",
       "      <td>5</td>\n",
       "    </tr>\n",
       "    <tr>\n",
       "      <th>3</th>\n",
       "      <td>Hotel Hilton London Gatwick Airport</td>\n",
       "      <td>Satisfactory one night stay</td>\n",
       "      <td>One night  stay which turned out to be much be...</td>\n",
       "      <td>so higher prices are expected. Overall a very...</td>\n",
       "      <td>4</td>\n",
       "    </tr>\n",
       "    <tr>\n",
       "      <th>4</th>\n",
       "      <td>Hotel Hilton London Gatwick Airport</td>\n",
       "      <td>Still nice but looking a bit sad, old and dated</td>\n",
       "      <td>We had an executive room and even these are st...</td>\n",
       "      <td>NaN</td>\n",
       "      <td>4</td>\n",
       "    </tr>\n",
       "  </tbody>\n",
       "</table>\n",
       "</div>"
      ],
      "text/plain": [
       "                            hotel_name  \\\n",
       "0  Hotel Hilton London Gatwick Airport   \n",
       "1  Hotel Hilton London Gatwick Airport   \n",
       "2  Hotel Hilton London Gatwick Airport   \n",
       "3  Hotel Hilton London Gatwick Airport   \n",
       "4  Hotel Hilton London Gatwick Airport   \n",
       "\n",
       "                                    review_summary  \\\n",
       "0                                         Awful...   \n",
       "1                           Great start to hokidat   \n",
       "2                           A good overnight stay!   \n",
       "3                      Satisfactory one night stay   \n",
       "4  Still nice but looking a bit sad, old and dated   \n",
       "\n",
       "                                           review_p1  \\\n",
       "0  Its hard to find words that can describe this ...   \n",
       "1  Staying in a hotel that’s part of the airport ...   \n",
       "2  My wife and I stayed at this hotel for one nig...   \n",
       "3  One night  stay which turned out to be much be...   \n",
       "4  We had an executive room and even these are st...   \n",
       "\n",
       "                                           review_p2  score  \n",
       "0   its just all a bit 'run down'  Poor food, not...      1  \n",
       "1                                                NaN      5  \n",
       "2   flat-screen TV (with a huge selection of TV c...      5  \n",
       "3   so higher prices are expected. Overall a very...      4  \n",
       "4                                                NaN      4  "
      ]
     },
     "execution_count": 7,
     "metadata": {},
     "output_type": "execute_result"
    }
   ],
   "source": [
    "df['score'] = df['score'].apply(lambda x: int(str(x)[37]))\n",
    "df.reset_index(inplace=True,drop=True)\n",
    "df.head()\n"
   ]
  },
  {
   "cell_type": "markdown",
   "metadata": {
    "id": "mTabN11O3lgd"
   },
   "source": [
    "### **Histogram of name_hotels**"
   ]
  },
  {
   "cell_type": "code",
   "execution_count": 8,
   "metadata": {
    "colab": {
     "base_uri": "https://localhost:8080/",
     "height": 382
    },
    "id": "s64pllui3k3b",
    "outputId": "c485383a-85db-407d-d300-34e83394fa75"
   },
   "outputs": [
    {
     "data": {
      "image/png": "[encoded data removed]",
      "text/plain": [
       "<Figure size 1296x576 with 1 Axes>"
      ]
     },
     "metadata": {
      "needs_background": "light"
     },
     "output_type": "display_data"
    }
   ],
   "source": [
    "plt.figure(figsize=(18,8))\n",
    "sns.countplot(x= 'hotel_name',data = df)\n",
    "plt.show()"
   ]
  },
  {
   "cell_type": "markdown",
   "metadata": {
    "id": "8rjRkOuy0aRS"
   },
   "source": [
    "### **Histrogram of review of each hotel**"
   ]
  },
  {
   "cell_type": "code",
   "execution_count": 9,
   "metadata": {
    "colab": {
     "base_uri": "https://localhost:8080/",
     "height": 382
    },
    "id": "dvSTTqTGq7PQ",
    "outputId": "f0f87b01-2a78-4703-8bfa-633006d25524"
   },
   "outputs": [
    {
     "data": {
      "image/png": "[encoded data removed]",
      "text/plain": [
       "<Figure size 1296x576 with 1 Axes>"
      ]
     },
     "metadata": {
      "needs_background": "light"
     },
     "output_type": "display_data"
    }
   ],
   "source": [
    "plt.figure(figsize=(18,8))\n",
    "sns.countplot(x= 'hotel_name',hue='score',data = df)\n",
    "plt.show()\n"
   ]
  },
  {
   "cell_type": "markdown",
   "metadata": {
    "id": "G3h5jPGv3aKy"
   },
   "source": [
    "### **Histogram of score**"
   ]
  },
  {
   "cell_type": "code",
   "execution_count": 10,
   "metadata": {
    "colab": {
     "base_uri": "https://localhost:8080/",
     "height": 386
    },
    "id": "pUbFwvlY1MPI",
    "outputId": "3a374cb5-9b41-4bef-ad88-de4e8df6b9d5"
   },
   "outputs": [
    {
     "data": {
      "image/png": "[encoded data removed]",
      "text/plain": [
       "<Figure size 1296x576 with 1 Axes>"
      ]
     },
     "metadata": {
      "needs_background": "light"
     },
     "output_type": "display_data"
    }
   ],
   "source": [
    "plt.figure(figsize=(18,8))\n",
    "sns.countplot(x= 'score',data = df)\n",
    "plt.show()"
   ]
  },
  {
   "cell_type": "markdown",
   "metadata": {
    "id": "BdsLDl60teBx"
   },
   "source": [
    "### **Joining Review Part 1 with Review Part 2 in New Column Review**"
   ]
  },
  {
   "cell_type": "code",
   "execution_count": 11,
   "metadata": {
    "id": "gbpQ9NhjNW2G"
   },
   "outputs": [],
   "source": [
    "df['review_p2'].fillna(value='',inplace=True)"
   ]
  },
  {
   "cell_type": "code",
   "execution_count": 12,
   "metadata": {
    "id": "fxm9syMfwxv2"
   },
   "outputs": [],
   "source": [
    "df['review'] = df['review_p1'].astype(str) + df['review_p2'].astype(str)"
   ]
  },
  {
   "cell_type": "code",
   "execution_count": 13,
   "metadata": {
    "id": "VyANMZ7Xw91X"
   },
   "outputs": [],
   "source": [
    "df.drop(['review_p1','review_p2'],axis=1,inplace=True)"
   ]
  },
  {
   "cell_type": "code",
   "execution_count": 14,
   "metadata": {
    "colab": {
     "base_uri": "https://localhost:8080/",
     "height": 285
    },
    "id": "4KOhuNfexUmD",
    "outputId": "d83e05fa-5531-42b8-96dd-19e7fecc8f74"
   },
   "outputs": [
    {
     "data": {
      "text/html": [
       "<div>\n",
       "<style scoped>\n",
       "    .dataframe tbody tr th:only-of-type {\n",
       "        vertical-align: middle;\n",
       "    }\n",
       "\n",
       "    .dataframe tbody tr th {\n",
       "        vertical-align: top;\n",
       "    }\n",
       "\n",
       "    .dataframe thead th {\n",
       "        text-align: right;\n",
       "    }\n",
       "</style>\n",
       "<table border=\"1\" class=\"dataframe\">\n",
       "  <thead>\n",
       "    <tr style=\"text-align: right;\">\n",
       "      <th></th>\n",
       "      <th>hotel_name</th>\n",
       "      <th>review_summary</th>\n",
       "      <th>score</th>\n",
       "      <th>review</th>\n",
       "    </tr>\n",
       "  </thead>\n",
       "  <tbody>\n",
       "    <tr>\n",
       "      <th>0</th>\n",
       "      <td>Hotel Hilton London Gatwick Airport</td>\n",
       "      <td>Awful...</td>\n",
       "      <td>1</td>\n",
       "      <td>Its hard to find words that can describe this ...</td>\n",
       "    </tr>\n",
       "    <tr>\n",
       "      <th>1</th>\n",
       "      <td>Hotel Hilton London Gatwick Airport</td>\n",
       "      <td>Great start to hokidat</td>\n",
       "      <td>5</td>\n",
       "      <td>Staying in a hotel that’s part of the airport ...</td>\n",
       "    </tr>\n",
       "    <tr>\n",
       "      <th>2</th>\n",
       "      <td>Hotel Hilton London Gatwick Airport</td>\n",
       "      <td>A good overnight stay!</td>\n",
       "      <td>5</td>\n",
       "      <td>My wife and I stayed at this hotel for one nig...</td>\n",
       "    </tr>\n",
       "    <tr>\n",
       "      <th>3</th>\n",
       "      <td>Hotel Hilton London Gatwick Airport</td>\n",
       "      <td>Satisfactory one night stay</td>\n",
       "      <td>4</td>\n",
       "      <td>One night  stay which turned out to be much be...</td>\n",
       "    </tr>\n",
       "    <tr>\n",
       "      <th>4</th>\n",
       "      <td>Hotel Hilton London Gatwick Airport</td>\n",
       "      <td>Still nice but looking a bit sad, old and dated</td>\n",
       "      <td>4</td>\n",
       "      <td>We had an executive room and even these are st...</td>\n",
       "    </tr>\n",
       "  </tbody>\n",
       "</table>\n",
       "</div>"
      ],
      "text/plain": [
       "                            hotel_name  \\\n",
       "0  Hotel Hilton London Gatwick Airport   \n",
       "1  Hotel Hilton London Gatwick Airport   \n",
       "2  Hotel Hilton London Gatwick Airport   \n",
       "3  Hotel Hilton London Gatwick Airport   \n",
       "4  Hotel Hilton London Gatwick Airport   \n",
       "\n",
       "                                    review_summary  score  \\\n",
       "0                                         Awful...      1   \n",
       "1                           Great start to hokidat      5   \n",
       "2                           A good overnight stay!      5   \n",
       "3                      Satisfactory one night stay      4   \n",
       "4  Still nice but looking a bit sad, old and dated      4   \n",
       "\n",
       "                                              review  \n",
       "0  Its hard to find words that can describe this ...  \n",
       "1  Staying in a hotel that’s part of the airport ...  \n",
       "2  My wife and I stayed at this hotel for one nig...  \n",
       "3  One night  stay which turned out to be much be...  \n",
       "4  We had an executive room and even these are st...  "
      ]
     },
     "execution_count": 14,
     "metadata": {},
     "output_type": "execute_result"
    }
   ],
   "source": [
    "df.head()"
   ]
  },
  {
   "cell_type": "markdown",
   "metadata": {
    "id": "hY6-URGlxgPE"
   },
   "source": [
    "### **saving the dataset into csv file**"
   ]
  },
  {
   "cell_type": "code",
   "execution_count": 15,
   "metadata": {
    "id": "ke6dGQRZxWev"
   },
   "outputs": [],
   "source": [
    "df.to_csv('dataset.csv',index=False)"
   ]
  },
  {
   "cell_type": "code",
   "execution_count": null,
   "metadata": {
    "id": "LaG6FJOLxuTG"
   },
   "outputs": [],
   "source": []
  }
 ],
 "metadata": {
  "colab": {
   "name": "Untitled21.ipynb",
   "provenance": []
  },
  "kernelspec": {
   "display_name": "Python 3",
   "language": "python",
   "name": "python3"
  },
  "language_info": {
   "codemirror_mode": {
    "name": "ipython",
    "version": 3
   },
   "file_extension": ".py",
   "mimetype": "text/x-python",
   "name": "python",
   "nbconvert_exporter": "python",
   "pygments_lexer": "ipython3",
   "version": "3.8.5"
  }
 },
 "nbformat": 4,
 "nbformat_minor": 1
}
