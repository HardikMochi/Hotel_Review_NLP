{
 "cells": [
  {
   "cell_type": "markdown",
   "metadata": {
    "Collapsed": "false",
    "id": "hQ-iYOlAkmjW"
   },
   "source": [
    "# 5. Neural Network Modelling"
   ]
  },
  {
   "cell_type": "markdown",
   "metadata": {
    "Collapsed": "false",
    "id": "93icwv36kmjl"
   },
   "source": [
    "In 3.Modelling_and_Hyperparamter_Tuning, I experimented with different classifcation and ensemble methods to help classify hotel review scores. Some performed well, but there was definitely room for improvement, so I wanted to explore a deep learning approach. "
   ]
  },
  {
   "cell_type": "markdown",
   "metadata": {
    "Collapsed": "false",
    "id": "t2iA4glwkmjn"
   },
   "source": [
    "## 5.1 Imports"
   ]
  },
  {
   "cell_type": "code",
   "execution_count": 1,
   "metadata": {
    "Collapsed": "false",
    "id": "rE9v5TpNkmjo"
   },
   "outputs": [],
   "source": [
    "import pandas as pd\n",
    "import numpy as np\n",
    "import seaborn as sns\n",
    "import matplotlib.pyplot as plt\n",
    "import pickle\n",
    "from sklearn.model_selection import train_test_split\n",
    "from sklearn.preprocessing import OneHotEncoder\n",
    "from sklearn.metrics import confusion_matrix\n",
    "\n",
    "from nltk.tokenize import RegexpTokenizer\n",
    "from tensorflow import keras\n",
    "\n",
    "from tensorflow.keras.preprocessing import sequence\n",
    "from tensorflow.python.keras import Sequential\n",
    "from tensorflow.keras.models import load_model\n",
    "from tensorflow.python.keras.layers import Dense, Embedding, GlobalAveragePooling1D"
   ]
  },
  {
   "cell_type": "code",
   "execution_count": 2,
   "metadata": {
    "Collapsed": "false",
    "id": "8ZxLo1qXkmjt"
   },
   "outputs": [],
   "source": [
    "sns.set_context('poster')"
   ]
  },
  {
   "cell_type": "code",
   "execution_count": 3,
   "metadata": {
    "Collapsed": "false",
    "id": "DqN_kp-Rkmju"
   },
   "outputs": [],
   "source": [
    "df = pd.read_csv('data/dataset.csv')"
   ]
  },
  {
   "cell_type": "code",
   "execution_count": 4,
   "metadata": {
    "colab": {
     "base_uri": "https://localhost:8080/"
    },
    "id": "co73CHu6lInJ",
    "outputId": "a35c786d-862c-467e-c89e-1b86e6bf4b71"
   },
   "outputs": [
    {
     "data": {
      "text/plain": [
       "(9405, 4)"
      ]
     },
     "execution_count": 4,
     "metadata": {},
     "output_type": "execute_result"
    }
   ],
   "source": [
    "df.shape"
   ]
  },
  {
   "cell_type": "markdown",
   "metadata": {
    "Collapsed": "false",
    "id": "cJo-I5Rrkmjw"
   },
   "source": [
    "## 5.2 One Hot Encoding Scores Column"
   ]
  },
  {
   "cell_type": "markdown",
   "metadata": {
    "Collapsed": "false",
    "id": "p6NLUM55kmjx"
   },
   "source": [
    "For multi-class classifcation using the neural network model, I needed the target variable to be one hot encoded, as the output layer would have 5 nodes, 1 for each score."
   ]
  },
  {
   "cell_type": "code",
   "execution_count": 5,
   "metadata": {
    "Collapsed": "false",
    "colab": {
     "base_uri": "https://localhost:8080/",
     "height": 285
    },
    "id": "vcaPBtGBkmjz",
    "outputId": "b7018bc7-7ffb-44ff-a7c7-16c6448b9439"
   },
   "outputs": [
    {
     "data": {
      "text/html": [
       "<div>\n",
       "<style scoped>\n",
       "    .dataframe tbody tr th:only-of-type {\n",
       "        vertical-align: middle;\n",
       "    }\n",
       "\n",
       "    .dataframe tbody tr th {\n",
       "        vertical-align: top;\n",
       "    }\n",
       "\n",
       "    .dataframe thead th {\n",
       "        text-align: right;\n",
       "    }\n",
       "</style>\n",
       "<table border=\"1\" class=\"dataframe\">\n",
       "  <thead>\n",
       "    <tr style=\"text-align: right;\">\n",
       "      <th></th>\n",
       "      <th>hotel_name</th>\n",
       "      <th>review_summary</th>\n",
       "      <th>score</th>\n",
       "      <th>review</th>\n",
       "      <th>0</th>\n",
       "      <th>1</th>\n",
       "      <th>2</th>\n",
       "      <th>3</th>\n",
       "      <th>4</th>\n",
       "    </tr>\n",
       "  </thead>\n",
       "  <tbody>\n",
       "    <tr>\n",
       "      <th>0</th>\n",
       "      <td>Hotel Hilton London Gatwick Airport</td>\n",
       "      <td>Awful...</td>\n",
       "      <td>1</td>\n",
       "      <td>Its hard to find words that can describe this ...</td>\n",
       "      <td>1.0</td>\n",
       "      <td>0.0</td>\n",
       "      <td>0.0</td>\n",
       "      <td>0.0</td>\n",
       "      <td>0.0</td>\n",
       "    </tr>\n",
       "    <tr>\n",
       "      <th>1</th>\n",
       "      <td>Hilton London Metropole</td>\n",
       "      <td>Terrible</td>\n",
       "      <td>1</td>\n",
       "      <td>Absolutely terrible. Cracked ceiling, tiny roo...</td>\n",
       "      <td>1.0</td>\n",
       "      <td>0.0</td>\n",
       "      <td>0.0</td>\n",
       "      <td>0.0</td>\n",
       "      <td>0.0</td>\n",
       "    </tr>\n",
       "    <tr>\n",
       "      <th>2</th>\n",
       "      <td>Hilton London Euston</td>\n",
       "      <td>Double deposit taken from bank</td>\n",
       "      <td>1</td>\n",
       "      <td>Very disappointed firstly i checked in online ...</td>\n",
       "      <td>1.0</td>\n",
       "      <td>0.0</td>\n",
       "      <td>0.0</td>\n",
       "      <td>0.0</td>\n",
       "      <td>0.0</td>\n",
       "    </tr>\n",
       "    <tr>\n",
       "      <th>3</th>\n",
       "      <td>Hilton London Metropole</td>\n",
       "      <td>Super disappointed!</td>\n",
       "      <td>1</td>\n",
       "      <td>First of all we arrived wanting to park at the...</td>\n",
       "      <td>1.0</td>\n",
       "      <td>0.0</td>\n",
       "      <td>0.0</td>\n",
       "      <td>0.0</td>\n",
       "      <td>0.0</td>\n",
       "    </tr>\n",
       "    <tr>\n",
       "      <th>4</th>\n",
       "      <td>Hilton London Metropole</td>\n",
       "      <td>Dissatisfied Hilton gold number</td>\n",
       "      <td>1</td>\n",
       "      <td>Hello,  I currently staying @ Hilton Metropole...</td>\n",
       "      <td>1.0</td>\n",
       "      <td>0.0</td>\n",
       "      <td>0.0</td>\n",
       "      <td>0.0</td>\n",
       "      <td>0.0</td>\n",
       "    </tr>\n",
       "  </tbody>\n",
       "</table>\n",
       "</div>"
      ],
      "text/plain": [
       "                            hotel_name                   review_summary  \\\n",
       "0  Hotel Hilton London Gatwick Airport                         Awful...   \n",
       "1              Hilton London Metropole                        Terrible    \n",
       "2                 Hilton London Euston   Double deposit taken from bank   \n",
       "3              Hilton London Metropole              Super disappointed!   \n",
       "4              Hilton London Metropole  Dissatisfied Hilton gold number   \n",
       "\n",
       "   score                                             review    0    1    2  \\\n",
       "0      1  Its hard to find words that can describe this ...  1.0  0.0  0.0   \n",
       "1      1  Absolutely terrible. Cracked ceiling, tiny roo...  1.0  0.0  0.0   \n",
       "2      1  Very disappointed firstly i checked in online ...  1.0  0.0  0.0   \n",
       "3      1  First of all we arrived wanting to park at the...  1.0  0.0  0.0   \n",
       "4      1  Hello,  I currently staying @ Hilton Metropole...  1.0  0.0  0.0   \n",
       "\n",
       "     3    4  \n",
       "0  0.0  0.0  \n",
       "1  0.0  0.0  \n",
       "2  0.0  0.0  \n",
       "3  0.0  0.0  \n",
       "4  0.0  0.0  "
      ]
     },
     "execution_count": 5,
     "metadata": {},
     "output_type": "execute_result"
    }
   ],
   "source": [
    "enc = OneHotEncoder(handle_unknown='ignore')\n",
    "\n",
    "enc_df = pd.DataFrame(enc.fit_transform(df[['score']]).toarray())\n",
    "\n",
    "df = df.join(enc_df)\n",
    "df.head()"
   ]
  },
  {
   "cell_type": "code",
   "execution_count": 6,
   "metadata": {
    "Collapsed": "false",
    "id": "EQ66ooLFkmj1"
   },
   "outputs": [],
   "source": [
    "df = df.rename(columns={0: \"score_1\", 1:'score_2',2:'score_3',3:'score_4',4:'score_5'})"
   ]
  },
  {
   "cell_type": "code",
   "execution_count": 7,
   "metadata": {
    "Collapsed": "false",
    "colab": {
     "base_uri": "https://localhost:8080/",
     "height": 371
    },
    "id": "HtSkEHNLkmj1",
    "outputId": "831b6774-8851-4436-9f43-edfe66285ad1"
   },
   "outputs": [
    {
     "data": {
      "text/html": [
       "<div>\n",
       "<style scoped>\n",
       "    .dataframe tbody tr th:only-of-type {\n",
       "        vertical-align: middle;\n",
       "    }\n",
       "\n",
       "    .dataframe tbody tr th {\n",
       "        vertical-align: top;\n",
       "    }\n",
       "\n",
       "    .dataframe thead th {\n",
       "        text-align: right;\n",
       "    }\n",
       "</style>\n",
       "<table border=\"1\" class=\"dataframe\">\n",
       "  <thead>\n",
       "    <tr style=\"text-align: right;\">\n",
       "      <th></th>\n",
       "      <th>hotel_name</th>\n",
       "      <th>review_summary</th>\n",
       "      <th>score</th>\n",
       "      <th>review</th>\n",
       "      <th>score_1</th>\n",
       "      <th>score_2</th>\n",
       "      <th>score_3</th>\n",
       "      <th>score_4</th>\n",
       "      <th>score_5</th>\n",
       "    </tr>\n",
       "  </thead>\n",
       "  <tbody>\n",
       "    <tr>\n",
       "      <th>0</th>\n",
       "      <td>Hotel Hilton London Gatwick Airport</td>\n",
       "      <td>Awful...</td>\n",
       "      <td>1</td>\n",
       "      <td>Its hard to find words that can describe this ...</td>\n",
       "      <td>1.0</td>\n",
       "      <td>0.0</td>\n",
       "      <td>0.0</td>\n",
       "      <td>0.0</td>\n",
       "      <td>0.0</td>\n",
       "    </tr>\n",
       "    <tr>\n",
       "      <th>1</th>\n",
       "      <td>Hilton London Metropole</td>\n",
       "      <td>Terrible</td>\n",
       "      <td>1</td>\n",
       "      <td>Absolutely terrible. Cracked ceiling, tiny roo...</td>\n",
       "      <td>1.0</td>\n",
       "      <td>0.0</td>\n",
       "      <td>0.0</td>\n",
       "      <td>0.0</td>\n",
       "      <td>0.0</td>\n",
       "    </tr>\n",
       "    <tr>\n",
       "      <th>2</th>\n",
       "      <td>Hilton London Euston</td>\n",
       "      <td>Double deposit taken from bank</td>\n",
       "      <td>1</td>\n",
       "      <td>Very disappointed firstly i checked in online ...</td>\n",
       "      <td>1.0</td>\n",
       "      <td>0.0</td>\n",
       "      <td>0.0</td>\n",
       "      <td>0.0</td>\n",
       "      <td>0.0</td>\n",
       "    </tr>\n",
       "    <tr>\n",
       "      <th>3</th>\n",
       "      <td>Hilton London Metropole</td>\n",
       "      <td>Super disappointed!</td>\n",
       "      <td>1</td>\n",
       "      <td>First of all we arrived wanting to park at the...</td>\n",
       "      <td>1.0</td>\n",
       "      <td>0.0</td>\n",
       "      <td>0.0</td>\n",
       "      <td>0.0</td>\n",
       "      <td>0.0</td>\n",
       "    </tr>\n",
       "    <tr>\n",
       "      <th>4</th>\n",
       "      <td>Hilton London Metropole</td>\n",
       "      <td>Dissatisfied Hilton gold number</td>\n",
       "      <td>1</td>\n",
       "      <td>Hello,  I currently staying @ Hilton Metropole...</td>\n",
       "      <td>1.0</td>\n",
       "      <td>0.0</td>\n",
       "      <td>0.0</td>\n",
       "      <td>0.0</td>\n",
       "      <td>0.0</td>\n",
       "    </tr>\n",
       "  </tbody>\n",
       "</table>\n",
       "</div>"
      ],
      "text/plain": [
       "                            hotel_name                   review_summary  \\\n",
       "0  Hotel Hilton London Gatwick Airport                         Awful...   \n",
       "1              Hilton London Metropole                        Terrible    \n",
       "2                 Hilton London Euston   Double deposit taken from bank   \n",
       "3              Hilton London Metropole              Super disappointed!   \n",
       "4              Hilton London Metropole  Dissatisfied Hilton gold number   \n",
       "\n",
       "   score                                             review  score_1  score_2  \\\n",
       "0      1  Its hard to find words that can describe this ...      1.0      0.0   \n",
       "1      1  Absolutely terrible. Cracked ceiling, tiny roo...      1.0      0.0   \n",
       "2      1  Very disappointed firstly i checked in online ...      1.0      0.0   \n",
       "3      1  First of all we arrived wanting to park at the...      1.0      0.0   \n",
       "4      1  Hello,  I currently staying @ Hilton Metropole...      1.0      0.0   \n",
       "\n",
       "   score_3  score_4  score_5  \n",
       "0      0.0      0.0      0.0  \n",
       "1      0.0      0.0      0.0  \n",
       "2      0.0      0.0      0.0  \n",
       "3      0.0      0.0      0.0  \n",
       "4      0.0      0.0      0.0  "
      ]
     },
     "execution_count": 7,
     "metadata": {},
     "output_type": "execute_result"
    }
   ],
   "source": [
    "df.head()"
   ]
  },
  {
   "cell_type": "markdown",
   "metadata": {
    "Collapsed": "false",
    "id": "cNk8SaELkmj2"
   },
   "source": [
    "## 5.3 Train Test Split"
   ]
  },
  {
   "cell_type": "code",
   "execution_count": 8,
   "metadata": {
    "Collapsed": "false",
    "id": "r-1TrPcDkmj3"
   },
   "outputs": [],
   "source": [
    "x_train, x_test, y_train, y_test = train_test_split(df[['review','review_summary']], \n",
    "                                                    df[['score_1','score_2','score_3','score_4','score_5']], \n",
    "                                                    test_size=.2, \n",
    "                                                    random_state=42)"
   ]
  },
  {
   "cell_type": "markdown",
   "metadata": {
    "Collapsed": "false",
    "id": "cSuOOLQbkmj4"
   },
   "source": [
    "## 5.4 Add Suffix to the Review Summary to Distinguish the Difference"
   ]
  },
  {
   "cell_type": "markdown",
   "metadata": {
    "Collapsed": "false",
    "id": "5wDSHdJqkmj4"
   },
   "source": [
    "I wanted the words in the review summary to be separate from the words in the review, as they may have a more or less significant impact. Also new data may not contain a review summary and the model will not accurately reflect the review-only data."
   ]
  },
  {
   "cell_type": "code",
   "execution_count": 9,
   "metadata": {
    "id": "YBk-eY8LMEL0"
   },
   "outputs": [],
   "source": [
    "tokenizer = RegexpTokenizer(r'[a-zA-Z]+')\n"
   ]
  },
  {
   "cell_type": "code",
   "execution_count": 10,
   "metadata": {
    "id": "ZLKt1IwvL1Cw"
   },
   "outputs": [],
   "source": [
    "def add_sum_suffix(text):\n",
    "    \n",
    "    token_list = tokenizer.tokenize(text.lower())\n",
    "    new_text = ''\n",
    "    for word in token_list:\n",
    "        word = word + '_sum'\n",
    "        new_text += word + ' '\n",
    "        \n",
    "    return new_text"
   ]
  },
  {
   "cell_type": "code",
   "execution_count": 11,
   "metadata": {
    "id": "4V_RhCsdL32I"
   },
   "outputs": [],
   "source": [
    "\n",
    "def text_cleanup(text):\n",
    "    \n",
    "    token_list = tokenizer.tokenize(text.lower())\n",
    "    new_text = ''\n",
    "    for word in token_list:\n",
    "        new_text += word + ' '\n",
    "        \n",
    "    return new_text"
   ]
  },
  {
   "cell_type": "code",
   "execution_count": 12,
   "metadata": {
    "id": "icMtMD9LNdgR"
   },
   "outputs": [],
   "source": [
    "def add_one_argmax_score(x):\n",
    "    \n",
    "    x = x+1\n",
    "    \n",
    "    return x"
   ]
  },
  {
   "cell_type": "code",
   "execution_count": 13,
   "metadata": {
    "id": "Db39qlGaNZwc"
   },
   "outputs": [],
   "source": [
    "def reverse_encode(y_df):\n",
    "    \n",
    "    y_df['score'] = (y_df.iloc[:, 0:] == 1).idxmax(1)['score'] = (y_df.iloc[:, 0:] == 1).idxmax(1)\n",
    "    for i in range(0,len(y_df)):\n",
    "        if y_df.iloc[i,-1] == 'score_1':\n",
    "            y_df.iloc[i,-1] = 1\n",
    "        elif y_df.iloc[i,-1] == 'score_2':\n",
    "            y_df.iloc[i,-1] = 2\n",
    "        elif y_df.iloc[i,-1]== 'score_3':\n",
    "            y_df.iloc[i,-1] = 3\n",
    "        elif y_df.iloc[i,-1]== 'score_4':\n",
    "            y_df.iloc[i,-1] = 4\n",
    "        elif y_df.iloc[i,-1] == 'score_5':\n",
    "            y_df.iloc[i,-1]= 5"
   ]
  },
  {
   "cell_type": "code",
   "execution_count": 50,
   "metadata": {
    "id": "8Nxh19kDL7FS"
   },
   "outputs": [],
   "source": [
    "def conf_matrix(cm):\n",
    "    \n",
    "    plt.figure(figsize=(9,7))\n",
    "    ax = sns.heatmap(cm,\n",
    "                     annot= True, \n",
    "                     fmt = '.4g', \n",
    "                     cbar=0,\n",
    "                     xticklabels=[1,2,3,4,5],\n",
    "                     yticklabels=[1,2,3,4,5])\n",
    "    ax.set(xlabel='Predicted', ylabel='True')\n",
    "    plt.show()"
   ]
  },
  {
   "cell_type": "code",
   "execution_count": 15,
   "metadata": {
    "Collapsed": "false",
    "id": "Ftmub3bgkmj4"
   },
   "outputs": [],
   "source": [
    "x_train['review_summary_suffixed'] = x_train['review_summary'].apply(add_sum_suffix)\n",
    "x_test['review_summary_suffixed'] = x_test['review_summary'].apply(add_sum_suffix)"
   ]
  },
  {
   "cell_type": "code",
   "execution_count": 16,
   "metadata": {
    "Collapsed": "false",
    "colab": {
     "base_uri": "https://localhost:8080/",
     "height": 285
    },
    "id": "qGIrmO7nkmj5",
    "outputId": "716a3c4e-e5c3-464c-fa60-7b50637930d1"
   },
   "outputs": [
    {
     "data": {
      "text/html": [
       "<div>\n",
       "<style scoped>\n",
       "    .dataframe tbody tr th:only-of-type {\n",
       "        vertical-align: middle;\n",
       "    }\n",
       "\n",
       "    .dataframe tbody tr th {\n",
       "        vertical-align: top;\n",
       "    }\n",
       "\n",
       "    .dataframe thead th {\n",
       "        text-align: right;\n",
       "    }\n",
       "</style>\n",
       "<table border=\"1\" class=\"dataframe\">\n",
       "  <thead>\n",
       "    <tr style=\"text-align: right;\">\n",
       "      <th></th>\n",
       "      <th>review</th>\n",
       "      <th>review_summary</th>\n",
       "      <th>review_summary_suffixed</th>\n",
       "    </tr>\n",
       "  </thead>\n",
       "  <tbody>\n",
       "    <tr>\n",
       "      <th>9048</th>\n",
       "      <td>From arrival at check in, where we had great s...</td>\n",
       "      <td>Excellent hotel</td>\n",
       "      <td>excellent_sum hotel_sum</td>\n",
       "    </tr>\n",
       "    <tr>\n",
       "      <th>1219</th>\n",
       "      <td>After 3 hours waiting for chosen room booked o...</td>\n",
       "      <td>Don't bother with online check-in</td>\n",
       "      <td>don_sum t_sum bother_sum with_sum online_sum c...</td>\n",
       "    </tr>\n",
       "    <tr>\n",
       "      <th>6901</th>\n",
       "      <td>The hotel is very well located five minutes wa...</td>\n",
       "      <td>Great location, cozy bar, good service</td>\n",
       "      <td>great_sum location_sum cozy_sum bar_sum good_s...</td>\n",
       "    </tr>\n",
       "    <tr>\n",
       "      <th>5466</th>\n",
       "      <td>We stayed here a total of 3 nights in April 20...</td>\n",
       "      <td>London base for land tour with Globus</td>\n",
       "      <td>london_sum base_sum for_sum land_sum tour_sum ...</td>\n",
       "    </tr>\n",
       "    <tr>\n",
       "      <th>6107</th>\n",
       "      <td>We recently stayed at Hilton Gatwick south ter...</td>\n",
       "      <td>Pre and post holiday stays</td>\n",
       "      <td>pre_sum and_sum post_sum holiday_sum stays_sum</td>\n",
       "    </tr>\n",
       "  </tbody>\n",
       "</table>\n",
       "</div>"
      ],
      "text/plain": [
       "                                                 review  \\\n",
       "9048  From arrival at check in, where we had great s...   \n",
       "1219  After 3 hours waiting for chosen room booked o...   \n",
       "6901  The hotel is very well located five minutes wa...   \n",
       "5466  We stayed here a total of 3 nights in April 20...   \n",
       "6107  We recently stayed at Hilton Gatwick south ter...   \n",
       "\n",
       "                              review_summary  \\\n",
       "9048                         Excellent hotel   \n",
       "1219       Don't bother with online check-in   \n",
       "6901  Great location, cozy bar, good service   \n",
       "5466   London base for land tour with Globus   \n",
       "6107              Pre and post holiday stays   \n",
       "\n",
       "                                review_summary_suffixed  \n",
       "9048                           excellent_sum hotel_sum   \n",
       "1219  don_sum t_sum bother_sum with_sum online_sum c...  \n",
       "6901  great_sum location_sum cozy_sum bar_sum good_s...  \n",
       "5466  london_sum base_sum for_sum land_sum tour_sum ...  \n",
       "6107    pre_sum and_sum post_sum holiday_sum stays_sum   "
      ]
     },
     "execution_count": 16,
     "metadata": {},
     "output_type": "execute_result"
    }
   ],
   "source": [
    "x_train.head()"
   ]
  },
  {
   "cell_type": "markdown",
   "metadata": {
    "Collapsed": "false",
    "id": "BuRN7tyikmj5"
   },
   "source": [
    "## 5.5 Removing Punctuation and Tokenizing Review Column"
   ]
  },
  {
   "cell_type": "code",
   "execution_count": 17,
   "metadata": {
    "Collapsed": "false",
    "id": "Za8f35gbkmj7"
   },
   "outputs": [],
   "source": [
    "x_train['review_cleaned'] = x_train['review'].apply(text_cleanup)\n",
    "x_test['review_cleaned'] = x_test['review'].apply(text_cleanup)"
   ]
  },
  {
   "cell_type": "code",
   "execution_count": 18,
   "metadata": {
    "Collapsed": "false",
    "colab": {
     "base_uri": "https://localhost:8080/",
     "height": 285
    },
    "id": "VN9gfF4ykmj8",
    "outputId": "c8153ba6-4f49-4aeb-8b68-19c84f0c87bb"
   },
   "outputs": [
    {
     "data": {
      "text/html": [
       "<div>\n",
       "<style scoped>\n",
       "    .dataframe tbody tr th:only-of-type {\n",
       "        vertical-align: middle;\n",
       "    }\n",
       "\n",
       "    .dataframe tbody tr th {\n",
       "        vertical-align: top;\n",
       "    }\n",
       "\n",
       "    .dataframe thead th {\n",
       "        text-align: right;\n",
       "    }\n",
       "</style>\n",
       "<table border=\"1\" class=\"dataframe\">\n",
       "  <thead>\n",
       "    <tr style=\"text-align: right;\">\n",
       "      <th></th>\n",
       "      <th>review</th>\n",
       "      <th>review_summary</th>\n",
       "      <th>review_summary_suffixed</th>\n",
       "      <th>review_cleaned</th>\n",
       "    </tr>\n",
       "  </thead>\n",
       "  <tbody>\n",
       "    <tr>\n",
       "      <th>9048</th>\n",
       "      <td>From arrival at check in, where we had great s...</td>\n",
       "      <td>Excellent hotel</td>\n",
       "      <td>excellent_sum hotel_sum</td>\n",
       "      <td>from arrival at check in where we had great se...</td>\n",
       "    </tr>\n",
       "    <tr>\n",
       "      <th>1219</th>\n",
       "      <td>After 3 hours waiting for chosen room booked o...</td>\n",
       "      <td>Don't bother with online check-in</td>\n",
       "      <td>don_sum t_sum bother_sum with_sum online_sum c...</td>\n",
       "      <td>after hours waiting for chosen room booked onl...</td>\n",
       "    </tr>\n",
       "    <tr>\n",
       "      <th>6901</th>\n",
       "      <td>The hotel is very well located five minutes wa...</td>\n",
       "      <td>Great location, cozy bar, good service</td>\n",
       "      <td>great_sum location_sum cozy_sum bar_sum good_s...</td>\n",
       "      <td>the hotel is very well located five minutes wa...</td>\n",
       "    </tr>\n",
       "    <tr>\n",
       "      <th>5466</th>\n",
       "      <td>We stayed here a total of 3 nights in April 20...</td>\n",
       "      <td>London base for land tour with Globus</td>\n",
       "      <td>london_sum base_sum for_sum land_sum tour_sum ...</td>\n",
       "      <td>we stayed here a total of nights in april the ...</td>\n",
       "    </tr>\n",
       "    <tr>\n",
       "      <th>6107</th>\n",
       "      <td>We recently stayed at Hilton Gatwick south ter...</td>\n",
       "      <td>Pre and post holiday stays</td>\n",
       "      <td>pre_sum and_sum post_sum holiday_sum stays_sum</td>\n",
       "      <td>we recently stayed at hilton gatwick south ter...</td>\n",
       "    </tr>\n",
       "  </tbody>\n",
       "</table>\n",
       "</div>"
      ],
      "text/plain": [
       "                                                 review  \\\n",
       "9048  From arrival at check in, where we had great s...   \n",
       "1219  After 3 hours waiting for chosen room booked o...   \n",
       "6901  The hotel is very well located five minutes wa...   \n",
       "5466  We stayed here a total of 3 nights in April 20...   \n",
       "6107  We recently stayed at Hilton Gatwick south ter...   \n",
       "\n",
       "                              review_summary  \\\n",
       "9048                         Excellent hotel   \n",
       "1219       Don't bother with online check-in   \n",
       "6901  Great location, cozy bar, good service   \n",
       "5466   London base for land tour with Globus   \n",
       "6107              Pre and post holiday stays   \n",
       "\n",
       "                                review_summary_suffixed  \\\n",
       "9048                           excellent_sum hotel_sum    \n",
       "1219  don_sum t_sum bother_sum with_sum online_sum c...   \n",
       "6901  great_sum location_sum cozy_sum bar_sum good_s...   \n",
       "5466  london_sum base_sum for_sum land_sum tour_sum ...   \n",
       "6107    pre_sum and_sum post_sum holiday_sum stays_sum    \n",
       "\n",
       "                                         review_cleaned  \n",
       "9048  from arrival at check in where we had great se...  \n",
       "1219  after hours waiting for chosen room booked onl...  \n",
       "6901  the hotel is very well located five minutes wa...  \n",
       "5466  we stayed here a total of nights in april the ...  \n",
       "6107  we recently stayed at hilton gatwick south ter...  "
      ]
     },
     "execution_count": 18,
     "metadata": {},
     "output_type": "execute_result"
    }
   ],
   "source": [
    "x_train.head()"
   ]
  },
  {
   "cell_type": "markdown",
   "metadata": {
    "Collapsed": "false",
    "id": "d4sH132skmj9"
   },
   "source": [
    "## 5.6 Creating a Dictionary With Words That Appear in Reviews and an Index"
   ]
  },
  {
   "cell_type": "markdown",
   "metadata": {
    "Collapsed": "false",
    "id": "4ItTINbwkmj9"
   },
   "source": [
    "I created an index for each word in the training review dataset, so when passed through the embedding layer of the neural network there is an indexed number associated with each word."
   ]
  },
  {
   "cell_type": "code",
   "execution_count": 19,
   "metadata": {
    "Collapsed": "false",
    "id": "enLERn-3kmj-"
   },
   "outputs": [],
   "source": [
    "flat_review = \" \".join(x_train['review_cleaned'].values)\n",
    "flat_review = flat_review.lower().split()"
   ]
  },
  {
   "cell_type": "code",
   "execution_count": 20,
   "metadata": {
    "Collapsed": "false",
    "colab": {
     "base_uri": "https://localhost:8080/"
    },
    "id": "FTLwUHiJkmj-",
    "outputId": "a71f0695-a0a7-4eb3-9f54-38238fa35823"
   },
   "outputs": [
    {
     "data": {
      "text/plain": [
       "733061"
      ]
     },
     "execution_count": 20,
     "metadata": {},
     "output_type": "execute_result"
    }
   ],
   "source": [
    "len(flat_review)"
   ]
  },
  {
   "cell_type": "code",
   "execution_count": 21,
   "metadata": {
    "Collapsed": "false",
    "id": "cqSkPpUDkmj-"
   },
   "outputs": [],
   "source": [
    "flat_review_summary = \" \".join(x_train['review_summary_suffixed'].values)\n",
    "flat_review_summary = flat_review_summary.lower().split()"
   ]
  },
  {
   "cell_type": "code",
   "execution_count": 22,
   "metadata": {
    "Collapsed": "false",
    "id": "i38xhXFEkmj_"
   },
   "outputs": [],
   "source": [
    "unique_list = []\n",
    "for word in flat_review:\n",
    "    if word not in unique_list:\n",
    "        unique_list.append(word)\n",
    "for word in flat_review_summary:\n",
    "    if word not in unique_list:\n",
    "        unique_list.append(word)"
   ]
  },
  {
   "cell_type": "code",
   "execution_count": 23,
   "metadata": {
    "Collapsed": "false",
    "colab": {
     "base_uri": "https://localhost:8080/"
    },
    "id": "SFUNUDJJkmj_",
    "outputId": "444ac2c3-458f-4cde-b884-9889183bb1a0"
   },
   "outputs": [
    {
     "data": {
      "text/plain": [
       "17313"
      ]
     },
     "execution_count": 23,
     "metadata": {},
     "output_type": "execute_result"
    }
   ],
   "source": [
    "len(unique_list)"
   ]
  },
  {
   "cell_type": "code",
   "execution_count": 24,
   "metadata": {
    "Collapsed": "false",
    "id": "Cq58CHWTkmj_"
   },
   "outputs": [],
   "source": [
    "word_index_dict = {}\n",
    "for i in range(0,len(unique_list)):\n",
    "    word_index_dict[unique_list[i]] = i\n",
    "    "
   ]
  },
  {
   "cell_type": "markdown",
   "metadata": {
    "Collapsed": "false",
    "id": "YLZExpwIkmkA"
   },
   "source": [
    "I added 4 other items to the dictionary that represented padding, the start of the review, unknown words, and unused words."
   ]
  },
  {
   "cell_type": "code",
   "execution_count": 25,
   "metadata": {
    "Collapsed": "false",
    "id": "TdhYgCKckmkA"
   },
   "outputs": [],
   "source": [
    "word_index_dict = {k:(v+4) for k,v in word_index_dict.items()}\n",
    "word_index_dict['<PAD>'] = 0\n",
    "word_index_dict['<START>'] = 1\n",
    "word_index_dict['<UNK>'] = 2\n",
    "word_index_dict['<UNUSED>'] = 3"
   ]
  },
  {
   "cell_type": "markdown",
   "metadata": {
    "Collapsed": "false",
    "id": "1M8IQMD1kmkA"
   },
   "source": [
    "## 5.7 Indexing Words in Reviews Using Dictionary"
   ]
  },
  {
   "cell_type": "code",
   "execution_count": 26,
   "metadata": {
    "Collapsed": "false",
    "id": "xbN_T-NVkmkA"
   },
   "outputs": [],
   "source": [
    "def index_review_words(text):\n",
    "    review_word_list = []\n",
    "    for word in text.lower().split():\n",
    "        if word in word_index_dict.keys():\n",
    "            review_word_list.append(word_index_dict[word])\n",
    "        else:\n",
    "            review_word_list.append(word_index_dict['<UNK>'])\n",
    "\n",
    "    return review_word_list "
   ]
  },
  {
   "cell_type": "code",
   "execution_count": 27,
   "metadata": {
    "Collapsed": "false",
    "id": "m83s3ueJkmkB"
   },
   "outputs": [],
   "source": [
    "x_train['preprocessed_review'] = x_train['review_cleaned'].apply(index_review_words)\n",
    "x_test['preprocessed_review'] = x_test['review_cleaned'].apply(index_review_words)"
   ]
  },
  {
   "cell_type": "code",
   "execution_count": 28,
   "metadata": {
    "Collapsed": "false",
    "id": "KmAirR17kmkB"
   },
   "outputs": [],
   "source": [
    "x_train['preprocessed_review_summary'] = x_train['review_summary_suffixed'].apply(index_review_words)\n",
    "x_test['preprocessed_review_summary'] = x_test['review_summary_suffixed'].apply(index_review_words)"
   ]
  },
  {
   "cell_type": "code",
   "execution_count": 29,
   "metadata": {
    "Collapsed": "false",
    "colab": {
     "base_uri": "https://localhost:8080/",
     "height": 823
    },
    "id": "6FiAg7EskmkB",
    "outputId": "4a67b076-a276-4800-ab92-4f42dc2b5770"
   },
   "outputs": [
    {
     "data": {
      "text/html": [
       "<div>\n",
       "<style scoped>\n",
       "    .dataframe tbody tr th:only-of-type {\n",
       "        vertical-align: middle;\n",
       "    }\n",
       "\n",
       "    .dataframe tbody tr th {\n",
       "        vertical-align: top;\n",
       "    }\n",
       "\n",
       "    .dataframe thead th {\n",
       "        text-align: right;\n",
       "    }\n",
       "</style>\n",
       "<table border=\"1\" class=\"dataframe\">\n",
       "  <thead>\n",
       "    <tr style=\"text-align: right;\">\n",
       "      <th></th>\n",
       "      <th>review</th>\n",
       "      <th>review_summary</th>\n",
       "      <th>review_summary_suffixed</th>\n",
       "      <th>review_cleaned</th>\n",
       "      <th>preprocessed_review</th>\n",
       "      <th>preprocessed_review_summary</th>\n",
       "    </tr>\n",
       "  </thead>\n",
       "  <tbody>\n",
       "    <tr>\n",
       "      <th>9048</th>\n",
       "      <td>From arrival at check in, where we had great s...</td>\n",
       "      <td>Excellent hotel</td>\n",
       "      <td>excellent_sum hotel_sum</td>\n",
       "      <td>from arrival at check in where we had great se...</td>\n",
       "      <td>[4, 5, 6, 7, 8, 9, 10, 11, 12, 13, 14, 15, 16,...</td>\n",
       "      <td>[14416, 14417]</td>\n",
       "    </tr>\n",
       "    <tr>\n",
       "      <th>1219</th>\n",
       "      <td>After 3 hours waiting for chosen room booked o...</td>\n",
       "      <td>Don't bother with online check-in</td>\n",
       "      <td>don_sum t_sum bother_sum with_sum online_sum c...</td>\n",
       "      <td>after hours waiting for chosen room booked onl...</td>\n",
       "      <td>[61, 62, 63, 64, 65, 42, 66, 67, 68, 69, 39, 7...</td>\n",
       "      <td>[14418, 14419, 14420, 14421, 14422, 14423, 14424]</td>\n",
       "    </tr>\n",
       "    <tr>\n",
       "      <th>6901</th>\n",
       "      <td>The hotel is very well located five minutes wa...</td>\n",
       "      <td>Great location, cozy bar, good service</td>\n",
       "      <td>great_sum location_sum cozy_sum bar_sum good_s...</td>\n",
       "      <td>the hotel is very well located five minutes wa...</td>\n",
       "      <td>[33, 60, 111, 19, 112, 113, 114, 115, 116, 4, ...</td>\n",
       "      <td>[14425, 14426, 14427, 14428, 14429, 14430]</td>\n",
       "    </tr>\n",
       "    <tr>\n",
       "      <th>5466</th>\n",
       "      <td>We stayed here a total of 3 nights in April 20...</td>\n",
       "      <td>London base for land tour with Globus</td>\n",
       "      <td>london_sum base_sum for_sum land_sum tour_sum ...</td>\n",
       "      <td>we stayed here a total of nights in april the ...</td>\n",
       "      <td>[10, 144, 145, 22, 146, 25, 147, 8, 148, 33, 7...</td>\n",
       "      <td>[14431, 14432, 14433, 14434, 14435, 14421, 14436]</td>\n",
       "    </tr>\n",
       "    <tr>\n",
       "      <th>6107</th>\n",
       "      <td>We recently stayed at Hilton Gatwick south ter...</td>\n",
       "      <td>Pre and post holiday stays</td>\n",
       "      <td>pre_sum and_sum post_sum holiday_sum stays_sum</td>\n",
       "      <td>we recently stayed at hilton gatwick south ter...</td>\n",
       "      <td>[10, 172, 144, 6, 173, 174, 175, 176, 33, 49, ...</td>\n",
       "      <td>[14437, 14438, 14439, 14440, 14441]</td>\n",
       "    </tr>\n",
       "  </tbody>\n",
       "</table>\n",
       "</div>"
      ],
      "text/plain": [
       "                                                 review  \\\n",
       "9048  From arrival at check in, where we had great s...   \n",
       "1219  After 3 hours waiting for chosen room booked o...   \n",
       "6901  The hotel is very well located five minutes wa...   \n",
       "5466  We stayed here a total of 3 nights in April 20...   \n",
       "6107  We recently stayed at Hilton Gatwick south ter...   \n",
       "\n",
       "                              review_summary  \\\n",
       "9048                         Excellent hotel   \n",
       "1219       Don't bother with online check-in   \n",
       "6901  Great location, cozy bar, good service   \n",
       "5466   London base for land tour with Globus   \n",
       "6107              Pre and post holiday stays   \n",
       "\n",
       "                                review_summary_suffixed  \\\n",
       "9048                           excellent_sum hotel_sum    \n",
       "1219  don_sum t_sum bother_sum with_sum online_sum c...   \n",
       "6901  great_sum location_sum cozy_sum bar_sum good_s...   \n",
       "5466  london_sum base_sum for_sum land_sum tour_sum ...   \n",
       "6107    pre_sum and_sum post_sum holiday_sum stays_sum    \n",
       "\n",
       "                                         review_cleaned  \\\n",
       "9048  from arrival at check in where we had great se...   \n",
       "1219  after hours waiting for chosen room booked onl...   \n",
       "6901  the hotel is very well located five minutes wa...   \n",
       "5466  we stayed here a total of nights in april the ...   \n",
       "6107  we recently stayed at hilton gatwick south ter...   \n",
       "\n",
       "                                    preprocessed_review  \\\n",
       "9048  [4, 5, 6, 7, 8, 9, 10, 11, 12, 13, 14, 15, 16,...   \n",
       "1219  [61, 62, 63, 64, 65, 42, 66, 67, 68, 69, 39, 7...   \n",
       "6901  [33, 60, 111, 19, 112, 113, 114, 115, 116, 4, ...   \n",
       "5466  [10, 144, 145, 22, 146, 25, 147, 8, 148, 33, 7...   \n",
       "6107  [10, 172, 144, 6, 173, 174, 175, 176, 33, 49, ...   \n",
       "\n",
       "                            preprocessed_review_summary  \n",
       "9048                                     [14416, 14417]  \n",
       "1219  [14418, 14419, 14420, 14421, 14422, 14423, 14424]  \n",
       "6901         [14425, 14426, 14427, 14428, 14429, 14430]  \n",
       "5466  [14431, 14432, 14433, 14434, 14435, 14421, 14436]  \n",
       "6107                [14437, 14438, 14439, 14440, 14441]  "
      ]
     },
     "execution_count": 29,
     "metadata": {},
     "output_type": "execute_result"
    }
   ],
   "source": [
    "x_train.head()"
   ]
  },
  {
   "cell_type": "markdown",
   "metadata": {
    "Collapsed": "false",
    "id": "XOa9LwSIkmkB"
   },
   "source": [
    "## 5.8 Combining Indexed Review Summary and Indexed Review Into a Single Column Called All Preprocessed Review"
   ]
  },
  {
   "cell_type": "code",
   "execution_count": 30,
   "metadata": {
    "Collapsed": "false",
    "id": "LRkxOoFQkmkC"
   },
   "outputs": [],
   "source": [
    "x_train['all_preprocessed_review'] = x_train['preprocessed_review'] + x_train['preprocessed_review_summary']\n",
    "x_test['all_preprocessed_review'] = x_test['preprocessed_review'] + x_test['preprocessed_review_summary']"
   ]
  },
  {
   "cell_type": "markdown",
   "metadata": {
    "Collapsed": "false",
    "id": "7KaF2AH2kmkC"
   },
   "source": [
    "## 5.9 Modelling"
   ]
  },
  {
   "cell_type": "markdown",
   "metadata": {
    "Collapsed": "false",
    "id": "8y0xkgyhkmkF"
   },
   "source": [
    "### 5.9.1 Add Padding to Reviews and Capping Reviews to Length 250 Words"
   ]
  },
  {
   "cell_type": "code",
   "execution_count": 31,
   "metadata": {
    "Collapsed": "false",
    "id": "l3Yyeq1tkmkF"
   },
   "outputs": [],
   "source": [
    "x_train = sequence.pad_sequences(x_train['all_preprocessed_review'],value=word_index_dict['<PAD>'],padding='post',maxlen=250)\n",
    "x_test = sequence.pad_sequences(x_test['all_preprocessed_review'],value=word_index_dict['<PAD>'],padding='post',maxlen=250)"
   ]
  },
  {
   "cell_type": "markdown",
   "metadata": {
    "Collapsed": "false",
    "id": "Dg497jdfkmkG"
   },
   "source": [
    "### 5.9.2 Saving Neural Network Preprocessed x Data"
   ]
  },
  {
   "cell_type": "markdown",
   "metadata": {
    "Collapsed": "false",
    "id": "FeK5uGbDkmkH"
   },
   "source": [
    "### 5.9.3 Creating and Training Neural Network Model"
   ]
  },
  {
   "cell_type": "markdown",
   "metadata": {
    "Collapsed": "false",
    "id": "TQ16datukmkH"
   },
   "source": [
    "Here I created a neural network model with 1 embedding layer for the 17317 unique words (including the extra 4 from padding etc.), 1 dense layer with 16 nodes, and one output layer with 5 nodes for each score."
   ]
  },
  {
   "cell_type": "code",
   "execution_count": 32,
   "metadata": {
    "Collapsed": "false",
    "id": "uYBFvEZ8kmkI"
   },
   "outputs": [],
   "source": [
    "model = Sequential()\n",
    "model.add(Embedding(17317,16))\n",
    "model.add(GlobalAveragePooling1D())\n",
    "model.add(Dense(16,activation='relu'))\n",
    "model.add(Dense(5,activation='sigmoid'))"
   ]
  },
  {
   "cell_type": "code",
   "execution_count": 33,
   "metadata": {
    "Collapsed": "false",
    "id": "9vQubjxQkmkK"
   },
   "outputs": [],
   "source": [
    "model.compile(optimizer='adam',loss='categorical_crossentropy',metrics=['accuracy'])"
   ]
  },
  {
   "cell_type": "markdown",
   "metadata": {},
   "source": [
    "## **Split the Data agin in train and validation part**"
   ]
  },
  {
   "cell_type": "code",
   "execution_count": 34,
   "metadata": {
    "Collapsed": "false",
    "id": "jcvoVpr9kmkL"
   },
   "outputs": [],
   "source": [
    "x_train, x_val, y_train, y_val = train_test_split(x_train,y_train,test_size=.2,random_state=42)"
   ]
  },
  {
   "cell_type": "code",
   "execution_count": 35,
   "metadata": {
    "Collapsed": "false",
    "colab": {
     "base_uri": "https://localhost:8080/"
    },
    "id": "LRjWRVhmkmkP",
    "outputId": "2463c083-53d5-448d-89aa-41325636c3d4"
   },
   "outputs": [
    {
     "name": "stdout",
     "output_type": "stream",
     "text": [
      "Epoch 1/60\n",
      "25/25 [==============================] - 3s 75ms/step - loss: 1.6089 - accuracy: 0.1934 - val_loss: 1.6070 - val_accuracy: 0.2997\n",
      "Epoch 2/60\n",
      "25/25 [==============================] - 0s 17ms/step - loss: 1.6061 - accuracy: 0.3015 - val_loss: 1.6039 - val_accuracy: 0.3163\n",
      "Epoch 3/60\n",
      "25/25 [==============================] - 0s 19ms/step - loss: 1.6024 - accuracy: 0.3200 - val_loss: 1.5978 - val_accuracy: 0.3169\n",
      "Epoch 4/60\n",
      "25/25 [==============================] - 0s 17ms/step - loss: 1.5958 - accuracy: 0.3187 - val_loss: 1.5875 - val_accuracy: 0.3196\n",
      "Epoch 5/60\n",
      "25/25 [==============================] - 0s 17ms/step - loss: 1.5847 - accuracy: 0.3168 - val_loss: 1.5715 - val_accuracy: 0.3249\n",
      "Epoch 6/60\n",
      "25/25 [==============================] - 0s 17ms/step - loss: 1.5672 - accuracy: 0.3365 - val_loss: 1.5484 - val_accuracy: 0.3316\n",
      "Epoch 7/60\n",
      "25/25 [==============================] - 0s 17ms/step - loss: 1.5421 - accuracy: 0.3405 - val_loss: 1.5196 - val_accuracy: 0.3422\n",
      "Epoch 8/60\n",
      "25/25 [==============================] - 0s 17ms/step - loss: 1.5133 - accuracy: 0.3472 - val_loss: 1.4861 - val_accuracy: 0.3468\n",
      "Epoch 9/60\n",
      "25/25 [==============================] - 0s 17ms/step - loss: 1.4749 - accuracy: 0.3608 - val_loss: 1.4496 - val_accuracy: 0.3588\n",
      "Epoch 10/60\n",
      "25/25 [==============================] - 0s 17ms/step - loss: 1.4406 - accuracy: 0.3693 - val_loss: 1.4098 - val_accuracy: 0.3654\n",
      "Epoch 11/60\n",
      "25/25 [==============================] - 0s 17ms/step - loss: 1.3927 - accuracy: 0.3919 - val_loss: 1.3700 - val_accuracy: 0.3894\n",
      "Epoch 12/60\n",
      "25/25 [==============================] - 0s 17ms/step - loss: 1.3481 - accuracy: 0.4177 - val_loss: 1.3293 - val_accuracy: 0.4073\n",
      "Epoch 13/60\n",
      "25/25 [==============================] - 0s 17ms/step - loss: 1.3091 - accuracy: 0.4245 - val_loss: 1.2911 - val_accuracy: 0.4213\n",
      "Epoch 14/60\n",
      "25/25 [==============================] - 0s 17ms/step - loss: 1.2590 - accuracy: 0.4424 - val_loss: 1.2553 - val_accuracy: 0.4458\n",
      "Epoch 15/60\n",
      "25/25 [==============================] - 0s 17ms/step - loss: 1.2183 - accuracy: 0.4718 - val_loss: 1.2240 - val_accuracy: 0.4498\n",
      "Epoch 16/60\n",
      "25/25 [==============================] - 0s 17ms/step - loss: 1.1779 - accuracy: 0.4757 - val_loss: 1.1964 - val_accuracy: 0.4671\n",
      "Epoch 17/60\n",
      "25/25 [==============================] - 0s 17ms/step - loss: 1.1554 - accuracy: 0.4967 - val_loss: 1.1724 - val_accuracy: 0.4757\n",
      "Epoch 18/60\n",
      "25/25 [==============================] - 1s 20ms/step - loss: 1.1191 - accuracy: 0.5141 - val_loss: 1.1517 - val_accuracy: 0.4890\n",
      "Epoch 19/60\n",
      "25/25 [==============================] - 0s 17ms/step - loss: 1.0827 - accuracy: 0.5368 - val_loss: 1.1331 - val_accuracy: 0.4937\n",
      "Epoch 20/60\n",
      "25/25 [==============================] - 0s 17ms/step - loss: 1.0602 - accuracy: 0.5430 - val_loss: 1.1149 - val_accuracy: 0.5010\n",
      "Epoch 21/60\n",
      "25/25 [==============================] - 0s 17ms/step - loss: 1.0410 - accuracy: 0.5552 - val_loss: 1.1007 - val_accuracy: 0.5070\n",
      "Epoch 22/60\n",
      "25/25 [==============================] - 0s 17ms/step - loss: 1.0139 - accuracy: 0.5907 - val_loss: 1.0861 - val_accuracy: 0.5116\n",
      "Epoch 23/60\n",
      "25/25 [==============================] - 0s 17ms/step - loss: 0.9894 - accuracy: 0.5746 - val_loss: 1.0742 - val_accuracy: 0.5262\n",
      "Epoch 24/60\n",
      "25/25 [==============================] - 0s 17ms/step - loss: 0.9738 - accuracy: 0.5927 - val_loss: 1.0633 - val_accuracy: 0.5269\n",
      "Epoch 25/60\n",
      "25/25 [==============================] - 0s 17ms/step - loss: 0.9528 - accuracy: 0.6094 - val_loss: 1.0555 - val_accuracy: 0.5203\n",
      "Epoch 26/60\n",
      "25/25 [==============================] - 0s 17ms/step - loss: 0.9387 - accuracy: 0.6000 - val_loss: 1.0463 - val_accuracy: 0.5236\n",
      "Epoch 27/60\n",
      "25/25 [==============================] - 0s 18ms/step - loss: 0.9176 - accuracy: 0.6297 - val_loss: 1.0378 - val_accuracy: 0.5336\n",
      "Epoch 28/60\n",
      "25/25 [==============================] - 0s 17ms/step - loss: 0.9050 - accuracy: 0.6476 - val_loss: 1.0304 - val_accuracy: 0.5362\n",
      "Epoch 29/60\n",
      "25/25 [==============================] - 0s 17ms/step - loss: 0.8873 - accuracy: 0.6421 - val_loss: 1.0238 - val_accuracy: 0.5382\n",
      "Epoch 30/60\n",
      "25/25 [==============================] - 0s 17ms/step - loss: 0.8698 - accuracy: 0.6637 - val_loss: 1.0192 - val_accuracy: 0.5349\n",
      "Epoch 31/60\n",
      "25/25 [==============================] - 0s 17ms/step - loss: 0.8593 - accuracy: 0.6659 - val_loss: 1.0125 - val_accuracy: 0.5442\n",
      "Epoch 32/60\n",
      "25/25 [==============================] - 0s 17ms/step - loss: 0.8475 - accuracy: 0.6589 - val_loss: 1.0085 - val_accuracy: 0.5342\n",
      "Epoch 33/60\n",
      "25/25 [==============================] - 0s 17ms/step - loss: 0.8291 - accuracy: 0.6823 - val_loss: 1.0032 - val_accuracy: 0.5395\n",
      "Epoch 34/60\n",
      "25/25 [==============================] - 0s 17ms/step - loss: 0.8160 - accuracy: 0.6867 - val_loss: 1.0032 - val_accuracy: 0.5375\n",
      "Epoch 35/60\n",
      "25/25 [==============================] - 0s 16ms/step - loss: 0.8060 - accuracy: 0.6846 - val_loss: 0.9990 - val_accuracy: 0.5435\n",
      "Epoch 36/60\n",
      "25/25 [==============================] - 0s 17ms/step - loss: 0.7894 - accuracy: 0.6911 - val_loss: 0.9935 - val_accuracy: 0.5422\n",
      "Epoch 37/60\n",
      "25/25 [==============================] - 0s 17ms/step - loss: 0.7889 - accuracy: 0.6963 - val_loss: 0.9889 - val_accuracy: 0.5561\n",
      "Epoch 38/60\n",
      "25/25 [==============================] - 0s 18ms/step - loss: 0.7594 - accuracy: 0.7142 - val_loss: 0.9868 - val_accuracy: 0.5455\n",
      "Epoch 39/60\n",
      "25/25 [==============================] - 0s 19ms/step - loss: 0.7574 - accuracy: 0.7151 - val_loss: 0.9881 - val_accuracy: 0.5502\n",
      "Epoch 40/60\n",
      "25/25 [==============================] - 0s 18ms/step - loss: 0.7339 - accuracy: 0.7251 - val_loss: 0.9865 - val_accuracy: 0.5482\n",
      "Epoch 41/60\n",
      "25/25 [==============================] - 0s 17ms/step - loss: 0.7311 - accuracy: 0.7331 - val_loss: 0.9819 - val_accuracy: 0.5635\n",
      "Epoch 42/60\n",
      "25/25 [==============================] - 0s 17ms/step - loss: 0.7211 - accuracy: 0.7339 - val_loss: 0.9785 - val_accuracy: 0.5581\n",
      "Epoch 43/60\n",
      "25/25 [==============================] - 0s 17ms/step - loss: 0.6974 - accuracy: 0.7371 - val_loss: 0.9801 - val_accuracy: 0.5548\n",
      "Epoch 44/60\n",
      "25/25 [==============================] - 0s 17ms/step - loss: 0.7020 - accuracy: 0.7341 - val_loss: 0.9777 - val_accuracy: 0.5628\n",
      "Epoch 45/60\n",
      "25/25 [==============================] - 0s 16ms/step - loss: 0.6860 - accuracy: 0.7505 - val_loss: 0.9774 - val_accuracy: 0.5615\n",
      "Epoch 46/60\n",
      "25/25 [==============================] - 0s 17ms/step - loss: 0.6818 - accuracy: 0.7515 - val_loss: 0.9794 - val_accuracy: 0.5608\n",
      "Epoch 47/60\n",
      "25/25 [==============================] - 0s 17ms/step - loss: 0.6583 - accuracy: 0.7604 - val_loss: 0.9779 - val_accuracy: 0.5601\n",
      "Epoch 48/60\n",
      "25/25 [==============================] - 0s 17ms/step - loss: 0.6566 - accuracy: 0.7665 - val_loss: 0.9788 - val_accuracy: 0.5601\n",
      "Epoch 49/60\n",
      "25/25 [==============================] - 0s 17ms/step - loss: 0.6465 - accuracy: 0.7675 - val_loss: 0.9800 - val_accuracy: 0.5581\n",
      "Epoch 50/60\n",
      "25/25 [==============================] - 0s 16ms/step - loss: 0.6325 - accuracy: 0.7775 - val_loss: 0.9811 - val_accuracy: 0.5621\n",
      "Epoch 51/60\n",
      "25/25 [==============================] - 0s 16ms/step - loss: 0.6215 - accuracy: 0.7812 - val_loss: 0.9843 - val_accuracy: 0.5581\n",
      "Epoch 52/60\n",
      "25/25 [==============================] - 0s 16ms/step - loss: 0.6140 - accuracy: 0.7841 - val_loss: 0.9837 - val_accuracy: 0.5608\n",
      "Epoch 53/60\n",
      "25/25 [==============================] - 0s 16ms/step - loss: 0.6088 - accuracy: 0.7919 - val_loss: 0.9843 - val_accuracy: 0.5595\n",
      "Epoch 54/60\n",
      "25/25 [==============================] - 0s 16ms/step - loss: 0.5956 - accuracy: 0.7927 - val_loss: 0.9894 - val_accuracy: 0.5601\n",
      "Epoch 55/60\n",
      "25/25 [==============================] - 0s 17ms/step - loss: 0.5945 - accuracy: 0.7946 - val_loss: 0.9893 - val_accuracy: 0.5635\n",
      "Epoch 56/60\n",
      "25/25 [==============================] - 0s 16ms/step - loss: 0.5868 - accuracy: 0.8041 - val_loss: 0.9928 - val_accuracy: 0.5621\n",
      "Epoch 57/60\n",
      "25/25 [==============================] - 0s 17ms/step - loss: 0.5757 - accuracy: 0.7983 - val_loss: 0.9966 - val_accuracy: 0.5581\n",
      "Epoch 58/60\n",
      "25/25 [==============================] - 0s 17ms/step - loss: 0.5679 - accuracy: 0.8084 - val_loss: 0.9961 - val_accuracy: 0.5601\n"
     ]
    },
    {
     "name": "stdout",
     "output_type": "stream",
     "text": [
      "Epoch 59/60\n",
      "25/25 [==============================] - 0s 17ms/step - loss: 0.5623 - accuracy: 0.8120 - val_loss: 1.0020 - val_accuracy: 0.5621\n",
      "Epoch 60/60\n",
      "25/25 [==============================] - 0s 17ms/step - loss: 0.5468 - accuracy: 0.8217 - val_loss: 1.0017 - val_accuracy: 0.5575\n"
     ]
    }
   ],
   "source": [
    "fitModel = model.fit(x_train,y_train,epochs=60,batch_size=250,validation_data=(x_val,y_val),verbose=1)"
   ]
  },
  {
   "cell_type": "markdown",
   "metadata": {
    "Collapsed": "false",
    "id": "XIEyknp0kmkQ"
   },
   "source": [
    "## 5.10 Testing Model"
   ]
  },
  {
   "cell_type": "markdown",
   "metadata": {
    "Collapsed": "false",
    "id": "87nfmM5EkmkQ"
   },
   "source": [
    "After looking at accuracy scores for the validation data (0.5568) and the test data (0.5710), we can see the neural network model performs well."
   ]
  },
  {
   "cell_type": "markdown",
   "metadata": {},
   "source": [
    "### **Accuracy  for Validation Data**"
   ]
  },
  {
   "cell_type": "code",
   "execution_count": 36,
   "metadata": {
    "Collapsed": "false",
    "colab": {
     "base_uri": "https://localhost:8080/"
    },
    "id": "LV8QPOHfkmkR",
    "outputId": "936d41ab-ebb4-48a0-bf3e-9f4b6a6005e4"
   },
   "outputs": [
    {
     "name": "stdout",
     "output_type": "stream",
     "text": [
      "48/48 [==============================] - 0s 3ms/step - loss: 1.0017 - accuracy: 0.5575\n"
     ]
    },
    {
     "data": {
      "text/plain": [
       "[1.0016781091690063, 0.5574750900268555]"
      ]
     },
     "execution_count": 36,
     "metadata": {},
     "output_type": "execute_result"
    }
   ],
   "source": [
    "model.evaluate(x_val,y_val)"
   ]
  },
  {
   "cell_type": "code",
   "execution_count": 37,
   "metadata": {},
   "outputs": [],
   "source": [
    "y_valid_predicted = add_one_argmax_score(np.argmax(model.predict(x_val),axis=1))"
   ]
  },
  {
   "cell_type": "markdown",
   "metadata": {},
   "source": [
    "### **Accuracy for Test Data**"
   ]
  },
  {
   "cell_type": "code",
   "execution_count": 38,
   "metadata": {
    "Collapsed": "false",
    "colab": {
     "base_uri": "https://localhost:8080/"
    },
    "id": "xwRkwjx5kmka",
    "outputId": "9ec26cda-9701-4b38-87c2-64bb244da369"
   },
   "outputs": [
    {
     "name": "stdout",
     "output_type": "stream",
     "text": [
      "59/59 [==============================] - 0s 1ms/step - loss: 0.9651 - accuracy: 0.5875\n"
     ]
    },
    {
     "data": {
      "text/plain": [
       "[0.9651031494140625, 0.5874534845352173]"
      ]
     },
     "execution_count": 38,
     "metadata": {},
     "output_type": "execute_result"
    }
   ],
   "source": [
    "model.evaluate(x_test,y_test)"
   ]
  },
  {
   "cell_type": "code",
   "execution_count": 39,
   "metadata": {},
   "outputs": [],
   "source": [
    "y_test_predicted = add_one_argmax_score(np.argmax(model.predict(x_test),axis=1))"
   ]
  },
  {
   "cell_type": "code",
   "execution_count": 40,
   "metadata": {},
   "outputs": [],
   "source": [
    "reverse_encode(y_val)"
   ]
  },
  {
   "cell_type": "code",
   "execution_count": 41,
   "metadata": {},
   "outputs": [],
   "source": [
    "reverse_encode(y_test)"
   ]
  },
  {
   "cell_type": "code",
   "execution_count": 42,
   "metadata": {},
   "outputs": [],
   "source": [
    "valid = []\n",
    "another = []\n",
    "for i in y_val['score'].values:\n",
    "    if i in [0,1,2,3,4,5]:\n",
    "        valid.append(i)\n",
    "    else:\n",
    "        another.append(i)"
   ]
  },
  {
   "cell_type": "markdown",
   "metadata": {},
   "source": [
    "## **5.11.3 Creating Confusion Matrix for Validation Data**\n",
    "The confusion matrix looks better than it did for the previous classification model. I shall compare and discuss this in 6.Revaluation_and_Deployment notebook in further detail."
   ]
  },
  {
   "cell_type": "code",
   "execution_count": 51,
   "metadata": {},
   "outputs": [
    {
     "data": {
      "image/png": "[encoded data removed]",
      "text/plain": [
       "<Figure size 648x504 with 1 Axes>"
      ]
     },
     "metadata": {
      "needs_background": "light"
     },
     "output_type": "display_data"
    }
   ],
   "source": [
    "valid_cm = confusion_matrix(valid,y_valid_predicted )\n",
    "conf_matrix(valid_cm)"
   ]
  },
  {
   "cell_type": "markdown",
   "metadata": {},
   "source": [
    "## **Creating Confusion Matrix for Test Data**"
   ]
  },
  {
   "cell_type": "code",
   "execution_count": 52,
   "metadata": {},
   "outputs": [],
   "source": [
    "test = []\n",
    "another1 = []\n",
    "for i in y_test['score'].values:\n",
    "    if i in [0,1,2,3,4,5]:\n",
    "        test.append(i)\n",
    "    else:\n",
    "        another1.append(i)"
   ]
  },
  {
   "cell_type": "code",
   "execution_count": 53,
   "metadata": {},
   "outputs": [
    {
     "data": {
      "image/png": "[encoded data removed]",
      "text/plain": [
       "<Figure size 648x504 with 1 Axes>"
      ]
     },
     "metadata": {
      "needs_background": "light"
     },
     "output_type": "display_data"
    }
   ],
   "source": [
    "valid_cm = confusion_matrix(test,y_test_predicted )\n",
    "conf_matrix(valid_cm)"
   ]
  },
  {
   "cell_type": "markdown",
   "metadata": {},
   "source": [
    "## camparision Between Neural network and Machine Learning Models"
   ]
  },
  {
   "attachments": {
    "all%20model.PNG": {
     "image/png": "[encoded data removed]"
    }
   },
   "cell_type": "markdown",
   "metadata": {},
   "source": [
    "![all%20model.PNG](attachment:all%20model.PNG)"
   ]
  },
  {
   "cell_type": "markdown",
   "metadata": {},
   "source": [
    "\n",
    "The error is more contained with in adjacent scores with the neural network model. Almost zero confusion between extreme scores 1 and 5, and minimal confusion with scores 2 and 4. Although a score of 3 can be harder to predict, there is definitely an improvement from the Stacking model."
   ]
  },
  {
   "cell_type": "markdown",
   "metadata": {},
   "source": [
    "# **5.12 Deployment**\n",
    "## **5.12.1 Streamlit Application**\n",
    "\n",
    "I planned on future improvements being the addition of the neural network model and then creating an application for the model, so as a next step I decided to make a working application to test out new reviews using streamlit."
   ]
  },
  {
   "cell_type": "markdown",
   "metadata": {
    "Collapsed": "false",
    "id": "qE7tsMPekmkl"
   },
   "source": [
    "## 5.13 Saving Model\n"
   ]
  },
  {
   "cell_type": "code",
   "execution_count": 46,
   "metadata": {
    "Collapsed": "false",
    "id": "KXxuSAIBkmkl"
   },
   "outputs": [],
   "source": [
    "model.save('Models/Neural_Network.h5')"
   ]
  },
  {
   "cell_type": "code",
   "execution_count": 47,
   "metadata": {
    "Collapsed": "false",
    "id": "E2qtG-Bdkmkl"
   },
   "outputs": [],
   "source": [
    "pickle.dump(word_index_dict,open('Data/word_index_dict.pkl','wb'))"
   ]
  },
  {
   "cell_type": "markdown",
   "metadata": {},
   "source": [
    "\n",
    "\n"
   ]
  }
 ],
 "metadata": {
  "colab": {
   "name": "5.Neural_Network_Modelling.ipynb",
   "provenance": []
  },
  "kernelspec": {
   "display_name": "Python 3",
   "language": "python",
   "name": "python3"
  },
  "language_info": {
   "codemirror_mode": {
    "name": "ipython",
    "version": 3
   },
   "file_extension": ".py",
   "mimetype": "text/x-python",
   "name": "python",
   "nbconvert_exporter": "python",
   "pygments_lexer": "ipython3",
   "version": "3.8.5"
  }
 },
 "nbformat": 4,
 "nbformat_minor": 1
}
