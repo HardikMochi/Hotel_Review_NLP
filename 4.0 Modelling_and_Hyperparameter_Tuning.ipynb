{
 "cells": [
  {
   "cell_type": "markdown",
   "metadata": {
    "id": "-nQjEOh7rivh"
   },
   "source": [
    "## **3. Modelling and Hyperparameter Tuning**"
   ]
  },
  {
   "cell_type": "markdown",
   "metadata": {
    "id": "pVrdLwICrsgZ"
   },
   "source": [
    "## **3.1 Imports**"
   ]
  },
  {
   "cell_type": "code",
   "execution_count": 1,
   "metadata": {
    "id": "agoA52A_raAQ"
   },
   "outputs": [],
   "source": [
    "import pandas as pd\n",
    "import numpy as np\n",
    "import seaborn as sns\n",
    "import matplotlib.pyplot as plt\n",
    "from sklearn.model_selection import train_test_split, StratifiedKFold\n",
    "from Classification import Classification\n",
    "from Ensemble import Ensemble\n",
    "import pickle\n"
   ]
  },
  {
   "cell_type": "markdown",
   "metadata": {},
   "source": [
    "I have created .py files; Classifiction.py and Ensemble.py with classes, that contain functions to simplify the modelling process, and to neaten up the modelling notebook."
   ]
  },
  {
   "cell_type": "code",
   "execution_count": 2,
   "metadata": {
    "id": "bPhj2fOUr7a-"
   },
   "outputs": [],
   "source": [
    "\n",
    "x_train = pd.read_csv('Data/2.x_train_data.csv')\n",
    "y_train = pd.read_csv('Data/2.y_train_data.csv')\n",
    "\n",
    "x_test = pd.read_csv('Data/2.x_test_data.csv')\n",
    "y_test = pd.read_csv('Data/2.y_test_data.csv')"
   ]
  },
  {
   "cell_type": "code",
   "execution_count": 3,
   "metadata": {
    "colab": {
     "base_uri": "https://localhost:8080/"
    },
    "id": "w9aoLKAVtD4Q",
    "outputId": "9b1cb28d-caf9-408b-9260-504544f42d51"
   },
   "outputs": [
    {
     "name": "stdout",
     "output_type": "stream",
     "text": [
      "(14028, 155)\n",
      "(3508, 155)\n"
     ]
    }
   ],
   "source": [
    "print(x_train.shape)\n",
    "print(x_test.shape)"
   ]
  },
  {
   "cell_type": "code",
   "execution_count": 4,
   "metadata": {
    "id": "AHgrdkY_50YU"
   },
   "outputs": [],
   "source": [
    "x_train, x_val, y_train, y_val = train_test_split(x_train,y_train['score'],test_size=.25,random_state=42)"
   ]
  },
  {
   "cell_type": "code",
   "execution_count": 5,
   "metadata": {
    "id": "9HQdzs-658iq"
   },
   "outputs": [],
   "source": [
    "skf = StratifiedKFold(n_splits=5,random_state=42,shuffle=True)"
   ]
  },
  {
   "cell_type": "markdown",
   "metadata": {
    "id": "HLlfH5Ip6FGf"
   },
   "source": [
    "## **3.2 Decision Tree (Baselinne)**"
   ]
  },
  {
   "cell_type": "code",
   "execution_count": 17,
   "metadata": {
    "id": "XBQjb4sE77XM"
   },
   "outputs": [],
   "source": [
    "\n",
    "param_dist = {\"max_depth\": [3,5,8,10,12,15,18,21,25,27,30],\n",
    "              \"max_features\": [1,2,3,4,5,6,7,8,9],\n",
    "              \"min_samples_leaf\": [1,2,3,4,5,6,7,8,9],\n",
    "              \"criterion\": [\"gini\", \"entropy\"]}\n"
   ]
  },
  {
   "cell_type": "code",
   "execution_count": 18,
   "metadata": {
    "id": "PQH_OaLsGwgn"
   },
   "outputs": [],
   "source": [
    "params = {'min_samples_leaf':[3,5,10,],\n",
    "          'max_depth':[3,4,5,6,7]}"
   ]
  },
  {
   "cell_type": "code",
   "execution_count": 19,
   "metadata": {
    "colab": {
     "base_uri": "https://localhost:8080/",
     "height": 272
    },
    "id": "esdFIouH6G2E",
    "outputId": "1b5bbac3-6801-450f-eb7b-406eb46f69e0"
   },
   "outputs": [
    {
     "data": {
      "text/html": [
       "<div>\n",
       "<style scoped>\n",
       "    .dataframe tbody tr th:only-of-type {\n",
       "        vertical-align: middle;\n",
       "    }\n",
       "\n",
       "    .dataframe tbody tr th {\n",
       "        vertical-align: top;\n",
       "    }\n",
       "\n",
       "    .dataframe thead th {\n",
       "        text-align: right;\n",
       "    }\n",
       "</style>\n",
       "<table border=\"1\" class=\"dataframe\">\n",
       "  <thead>\n",
       "    <tr style=\"text-align: right;\">\n",
       "      <th></th>\n",
       "      <th>Model Name</th>\n",
       "      <th>Train Accuracy</th>\n",
       "      <th>Validation Accuracy</th>\n",
       "      <th>Accuracy Difference</th>\n",
       "    </tr>\n",
       "  </thead>\n",
       "  <tbody>\n",
       "    <tr>\n",
       "      <th>0</th>\n",
       "      <td>Decision Tree</td>\n",
       "      <td>0.403509</td>\n",
       "      <td>0.353535</td>\n",
       "      <td>0.049973</td>\n",
       "    </tr>\n",
       "  </tbody>\n",
       "</table>\n",
       "</div>"
      ],
      "text/plain": [
       "      Model Name  Train Accuracy  Validation Accuracy  Accuracy Difference\n",
       "0  Decision Tree        0.403509             0.353535             0.049973"
      ]
     },
     "metadata": {
      "tags": []
     },
     "output_type": "display_data"
    },
    {
     "name": "stdout",
     "output_type": "stream",
     "text": [
      "\n",
      "The best hyperparameters by gridsearchCv are :  {'max_depth': 7, 'min_samples_leaf': 5} \n",
      "\n",
      "time taken by hayper perameter for searching best perameter : 3.1690497398376465s\n"
     ]
    },
    {
     "data": {
      "text/html": [
       "<div>\n",
       "<style scoped>\n",
       "    .dataframe tbody tr th:only-of-type {\n",
       "        vertical-align: middle;\n",
       "    }\n",
       "\n",
       "    .dataframe tbody tr th {\n",
       "        vertical-align: top;\n",
       "    }\n",
       "\n",
       "    .dataframe thead th {\n",
       "        text-align: right;\n",
       "    }\n",
       "</style>\n",
       "<table border=\"1\" class=\"dataframe\">\n",
       "  <thead>\n",
       "    <tr style=\"text-align: right;\">\n",
       "      <th></th>\n",
       "      <th>1</th>\n",
       "      <th>2</th>\n",
       "      <th>3</th>\n",
       "      <th>4</th>\n",
       "      <th>5</th>\n",
       "    </tr>\n",
       "  </thead>\n",
       "  <tbody>\n",
       "    <tr>\n",
       "      <th>precision</th>\n",
       "      <td>0.347607</td>\n",
       "      <td>0.472222</td>\n",
       "      <td>0.266289</td>\n",
       "      <td>0.328652</td>\n",
       "      <td>0.470760</td>\n",
       "    </tr>\n",
       "    <tr>\n",
       "      <th>recall</th>\n",
       "      <td>0.724409</td>\n",
       "      <td>0.044041</td>\n",
       "      <td>0.250000</td>\n",
       "      <td>0.326816</td>\n",
       "      <td>0.423684</td>\n",
       "    </tr>\n",
       "    <tr>\n",
       "      <th>f1-score</th>\n",
       "      <td>0.469787</td>\n",
       "      <td>0.080569</td>\n",
       "      <td>0.257888</td>\n",
       "      <td>0.327731</td>\n",
       "      <td>0.445983</td>\n",
       "    </tr>\n",
       "  </tbody>\n",
       "</table>\n",
       "</div>"
      ],
      "text/plain": [
       "                  1         2         3         4         5\n",
       "precision  0.347607  0.472222  0.266289  0.328652  0.470760\n",
       "recall     0.724409  0.044041  0.250000  0.326816  0.423684\n",
       "f1-score   0.469787  0.080569  0.257888  0.327731  0.445983"
      ]
     },
     "execution_count": 19,
     "metadata": {
      "tags": []
     },
     "output_type": "execute_result"
    }
   ],
   "source": [
    "model1 = Classification('Decision Tree',x_train , y_train,x_val, y_val)\n",
    "model1.get_scores(params,skf)"
   ]
  },
  {
   "cell_type": "markdown",
   "metadata": {
    "id": "dSWH2Nx9JXDJ"
   },
   "source": [
    "## **3.3 Random Forest**\n"
   ]
  },
  {
   "cell_type": "code",
   "execution_count": 20,
   "metadata": {
    "id": "K3rZc_OI-VIa"
   },
   "outputs": [],
   "source": [
    "# Number of trees in random forest\n",
    "n_estimators = [10,20,40,60,80,100]\n",
    "# Number of features to consider at every split\n",
    "max_features = ['auto', 'sqrt']\n",
    "# Maximum number of levels in tree\n",
    "max_depth = [5,7,8,9,11,12,13,15]\n",
    "\n",
    "# Minimum number of samples required to split a node\n",
    "min_samples_split = [20,50,70,100]\n",
    "# Minimum number of samples required at each leaf node\n",
    "min_samples_leaf = [20,40,50,70,80]\n",
    "# Method of selecting samples for training each tree\n",
    "bootstrap = [True, False]\n",
    "# Create the random grid\n",
    "random_grid = {'n_estimators': n_estimators,\n",
    "               'max_features': max_features,\n",
    "               'max_depth': max_depth,\n",
    "               'min_samples_split': min_samples_split,\n",
    "               'min_samples_leaf': min_samples_leaf,\n",
    "               'bootstrap': bootstrap}"
   ]
  },
  {
   "cell_type": "code",
   "execution_count": 21,
   "metadata": {
    "colab": {
     "base_uri": "https://localhost:8080/",
     "height": 292
    },
    "id": "elEEiVFNEvv2",
    "outputId": "67def699-f29e-4d1f-8c45-bf0f99643837"
   },
   "outputs": [
    {
     "data": {
      "text/html": [
       "<div>\n",
       "<style scoped>\n",
       "    .dataframe tbody tr th:only-of-type {\n",
       "        vertical-align: middle;\n",
       "    }\n",
       "\n",
       "    .dataframe tbody tr th {\n",
       "        vertical-align: top;\n",
       "    }\n",
       "\n",
       "    .dataframe thead th {\n",
       "        text-align: right;\n",
       "    }\n",
       "</style>\n",
       "<table border=\"1\" class=\"dataframe\">\n",
       "  <thead>\n",
       "    <tr style=\"text-align: right;\">\n",
       "      <th></th>\n",
       "      <th>Model Name</th>\n",
       "      <th>Train Accuracy</th>\n",
       "      <th>Validation Accuracy</th>\n",
       "      <th>Accuracy Difference</th>\n",
       "    </tr>\n",
       "  </thead>\n",
       "  <tbody>\n",
       "    <tr>\n",
       "      <th>0</th>\n",
       "      <td>Random Forest</td>\n",
       "      <td>0.525961</td>\n",
       "      <td>0.441255</td>\n",
       "      <td>0.084707</td>\n",
       "    </tr>\n",
       "  </tbody>\n",
       "</table>\n",
       "</div>"
      ],
      "text/plain": [
       "      Model Name  Train Accuracy  Validation Accuracy  Accuracy Difference\n",
       "0  Random Forest        0.525961             0.441255             0.084707"
      ]
     },
     "metadata": {
      "tags": []
     },
     "output_type": "display_data"
    },
    {
     "name": "stdout",
     "output_type": "stream",
     "text": [
      "\n",
      "The best hyperparameters by randomsearchCv are :  {'n_estimators': 60, 'min_samples_split': 100, 'min_samples_leaf': 20, 'max_features': 'sqrt', 'max_depth': 15, 'bootstrap': True} \n",
      "\n",
      "time taken by hayper perameter for searching best perameter : 104.434330701828s\n"
     ]
    },
    {
     "data": {
      "text/html": [
       "<div>\n",
       "<style scoped>\n",
       "    .dataframe tbody tr th:only-of-type {\n",
       "        vertical-align: middle;\n",
       "    }\n",
       "\n",
       "    .dataframe tbody tr th {\n",
       "        vertical-align: top;\n",
       "    }\n",
       "\n",
       "    .dataframe thead th {\n",
       "        text-align: right;\n",
       "    }\n",
       "</style>\n",
       "<table border=\"1\" class=\"dataframe\">\n",
       "  <thead>\n",
       "    <tr style=\"text-align: right;\">\n",
       "      <th></th>\n",
       "      <th>1</th>\n",
       "      <th>2</th>\n",
       "      <th>3</th>\n",
       "      <th>4</th>\n",
       "      <th>5</th>\n",
       "    </tr>\n",
       "  </thead>\n",
       "  <tbody>\n",
       "    <tr>\n",
       "      <th>precision</th>\n",
       "      <td>0.478411</td>\n",
       "      <td>0.395122</td>\n",
       "      <td>0.389610</td>\n",
       "      <td>0.360825</td>\n",
       "      <td>0.506276</td>\n",
       "    </tr>\n",
       "    <tr>\n",
       "      <th>recall</th>\n",
       "      <td>0.727034</td>\n",
       "      <td>0.209845</td>\n",
       "      <td>0.239362</td>\n",
       "      <td>0.391061</td>\n",
       "      <td>0.636842</td>\n",
       "    </tr>\n",
       "    <tr>\n",
       "      <th>f1-score</th>\n",
       "      <td>0.577083</td>\n",
       "      <td>0.274112</td>\n",
       "      <td>0.296540</td>\n",
       "      <td>0.375335</td>\n",
       "      <td>0.564103</td>\n",
       "    </tr>\n",
       "  </tbody>\n",
       "</table>\n",
       "</div>"
      ],
      "text/plain": [
       "                  1         2         3         4         5\n",
       "precision  0.478411  0.395122  0.389610  0.360825  0.506276\n",
       "recall     0.727034  0.209845  0.239362  0.391061  0.636842\n",
       "f1-score   0.577083  0.274112  0.296540  0.375335  0.564103"
      ]
     },
     "execution_count": 21,
     "metadata": {
      "tags": []
     },
     "output_type": "execute_result"
    }
   ],
   "source": [
    "\n",
    "ran_for_1 = Classification('Random Forest',x_train, y_train, x_val, y_val,hyper_tuning_method='random')\n",
    "ran_for_1.get_scores(random_grid,skf)"
   ]
  },
  {
   "cell_type": "markdown",
   "metadata": {
    "id": "EXYS5DbAJlp4"
   },
   "source": [
    "## **3.3.2 2nd Attempt**"
   ]
  },
  {
   "cell_type": "code",
   "execution_count": 22,
   "metadata": {
    "id": "kWjIG81YJiCH"
   },
   "outputs": [],
   "source": [
    "# Number of trees in random forest\n",
    "n_estimators = [105,110,112,115]\n",
    "# Number of features to consider at every split\n",
    "max_features = ['auto', 'sqrt']\n",
    "# Maximum number of levels in tree\n",
    "max_depth = [10,11,12]\n",
    "\n",
    "# Minimum number of samples required to split a node\n",
    "min_samples_split = [60,65,70,75]\n",
    "# Minimum number of samples required at each leaf node\n",
    "min_samples_leaf = [18,21,23,25,27,32]\n",
    "# Method of selecting samples for training each tree\n",
    "bootstrap = [True, False]\n",
    "# Create the random grid\n",
    "random_grid = {'n_estimators': n_estimators,\n",
    "               'max_features': max_features,\n",
    "               'max_depth': max_depth,\n",
    "               'min_samples_split': min_samples_split,\n",
    "               'min_samples_leaf': min_samples_leaf,\n",
    "               'bootstrap': bootstrap}"
   ]
  },
  {
   "cell_type": "code",
   "execution_count": 23,
   "metadata": {
    "colab": {
     "base_uri": "https://localhost:8080/",
     "height": 292
    },
    "id": "ekvFmVxXKxCC",
    "outputId": "181a11ae-4dea-4b82-e199-c5de3bef1103"
   },
   "outputs": [
    {
     "data": {
      "text/html": [
       "<div>\n",
       "<style scoped>\n",
       "    .dataframe tbody tr th:only-of-type {\n",
       "        vertical-align: middle;\n",
       "    }\n",
       "\n",
       "    .dataframe tbody tr th {\n",
       "        vertical-align: top;\n",
       "    }\n",
       "\n",
       "    .dataframe thead th {\n",
       "        text-align: right;\n",
       "    }\n",
       "</style>\n",
       "<table border=\"1\" class=\"dataframe\">\n",
       "  <thead>\n",
       "    <tr style=\"text-align: right;\">\n",
       "      <th></th>\n",
       "      <th>Model Name</th>\n",
       "      <th>Train Accuracy</th>\n",
       "      <th>Validation Accuracy</th>\n",
       "      <th>Accuracy Difference</th>\n",
       "    </tr>\n",
       "  </thead>\n",
       "  <tbody>\n",
       "    <tr>\n",
       "      <th>0</th>\n",
       "      <td>Random Forest</td>\n",
       "      <td>0.506114</td>\n",
       "      <td>0.440191</td>\n",
       "      <td>0.065922</td>\n",
       "    </tr>\n",
       "  </tbody>\n",
       "</table>\n",
       "</div>"
      ],
      "text/plain": [
       "      Model Name  Train Accuracy  Validation Accuracy  Accuracy Difference\n",
       "0  Random Forest        0.506114             0.440191             0.065922"
      ]
     },
     "metadata": {
      "tags": []
     },
     "output_type": "display_data"
    },
    {
     "name": "stdout",
     "output_type": "stream",
     "text": [
      "\n",
      "The best hyperparameters by randomsearchCv are :  {'n_estimators': 112, 'min_samples_split': 60, 'min_samples_leaf': 21, 'max_features': 'auto', 'max_depth': 10, 'bootstrap': True} \n",
      "\n",
      "time taken by hayper perameter for searching best perameter : 205.08273649215698s\n"
     ]
    },
    {
     "data": {
      "text/html": [
       "<div>\n",
       "<style scoped>\n",
       "    .dataframe tbody tr th:only-of-type {\n",
       "        vertical-align: middle;\n",
       "    }\n",
       "\n",
       "    .dataframe tbody tr th {\n",
       "        vertical-align: top;\n",
       "    }\n",
       "\n",
       "    .dataframe thead th {\n",
       "        text-align: right;\n",
       "    }\n",
       "</style>\n",
       "<table border=\"1\" class=\"dataframe\">\n",
       "  <thead>\n",
       "    <tr style=\"text-align: right;\">\n",
       "      <th></th>\n",
       "      <th>1</th>\n",
       "      <th>2</th>\n",
       "      <th>3</th>\n",
       "      <th>4</th>\n",
       "      <th>5</th>\n",
       "    </tr>\n",
       "  </thead>\n",
       "  <tbody>\n",
       "    <tr>\n",
       "      <th>precision</th>\n",
       "      <td>0.450980</td>\n",
       "      <td>0.401914</td>\n",
       "      <td>0.393665</td>\n",
       "      <td>0.377358</td>\n",
       "      <td>0.514957</td>\n",
       "    </tr>\n",
       "    <tr>\n",
       "      <th>recall</th>\n",
       "      <td>0.724409</td>\n",
       "      <td>0.217617</td>\n",
       "      <td>0.231383</td>\n",
       "      <td>0.391061</td>\n",
       "      <td>0.634211</td>\n",
       "    </tr>\n",
       "    <tr>\n",
       "      <th>f1-score</th>\n",
       "      <td>0.555891</td>\n",
       "      <td>0.282353</td>\n",
       "      <td>0.291457</td>\n",
       "      <td>0.384088</td>\n",
       "      <td>0.568396</td>\n",
       "    </tr>\n",
       "  </tbody>\n",
       "</table>\n",
       "</div>"
      ],
      "text/plain": [
       "                  1         2         3         4         5\n",
       "precision  0.450980  0.401914  0.393665  0.377358  0.514957\n",
       "recall     0.724409  0.217617  0.231383  0.391061  0.634211\n",
       "f1-score   0.555891  0.282353  0.291457  0.384088  0.568396"
      ]
     },
     "execution_count": 23,
     "metadata": {
      "tags": []
     },
     "output_type": "execute_result"
    }
   ],
   "source": [
    "ran_for_2 = Classification('Random Forest',x_train, y_train, x_val, y_val,hyper_tuning_method='random')\n",
    "ran_for_2.get_scores(random_grid,skf)"
   ]
  },
  {
   "cell_type": "markdown",
   "metadata": {
    "id": "oOe1l9rBIWDu"
   },
   "source": [
    "## **3.4 Support Vector Machines**"
   ]
  },
  {
   "cell_type": "code",
   "execution_count": 24,
   "metadata": {
    "id": "ig1-sRC_KKcl"
   },
   "outputs": [],
   "source": [
    "param_grid = {'C': [0.1, 1, 10, 100, 1000],  \n",
    "              'gamma': [1, 0.1, 0.01, 0.001, 0.0001], \n",
    "              'kernel': ['rbf']}"
   ]
  },
  {
   "cell_type": "code",
   "execution_count": 25,
   "metadata": {
    "id": "98n36FIMNLyI"
   },
   "outputs": [],
   "source": [
    "\n",
    "svm_1 = Classification('SVM',x_train, y_train, x_val, y_val)"
   ]
  },
  {
   "cell_type": "code",
   "execution_count": 26,
   "metadata": {
    "colab": {
     "base_uri": "https://localhost:8080/",
     "height": 272
    },
    "id": "9aWMg0VmNOSJ",
    "outputId": "8b3c7834-7224-4513-96bc-1c95e3d552dd"
   },
   "outputs": [
    {
     "data": {
      "text/html": [
       "<div>\n",
       "<style scoped>\n",
       "    .dataframe tbody tr th:only-of-type {\n",
       "        vertical-align: middle;\n",
       "    }\n",
       "\n",
       "    .dataframe tbody tr th {\n",
       "        vertical-align: top;\n",
       "    }\n",
       "\n",
       "    .dataframe thead th {\n",
       "        text-align: right;\n",
       "    }\n",
       "</style>\n",
       "<table border=\"1\" class=\"dataframe\">\n",
       "  <thead>\n",
       "    <tr style=\"text-align: right;\">\n",
       "      <th></th>\n",
       "      <th>Model Name</th>\n",
       "      <th>Train Accuracy</th>\n",
       "      <th>Validation Accuracy</th>\n",
       "      <th>Accuracy Difference</th>\n",
       "    </tr>\n",
       "  </thead>\n",
       "  <tbody>\n",
       "    <tr>\n",
       "      <th>0</th>\n",
       "      <td>SVM</td>\n",
       "      <td>0.573808</td>\n",
       "      <td>0.506645</td>\n",
       "      <td>0.067163</td>\n",
       "    </tr>\n",
       "  </tbody>\n",
       "</table>\n",
       "</div>"
      ],
      "text/plain": [
       "  Model Name  Train Accuracy  Validation Accuracy  Accuracy Difference\n",
       "0        SVM        0.573808             0.506645             0.067163"
      ]
     },
     "metadata": {
      "tags": []
     },
     "output_type": "display_data"
    },
    {
     "name": "stdout",
     "output_type": "stream",
     "text": [
      "\n",
      "The best hyperparameters by gridsearchCv are :  {'C': 1, 'gamma': 0.1, 'kernel': 'rbf'} \n",
      "\n",
      "time taken by hayper perameter for searching best perameter : 939.8932099342346s\n"
     ]
    },
    {
     "data": {
      "text/html": [
       "<div>\n",
       "<style scoped>\n",
       "    .dataframe tbody tr th:only-of-type {\n",
       "        vertical-align: middle;\n",
       "    }\n",
       "\n",
       "    .dataframe tbody tr th {\n",
       "        vertical-align: top;\n",
       "    }\n",
       "\n",
       "    .dataframe thead th {\n",
       "        text-align: right;\n",
       "    }\n",
       "</style>\n",
       "<table border=\"1\" class=\"dataframe\">\n",
       "  <thead>\n",
       "    <tr style=\"text-align: right;\">\n",
       "      <th></th>\n",
       "      <th>1</th>\n",
       "      <th>2</th>\n",
       "      <th>3</th>\n",
       "      <th>4</th>\n",
       "      <th>5</th>\n",
       "    </tr>\n",
       "  </thead>\n",
       "  <tbody>\n",
       "    <tr>\n",
       "      <th>precision</th>\n",
       "      <td>0.558962</td>\n",
       "      <td>0.417098</td>\n",
       "      <td>0.475460</td>\n",
       "      <td>0.428571</td>\n",
       "      <td>0.644385</td>\n",
       "    </tr>\n",
       "    <tr>\n",
       "      <th>recall</th>\n",
       "      <td>0.622047</td>\n",
       "      <td>0.417098</td>\n",
       "      <td>0.412234</td>\n",
       "      <td>0.444134</td>\n",
       "      <td>0.634211</td>\n",
       "    </tr>\n",
       "    <tr>\n",
       "      <th>f1-score</th>\n",
       "      <td>0.588820</td>\n",
       "      <td>0.417098</td>\n",
       "      <td>0.441595</td>\n",
       "      <td>0.436214</td>\n",
       "      <td>0.639257</td>\n",
       "    </tr>\n",
       "  </tbody>\n",
       "</table>\n",
       "</div>"
      ],
      "text/plain": [
       "                  1         2         3         4         5\n",
       "precision  0.558962  0.417098  0.475460  0.428571  0.644385\n",
       "recall     0.622047  0.417098  0.412234  0.444134  0.634211\n",
       "f1-score   0.588820  0.417098  0.441595  0.436214  0.639257"
      ]
     },
     "execution_count": 26,
     "metadata": {
      "tags": []
     },
     "output_type": "execute_result"
    }
   ],
   "source": [
    "svm_1.get_scores(param_grid,skf)"
   ]
  },
  {
   "cell_type": "markdown",
   "metadata": {
    "id": "rQXeUoX8NwPO"
   },
   "source": [
    "## **3.4.2 2nd Attempt**"
   ]
  },
  {
   "cell_type": "code",
   "execution_count": 6,
   "metadata": {
    "id": "fp_Fmaw_NYRY"
   },
   "outputs": [],
   "source": [
    "params = {'C':[0.18,0.19,0.2,0.21],\n",
    "          'kernel':['linear'],\n",
    "          'gamma':['scale','auto']}"
   ]
  },
  {
   "cell_type": "code",
   "execution_count": 7,
   "metadata": {
    "id": "UUey6jlwN_Gv"
   },
   "outputs": [],
   "source": [
    "\n",
    "svm_2 = Classification('SVM',x_train, y_train, x_val, y_val)"
   ]
  },
  {
   "cell_type": "code",
   "execution_count": 8,
   "metadata": {
    "colab": {
     "base_uri": "https://localhost:8080/",
     "height": 272
    },
    "id": "pwQTz7q4ODi5",
    "outputId": "22409e55-c46c-422d-e583-675883e13ffd"
   },
   "outputs": [
    {
     "data": {
      "text/html": [
       "<div>\n",
       "<style scoped>\n",
       "    .dataframe tbody tr th:only-of-type {\n",
       "        vertical-align: middle;\n",
       "    }\n",
       "\n",
       "    .dataframe tbody tr th {\n",
       "        vertical-align: top;\n",
       "    }\n",
       "\n",
       "    .dataframe thead th {\n",
       "        text-align: right;\n",
       "    }\n",
       "</style>\n",
       "<table border=\"1\" class=\"dataframe\">\n",
       "  <thead>\n",
       "    <tr style=\"text-align: right;\">\n",
       "      <th></th>\n",
       "      <th>Model Name</th>\n",
       "      <th>Train Accuracy</th>\n",
       "      <th>Validation Accuracy</th>\n",
       "      <th>Accuracy Difference</th>\n",
       "    </tr>\n",
       "  </thead>\n",
       "  <tbody>\n",
       "    <tr>\n",
       "      <th>0</th>\n",
       "      <td>SVM</td>\n",
       "      <td>0.536926</td>\n",
       "      <td>0.506986</td>\n",
       "      <td>0.02994</td>\n",
       "    </tr>\n",
       "  </tbody>\n",
       "</table>\n",
       "</div>"
      ],
      "text/plain": [
       "  Model Name  Train Accuracy  Validation Accuracy  Accuracy Difference\n",
       "0        SVM        0.536926             0.506986              0.02994"
      ]
     },
     "metadata": {},
     "output_type": "display_data"
    },
    {
     "name": "stdout",
     "output_type": "stream",
     "text": [
      "\n",
      "The best hyperparameters by gridsearchCv are :  {'C': 0.21, 'gamma': 'scale', 'kernel': 'linear'} \n",
      "\n",
      "time taken by hayper perameter for searching best perameter : 655.3577992916107s\n"
     ]
    },
    {
     "data": {
      "text/html": [
       "<div>\n",
       "<style scoped>\n",
       "    .dataframe tbody tr th:only-of-type {\n",
       "        vertical-align: middle;\n",
       "    }\n",
       "\n",
       "    .dataframe tbody tr th {\n",
       "        vertical-align: top;\n",
       "    }\n",
       "\n",
       "    .dataframe thead th {\n",
       "        text-align: right;\n",
       "    }\n",
       "</style>\n",
       "<table border=\"1\" class=\"dataframe\">\n",
       "  <thead>\n",
       "    <tr style=\"text-align: right;\">\n",
       "      <th></th>\n",
       "      <th>1</th>\n",
       "      <th>2</th>\n",
       "      <th>3</th>\n",
       "      <th>4</th>\n",
       "      <th>5</th>\n",
       "    </tr>\n",
       "  </thead>\n",
       "  <tbody>\n",
       "    <tr>\n",
       "      <th>precision</th>\n",
       "      <td>0.515942</td>\n",
       "      <td>0.406528</td>\n",
       "      <td>0.465476</td>\n",
       "      <td>0.504367</td>\n",
       "      <td>0.620295</td>\n",
       "    </tr>\n",
       "    <tr>\n",
       "      <th>recall</th>\n",
       "      <td>0.483696</td>\n",
       "      <td>0.305804</td>\n",
       "      <td>0.449425</td>\n",
       "      <td>0.660629</td>\n",
       "      <td>0.490933</td>\n",
       "    </tr>\n",
       "    <tr>\n",
       "      <th>f1-score</th>\n",
       "      <td>0.499299</td>\n",
       "      <td>0.349045</td>\n",
       "      <td>0.457310</td>\n",
       "      <td>0.572018</td>\n",
       "      <td>0.548084</td>\n",
       "    </tr>\n",
       "  </tbody>\n",
       "</table>\n",
       "</div>"
      ],
      "text/plain": [
       "                  1         2         3         4         5\n",
       "precision  0.515942  0.406528  0.465476  0.504367  0.620295\n",
       "recall     0.483696  0.305804  0.449425  0.660629  0.490933\n",
       "f1-score   0.499299  0.349045  0.457310  0.572018  0.548084"
      ]
     },
     "execution_count": 8,
     "metadata": {},
     "output_type": "execute_result"
    }
   ],
   "source": [
    "svm_2.get_scores(params,skf)"
   ]
  },
  {
   "cell_type": "markdown",
   "metadata": {
    "id": "kXx2kZEQOTyX"
   },
   "source": [
    "## **3.5 KNN**"
   ]
  },
  {
   "cell_type": "code",
   "execution_count": 30,
   "metadata": {
    "id": "QUiAza_bOHDw"
   },
   "outputs": [],
   "source": [
    "params = {'n_neighbors':[5,10,50,100,200,300]}"
   ]
  },
  {
   "cell_type": "code",
   "execution_count": 31,
   "metadata": {
    "colab": {
     "base_uri": "https://localhost:8080/",
     "height": 272
    },
    "id": "zKwEURVUOwf2",
    "outputId": "2a43d1c7-a451-4167-f21f-ed8708dc1cc2"
   },
   "outputs": [
    {
     "data": {
      "text/html": [
       "<div>\n",
       "<style scoped>\n",
       "    .dataframe tbody tr th:only-of-type {\n",
       "        vertical-align: middle;\n",
       "    }\n",
       "\n",
       "    .dataframe tbody tr th {\n",
       "        vertical-align: top;\n",
       "    }\n",
       "\n",
       "    .dataframe thead th {\n",
       "        text-align: right;\n",
       "    }\n",
       "</style>\n",
       "<table border=\"1\" class=\"dataframe\">\n",
       "  <thead>\n",
       "    <tr style=\"text-align: right;\">\n",
       "      <th></th>\n",
       "      <th>Model Name</th>\n",
       "      <th>Train Accuracy</th>\n",
       "      <th>Validation Accuracy</th>\n",
       "      <th>Accuracy Difference</th>\n",
       "    </tr>\n",
       "  </thead>\n",
       "  <tbody>\n",
       "    <tr>\n",
       "      <th>0</th>\n",
       "      <td>KNN</td>\n",
       "      <td>0.50824</td>\n",
       "      <td>0.49176</td>\n",
       "      <td>0.016481</td>\n",
       "    </tr>\n",
       "  </tbody>\n",
       "</table>\n",
       "</div>"
      ],
      "text/plain": [
       "  Model Name  Train Accuracy  Validation Accuracy  Accuracy Difference\n",
       "0        KNN         0.50824              0.49176             0.016481"
      ]
     },
     "metadata": {
      "tags": []
     },
     "output_type": "display_data"
    },
    {
     "name": "stdout",
     "output_type": "stream",
     "text": [
      "\n",
      "The best hyperparameters by gridsearchCv are :  {'n_neighbors': 300} \n",
      "\n",
      "time taken by hayper perameter for searching best perameter : 190.4153709411621s\n"
     ]
    },
    {
     "data": {
      "text/html": [
       "<div>\n",
       "<style scoped>\n",
       "    .dataframe tbody tr th:only-of-type {\n",
       "        vertical-align: middle;\n",
       "    }\n",
       "\n",
       "    .dataframe tbody tr th {\n",
       "        vertical-align: top;\n",
       "    }\n",
       "\n",
       "    .dataframe thead th {\n",
       "        text-align: right;\n",
       "    }\n",
       "</style>\n",
       "<table border=\"1\" class=\"dataframe\">\n",
       "  <thead>\n",
       "    <tr style=\"text-align: right;\">\n",
       "      <th></th>\n",
       "      <th>1</th>\n",
       "      <th>2</th>\n",
       "      <th>3</th>\n",
       "      <th>4</th>\n",
       "      <th>5</th>\n",
       "    </tr>\n",
       "  </thead>\n",
       "  <tbody>\n",
       "    <tr>\n",
       "      <th>precision</th>\n",
       "      <td>0.503953</td>\n",
       "      <td>0.435976</td>\n",
       "      <td>0.523810</td>\n",
       "      <td>0.410053</td>\n",
       "      <td>0.568750</td>\n",
       "    </tr>\n",
       "    <tr>\n",
       "      <th>recall</th>\n",
       "      <td>0.669291</td>\n",
       "      <td>0.370466</td>\n",
       "      <td>0.263298</td>\n",
       "      <td>0.432961</td>\n",
       "      <td>0.718421</td>\n",
       "    </tr>\n",
       "    <tr>\n",
       "      <th>f1-score</th>\n",
       "      <td>0.574972</td>\n",
       "      <td>0.400560</td>\n",
       "      <td>0.350442</td>\n",
       "      <td>0.421196</td>\n",
       "      <td>0.634884</td>\n",
       "    </tr>\n",
       "  </tbody>\n",
       "</table>\n",
       "</div>"
      ],
      "text/plain": [
       "                  1         2         3         4         5\n",
       "precision  0.503953  0.435976  0.523810  0.410053  0.568750\n",
       "recall     0.669291  0.370466  0.263298  0.432961  0.718421\n",
       "f1-score   0.574972  0.400560  0.350442  0.421196  0.634884"
      ]
     },
     "execution_count": 31,
     "metadata": {
      "tags": []
     },
     "output_type": "execute_result"
    }
   ],
   "source": [
    "knn_1 = Classification('KNN',x_train, y_train, x_val, y_val)\n",
    "knn_1.get_scores(params,skf)"
   ]
  },
  {
   "cell_type": "markdown",
   "metadata": {
    "id": "CoYDe7webXff"
   },
   "source": []
  },
  {
   "cell_type": "markdown",
   "metadata": {
    "id": "Rsiqe7e9O905"
   },
   "source": [
    "## **3.5.2 2nd Attempt**"
   ]
  },
  {
   "cell_type": "code",
   "execution_count": 32,
   "metadata": {
    "id": "wHpINb8ePmAh"
   },
   "outputs": [],
   "source": [
    "params = {'n_neighbors':[270,300,330,350,360,370]}"
   ]
  },
  {
   "cell_type": "code",
   "execution_count": 33,
   "metadata": {
    "colab": {
     "base_uri": "https://localhost:8080/",
     "height": 272
    },
    "id": "Lzqrs5HvPyKt",
    "outputId": "f4710b35-bf74-4c5b-efd6-1e40c23f6e06"
   },
   "outputs": [
    {
     "data": {
      "text/html": [
       "<div>\n",
       "<style scoped>\n",
       "    .dataframe tbody tr th:only-of-type {\n",
       "        vertical-align: middle;\n",
       "    }\n",
       "\n",
       "    .dataframe tbody tr th {\n",
       "        vertical-align: top;\n",
       "    }\n",
       "\n",
       "    .dataframe thead th {\n",
       "        text-align: right;\n",
       "    }\n",
       "</style>\n",
       "<table border=\"1\" class=\"dataframe\">\n",
       "  <thead>\n",
       "    <tr style=\"text-align: right;\">\n",
       "      <th></th>\n",
       "      <th>Model Name</th>\n",
       "      <th>Train Accuracy</th>\n",
       "      <th>Validation Accuracy</th>\n",
       "      <th>Accuracy Difference</th>\n",
       "    </tr>\n",
       "  </thead>\n",
       "  <tbody>\n",
       "    <tr>\n",
       "      <th>0</th>\n",
       "      <td>KNN</td>\n",
       "      <td>0.507</td>\n",
       "      <td>0.501329</td>\n",
       "      <td>0.005671</td>\n",
       "    </tr>\n",
       "  </tbody>\n",
       "</table>\n",
       "</div>"
      ],
      "text/plain": [
       "  Model Name  Train Accuracy  Validation Accuracy  Accuracy Difference\n",
       "0        KNN           0.507             0.501329             0.005671"
      ]
     },
     "metadata": {
      "tags": []
     },
     "output_type": "display_data"
    },
    {
     "name": "stdout",
     "output_type": "stream",
     "text": [
      "\n",
      "The best hyperparameters by gridsearchCv are :  {'n_neighbors': 350} \n",
      "\n",
      "time taken by hayper perameter for searching best perameter : 200.82495188713074s\n"
     ]
    },
    {
     "data": {
      "text/html": [
       "<div>\n",
       "<style scoped>\n",
       "    .dataframe tbody tr th:only-of-type {\n",
       "        vertical-align: middle;\n",
       "    }\n",
       "\n",
       "    .dataframe tbody tr th {\n",
       "        vertical-align: top;\n",
       "    }\n",
       "\n",
       "    .dataframe thead th {\n",
       "        text-align: right;\n",
       "    }\n",
       "</style>\n",
       "<table border=\"1\" class=\"dataframe\">\n",
       "  <thead>\n",
       "    <tr style=\"text-align: right;\">\n",
       "      <th></th>\n",
       "      <th>1</th>\n",
       "      <th>2</th>\n",
       "      <th>3</th>\n",
       "      <th>4</th>\n",
       "      <th>5</th>\n",
       "    </tr>\n",
       "  </thead>\n",
       "  <tbody>\n",
       "    <tr>\n",
       "      <th>precision</th>\n",
       "      <td>0.511765</td>\n",
       "      <td>0.446108</td>\n",
       "      <td>0.546875</td>\n",
       "      <td>0.408108</td>\n",
       "      <td>0.583158</td>\n",
       "    </tr>\n",
       "    <tr>\n",
       "      <th>recall</th>\n",
       "      <td>0.685039</td>\n",
       "      <td>0.386010</td>\n",
       "      <td>0.279255</td>\n",
       "      <td>0.421788</td>\n",
       "      <td>0.728947</td>\n",
       "    </tr>\n",
       "    <tr>\n",
       "      <th>f1-score</th>\n",
       "      <td>0.585859</td>\n",
       "      <td>0.413889</td>\n",
       "      <td>0.369718</td>\n",
       "      <td>0.414835</td>\n",
       "      <td>0.647953</td>\n",
       "    </tr>\n",
       "  </tbody>\n",
       "</table>\n",
       "</div>"
      ],
      "text/plain": [
       "                  1         2         3         4         5\n",
       "precision  0.511765  0.446108  0.546875  0.408108  0.583158\n",
       "recall     0.685039  0.386010  0.279255  0.421788  0.728947\n",
       "f1-score   0.585859  0.413889  0.369718  0.414835  0.647953"
      ]
     },
     "execution_count": 33,
     "metadata": {
      "tags": []
     },
     "output_type": "execute_result"
    }
   ],
   "source": [
    "knn_2 = Classification('KNN',x_train, y_train, x_val, y_val)\n",
    "knn_2.get_scores(params,skf)"
   ]
  },
  {
   "cell_type": "markdown",
   "metadata": {
    "id": "eLfwYSbiWblR"
   },
   "source": [
    "## **3.6 XGBoost**"
   ]
  },
  {
   "cell_type": "markdown",
   "metadata": {
    "id": "AEGU4ZfBW4D6"
   },
   "source": [
    "## **3.6.1 1nd Attempt**"
   ]
  },
  {
   "cell_type": "code",
   "execution_count": 54,
   "metadata": {
    "id": "WslkaeVaNb_J"
   },
   "outputs": [],
   "source": [
    "params = {'eta':[0.001,0.005,0.1,0.5],\n",
    "          'min_child_weight':[1,5,10]}"
   ]
  },
  {
   "cell_type": "code",
   "execution_count": 55,
   "metadata": {
    "id": "fmI2Gsf7XKuN"
   },
   "outputs": [],
   "source": [
    "xgboost_1 = Ensemble('XGBoost',x_train, y_train, x_val, y_val)"
   ]
  },
  {
   "cell_type": "code",
   "execution_count": 56,
   "metadata": {
    "colab": {
     "base_uri": "https://localhost:8080/",
     "height": 272
    },
    "id": "chy8OCP-X50X",
    "outputId": "5a679cb9-5efa-4aec-d950-a3e8d2a547ed"
   },
   "outputs": [
    {
     "data": {
      "text/html": [
       "<div>\n",
       "<style scoped>\n",
       "    .dataframe tbody tr th:only-of-type {\n",
       "        vertical-align: middle;\n",
       "    }\n",
       "\n",
       "    .dataframe tbody tr th {\n",
       "        vertical-align: top;\n",
       "    }\n",
       "\n",
       "    .dataframe thead th {\n",
       "        text-align: right;\n",
       "    }\n",
       "</style>\n",
       "<table border=\"1\" class=\"dataframe\">\n",
       "  <thead>\n",
       "    <tr style=\"text-align: right;\">\n",
       "      <th></th>\n",
       "      <th>Model Name</th>\n",
       "      <th>Train Accuracy</th>\n",
       "      <th>Validation Accuracy</th>\n",
       "      <th>Accuracy Difference</th>\n",
       "    </tr>\n",
       "  </thead>\n",
       "  <tbody>\n",
       "    <tr>\n",
       "      <th>0</th>\n",
       "      <td>XGBoost</td>\n",
       "      <td>0.599681</td>\n",
       "      <td>0.483254</td>\n",
       "      <td>0.116427</td>\n",
       "    </tr>\n",
       "  </tbody>\n",
       "</table>\n",
       "</div>"
      ],
      "text/plain": [
       "  Model Name  Train Accuracy  Validation Accuracy  Accuracy Difference\n",
       "0    XGBoost        0.599681             0.483254             0.116427"
      ]
     },
     "metadata": {
      "tags": []
     },
     "output_type": "display_data"
    },
    {
     "name": "stdout",
     "output_type": "stream",
     "text": [
      "\n",
      "The best hyperparameters by gridsearchCv are :  {'eta': 0.001, 'min_child_weight': 5} \n",
      "\n",
      "time taken by hayper perameter for searching best perameter : 346.126079082489s\n"
     ]
    },
    {
     "data": {
      "text/html": [
       "<div>\n",
       "<style scoped>\n",
       "    .dataframe tbody tr th:only-of-type {\n",
       "        vertical-align: middle;\n",
       "    }\n",
       "\n",
       "    .dataframe tbody tr th {\n",
       "        vertical-align: top;\n",
       "    }\n",
       "\n",
       "    .dataframe thead th {\n",
       "        text-align: right;\n",
       "    }\n",
       "</style>\n",
       "<table border=\"1\" class=\"dataframe\">\n",
       "  <thead>\n",
       "    <tr style=\"text-align: right;\">\n",
       "      <th></th>\n",
       "      <th>1</th>\n",
       "      <th>2</th>\n",
       "      <th>3</th>\n",
       "      <th>4</th>\n",
       "      <th>5</th>\n",
       "    </tr>\n",
       "  </thead>\n",
       "  <tbody>\n",
       "    <tr>\n",
       "      <th>precision</th>\n",
       "      <td>0.500000</td>\n",
       "      <td>0.419948</td>\n",
       "      <td>0.510730</td>\n",
       "      <td>0.403465</td>\n",
       "      <td>0.586797</td>\n",
       "    </tr>\n",
       "    <tr>\n",
       "      <th>recall</th>\n",
       "      <td>0.595801</td>\n",
       "      <td>0.414508</td>\n",
       "      <td>0.316489</td>\n",
       "      <td>0.455307</td>\n",
       "      <td>0.631579</td>\n",
       "    </tr>\n",
       "    <tr>\n",
       "      <th>f1-score</th>\n",
       "      <td>0.543713</td>\n",
       "      <td>0.417210</td>\n",
       "      <td>0.390805</td>\n",
       "      <td>0.427822</td>\n",
       "      <td>0.608365</td>\n",
       "    </tr>\n",
       "  </tbody>\n",
       "</table>\n",
       "</div>"
      ],
      "text/plain": [
       "                  1         2         3         4         5\n",
       "precision  0.500000  0.419948  0.510730  0.403465  0.586797\n",
       "recall     0.595801  0.414508  0.316489  0.455307  0.631579\n",
       "f1-score   0.543713  0.417210  0.390805  0.427822  0.608365"
      ]
     },
     "execution_count": 56,
     "metadata": {
      "tags": []
     },
     "output_type": "execute_result"
    }
   ],
   "source": [
    "xgboost_1.get_scores(params,skf)"
   ]
  },
  {
   "cell_type": "markdown",
   "metadata": {
    "id": "iWW8wESIDgPb"
   },
   "source": [
    "## **3.6.2. 2nd Attempt**"
   ]
  },
  {
   "cell_type": "code",
   "execution_count": 57,
   "metadata": {
    "id": "MHQFxxcBZLvd"
   },
   "outputs": [],
   "source": [
    "params = {'eta':[0.0001,0.0005,0.001],\n",
    "          'min_child_weight':[5],\n",
    "          \"max_depth\"        : [ 6, 8, 10, 12, 15]}"
   ]
  },
  {
   "cell_type": "code",
   "execution_count": 58,
   "metadata": {
    "id": "lpYzEsX0UgFw"
   },
   "outputs": [],
   "source": [
    "xgboost_2 = Ensemble('XGBoost',x_train, y_train, x_val, y_val)"
   ]
  },
  {
   "cell_type": "code",
   "execution_count": 59,
   "metadata": {
    "colab": {
     "base_uri": "https://localhost:8080/",
     "height": 272
    },
    "id": "lHt17z3pUiRa",
    "outputId": "4eddf7df-e642-4f32-ffda-f2f61ac096ca"
   },
   "outputs": [
    {
     "data": {
      "text/html": [
       "<div>\n",
       "<style scoped>\n",
       "    .dataframe tbody tr th:only-of-type {\n",
       "        vertical-align: middle;\n",
       "    }\n",
       "\n",
       "    .dataframe tbody tr th {\n",
       "        vertical-align: top;\n",
       "    }\n",
       "\n",
       "    .dataframe thead th {\n",
       "        text-align: right;\n",
       "    }\n",
       "</style>\n",
       "<table border=\"1\" class=\"dataframe\">\n",
       "  <thead>\n",
       "    <tr style=\"text-align: right;\">\n",
       "      <th></th>\n",
       "      <th>Model Name</th>\n",
       "      <th>Train Accuracy</th>\n",
       "      <th>Validation Accuracy</th>\n",
       "      <th>Accuracy Difference</th>\n",
       "    </tr>\n",
       "  </thead>\n",
       "  <tbody>\n",
       "    <tr>\n",
       "      <th>0</th>\n",
       "      <td>XGBoost</td>\n",
       "      <td>0.714336</td>\n",
       "      <td>0.486975</td>\n",
       "      <td>0.227361</td>\n",
       "    </tr>\n",
       "  </tbody>\n",
       "</table>\n",
       "</div>"
      ],
      "text/plain": [
       "  Model Name  Train Accuracy  Validation Accuracy  Accuracy Difference\n",
       "0    XGBoost        0.714336             0.486975             0.227361"
      ]
     },
     "metadata": {
      "tags": []
     },
     "output_type": "display_data"
    },
    {
     "name": "stdout",
     "output_type": "stream",
     "text": [
      "\n",
      "The best hyperparameters by gridsearchCv are :  {'eta': 0.0001, 'max_depth': 6, 'min_child_weight': 5} \n",
      "\n",
      "time taken by hayper perameter for searching best perameter : 1395.4307334423065s\n"
     ]
    },
    {
     "data": {
      "text/html": [
       "<div>\n",
       "<style scoped>\n",
       "    .dataframe tbody tr th:only-of-type {\n",
       "        vertical-align: middle;\n",
       "    }\n",
       "\n",
       "    .dataframe tbody tr th {\n",
       "        vertical-align: top;\n",
       "    }\n",
       "\n",
       "    .dataframe thead th {\n",
       "        text-align: right;\n",
       "    }\n",
       "</style>\n",
       "<table border=\"1\" class=\"dataframe\">\n",
       "  <thead>\n",
       "    <tr style=\"text-align: right;\">\n",
       "      <th></th>\n",
       "      <th>1</th>\n",
       "      <th>2</th>\n",
       "      <th>3</th>\n",
       "      <th>4</th>\n",
       "      <th>5</th>\n",
       "    </tr>\n",
       "  </thead>\n",
       "  <tbody>\n",
       "    <tr>\n",
       "      <th>precision</th>\n",
       "      <td>0.527397</td>\n",
       "      <td>0.408108</td>\n",
       "      <td>0.491289</td>\n",
       "      <td>0.403694</td>\n",
       "      <td>0.589681</td>\n",
       "    </tr>\n",
       "    <tr>\n",
       "      <th>recall</th>\n",
       "      <td>0.606299</td>\n",
       "      <td>0.391192</td>\n",
       "      <td>0.375000</td>\n",
       "      <td>0.427374</td>\n",
       "      <td>0.631579</td>\n",
       "    </tr>\n",
       "    <tr>\n",
       "      <th>f1-score</th>\n",
       "      <td>0.564103</td>\n",
       "      <td>0.399471</td>\n",
       "      <td>0.425339</td>\n",
       "      <td>0.415197</td>\n",
       "      <td>0.609911</td>\n",
       "    </tr>\n",
       "  </tbody>\n",
       "</table>\n",
       "</div>"
      ],
      "text/plain": [
       "                  1         2         3         4         5\n",
       "precision  0.527397  0.408108  0.491289  0.403694  0.589681\n",
       "recall     0.606299  0.391192  0.375000  0.427374  0.631579\n",
       "f1-score   0.564103  0.399471  0.425339  0.415197  0.609911"
      ]
     },
     "execution_count": 59,
     "metadata": {
      "tags": []
     },
     "output_type": "execute_result"
    }
   ],
   "source": [
    "xgboost_2.get_scores(params,skf)"
   ]
  },
  {
   "cell_type": "markdown",
   "metadata": {
    "id": "DDDoUw_rjJLX"
   },
   "source": [
    "## **3.7 Light GBM**"
   ]
  },
  {
   "cell_type": "code",
   "execution_count": 41,
   "metadata": {
    "id": "m8MEKfvVBUps"
   },
   "outputs": [],
   "source": [
    "rs_params = {\n",
    "        'learning_rate':[0.0001, 0.001, 0.01],\n",
    "        'bagging_fraction': [0.5,0.55,0.6,0.7,0.8],\n",
    "        'bagging_frequency': [5,6,7,8],\n",
    "        'feature_fraction': [0.5,0.6, 0.66, 0.7],\n",
    "        'min_data_in_leaf': [90,110,120,130],\n",
    "        'num_leaves': [1200, 1550],\n",
    "        'max_depth': [10,12,14,15,17],\n",
    "\n",
    "\n",
    "}"
   ]
  },
  {
   "cell_type": "code",
   "execution_count": 44,
   "metadata": {
    "id": "LTWoNw5qC9aX"
   },
   "outputs": [],
   "source": [
    "light_gbm_1 = Ensemble('LightGbm',x_train, y_train, x_val, y_val,hyper_tuning_method='random')"
   ]
  },
  {
   "cell_type": "code",
   "execution_count": 45,
   "metadata": {
    "colab": {
     "base_uri": "https://localhost:8080/",
     "height": 328
    },
    "id": "tm10RKfjDOrw",
    "outputId": "d1c50898-03fc-4964-efdf-679a7e97522c"
   },
   "outputs": [
    {
     "name": "stderr",
     "output_type": "stream",
     "text": [
      "/usr/local/lib/python3.6/dist-packages/joblib/externals/loky/process_executor.py:691: UserWarning: A worker stopped while some jobs were given to the executor. This can be caused by a too short worker timeout or by a memory leak.\n",
      "  \"timeout or by a memory leak.\", UserWarning\n"
     ]
    },
    {
     "data": {
      "text/html": [
       "<div>\n",
       "<style scoped>\n",
       "    .dataframe tbody tr th:only-of-type {\n",
       "        vertical-align: middle;\n",
       "    }\n",
       "\n",
       "    .dataframe tbody tr th {\n",
       "        vertical-align: top;\n",
       "    }\n",
       "\n",
       "    .dataframe thead th {\n",
       "        text-align: right;\n",
       "    }\n",
       "</style>\n",
       "<table border=\"1\" class=\"dataframe\">\n",
       "  <thead>\n",
       "    <tr style=\"text-align: right;\">\n",
       "      <th></th>\n",
       "      <th>Model Name</th>\n",
       "      <th>Train Accuracy</th>\n",
       "      <th>Validation Accuracy</th>\n",
       "      <th>Accuracy Difference</th>\n",
       "    </tr>\n",
       "  </thead>\n",
       "  <tbody>\n",
       "    <tr>\n",
       "      <th>0</th>\n",
       "      <td>LightGbm</td>\n",
       "      <td>0.540138</td>\n",
       "      <td>0.464646</td>\n",
       "      <td>0.075492</td>\n",
       "    </tr>\n",
       "  </tbody>\n",
       "</table>\n",
       "</div>"
      ],
      "text/plain": [
       "  Model Name  Train Accuracy  Validation Accuracy  Accuracy Difference\n",
       "0   LightGbm        0.540138             0.464646             0.075492"
      ]
     },
     "metadata": {
      "tags": []
     },
     "output_type": "display_data"
    },
    {
     "name": "stdout",
     "output_type": "stream",
     "text": [
      "\n",
      "The best hyperparameters by randomsearchCv are :  {'num_leaves': 1550, 'min_data_in_leaf': 90, 'max_depth': 10, 'learning_rate': 0.01, 'feature_fraction': 0.5, 'bagging_frequency': 5, 'bagging_fraction': 0.8} \n",
      "\n",
      "time taken by hayper perameter for searching best perameter : 596.1382195949554s\n"
     ]
    },
    {
     "data": {
      "text/html": [
       "<div>\n",
       "<style scoped>\n",
       "    .dataframe tbody tr th:only-of-type {\n",
       "        vertical-align: middle;\n",
       "    }\n",
       "\n",
       "    .dataframe tbody tr th {\n",
       "        vertical-align: top;\n",
       "    }\n",
       "\n",
       "    .dataframe thead th {\n",
       "        text-align: right;\n",
       "    }\n",
       "</style>\n",
       "<table border=\"1\" class=\"dataframe\">\n",
       "  <thead>\n",
       "    <tr style=\"text-align: right;\">\n",
       "      <th></th>\n",
       "      <th>1</th>\n",
       "      <th>2</th>\n",
       "      <th>3</th>\n",
       "      <th>4</th>\n",
       "      <th>5</th>\n",
       "    </tr>\n",
       "  </thead>\n",
       "  <tbody>\n",
       "    <tr>\n",
       "      <th>precision</th>\n",
       "      <td>0.482692</td>\n",
       "      <td>0.422581</td>\n",
       "      <td>0.459716</td>\n",
       "      <td>0.383838</td>\n",
       "      <td>0.547297</td>\n",
       "    </tr>\n",
       "    <tr>\n",
       "      <th>recall</th>\n",
       "      <td>0.658793</td>\n",
       "      <td>0.339378</td>\n",
       "      <td>0.257979</td>\n",
       "      <td>0.424581</td>\n",
       "      <td>0.639474</td>\n",
       "    </tr>\n",
       "    <tr>\n",
       "      <th>f1-score</th>\n",
       "      <td>0.557159</td>\n",
       "      <td>0.376437</td>\n",
       "      <td>0.330494</td>\n",
       "      <td>0.403183</td>\n",
       "      <td>0.589806</td>\n",
       "    </tr>\n",
       "  </tbody>\n",
       "</table>\n",
       "</div>"
      ],
      "text/plain": [
       "                  1         2         3         4         5\n",
       "precision  0.482692  0.422581  0.459716  0.383838  0.547297\n",
       "recall     0.658793  0.339378  0.257979  0.424581  0.639474\n",
       "f1-score   0.557159  0.376437  0.330494  0.403183  0.589806"
      ]
     },
     "execution_count": 45,
     "metadata": {
      "tags": []
     },
     "output_type": "execute_result"
    }
   ],
   "source": [
    "light_gbm_1.get_scores(rs_params,skf)"
   ]
  },
  {
   "cell_type": "code",
   "execution_count": 63,
   "metadata": {
    "id": "El3SXvUAHOe2"
   },
   "outputs": [],
   "source": [
    "for model in [model1,ran_for_2,svm_2,knn_2,xgboost_2,light_gbm_1]:\n",
    "    pickle.dump(model, open(f'Models/{model.model_type}.pkl', 'wb'))"
   ]
  },
  {
   "cell_type": "markdown",
   "metadata": {},
   "source": [
    "## **-----------------------------------------------------------------------------------------------------------------------------**"
   ]
  },
  {
   "cell_type": "markdown",
   "metadata": {
    "id": "Ku8hK6gpKPm4"
   },
   "source": [
    "## **All Models Compared**"
   ]
  },
  {
   "cell_type": "code",
   "execution_count": 64,
   "metadata": {
    "id": "bWxAYSyb5UHv"
   },
   "outputs": [],
   "source": [
    "all_models = pd.concat([model1.scores_table,\n",
    "                        ran_for_2.scores_table,\n",
    "                        svm_2.scores_table,\n",
    "                        knn_2.scores_table,\n",
    "                        xgboost_2.scores_table,\n",
    "                        light_gbm_1.scores_table],\n",
    "                        axis=0)"
   ]
  },
  {
   "cell_type": "code",
   "execution_count": 65,
   "metadata": {
    "colab": {
     "base_uri": "https://localhost:8080/",
     "height": 228
    },
    "id": "ZmjVbgoBKiL6",
    "outputId": "9716654d-7f1b-4ab7-cb03-c78f6836e043"
   },
   "outputs": [
    {
     "data": {
      "text/html": [
       "<div>\n",
       "<style scoped>\n",
       "    .dataframe tbody tr th:only-of-type {\n",
       "        vertical-align: middle;\n",
       "    }\n",
       "\n",
       "    .dataframe tbody tr th {\n",
       "        vertical-align: top;\n",
       "    }\n",
       "\n",
       "    .dataframe thead th {\n",
       "        text-align: right;\n",
       "    }\n",
       "</style>\n",
       "<table border=\"1\" class=\"dataframe\">\n",
       "  <thead>\n",
       "    <tr style=\"text-align: right;\">\n",
       "      <th></th>\n",
       "      <th>Model Name</th>\n",
       "      <th>Train Accuracy</th>\n",
       "      <th>Validation Accuracy</th>\n",
       "      <th>Accuracy Difference</th>\n",
       "    </tr>\n",
       "  </thead>\n",
       "  <tbody>\n",
       "    <tr>\n",
       "      <th>0</th>\n",
       "      <td>Decision Tree</td>\n",
       "      <td>0.403509</td>\n",
       "      <td>0.353535</td>\n",
       "      <td>0.049973</td>\n",
       "    </tr>\n",
       "    <tr>\n",
       "      <th>0</th>\n",
       "      <td>Random Forest</td>\n",
       "      <td>0.506114</td>\n",
       "      <td>0.440191</td>\n",
       "      <td>0.065922</td>\n",
       "    </tr>\n",
       "    <tr>\n",
       "      <th>0</th>\n",
       "      <td>SVM</td>\n",
       "      <td>0.559986</td>\n",
       "      <td>0.511430</td>\n",
       "      <td>0.048556</td>\n",
       "    </tr>\n",
       "    <tr>\n",
       "      <th>0</th>\n",
       "      <td>KNN</td>\n",
       "      <td>0.507000</td>\n",
       "      <td>0.501329</td>\n",
       "      <td>0.005671</td>\n",
       "    </tr>\n",
       "    <tr>\n",
       "      <th>0</th>\n",
       "      <td>XGBoost</td>\n",
       "      <td>0.714336</td>\n",
       "      <td>0.486975</td>\n",
       "      <td>0.227361</td>\n",
       "    </tr>\n",
       "    <tr>\n",
       "      <th>0</th>\n",
       "      <td>LightGbm</td>\n",
       "      <td>0.540138</td>\n",
       "      <td>0.464646</td>\n",
       "      <td>0.075492</td>\n",
       "    </tr>\n",
       "  </tbody>\n",
       "</table>\n",
       "</div>"
      ],
      "text/plain": [
       "      Model Name  Train Accuracy  Validation Accuracy  Accuracy Difference\n",
       "0  Decision Tree        0.403509             0.353535             0.049973\n",
       "0  Random Forest        0.506114             0.440191             0.065922\n",
       "0            SVM        0.559986             0.511430             0.048556\n",
       "0            KNN        0.507000             0.501329             0.005671\n",
       "0        XGBoost        0.714336             0.486975             0.227361\n",
       "0       LightGbm        0.540138             0.464646             0.075492"
      ]
     },
     "execution_count": 65,
     "metadata": {
      "tags": []
     },
     "output_type": "execute_result"
    }
   ],
   "source": [
    "all_models"
   ]
  },
  {
   "cell_type": "markdown",
   "metadata": {},
   "source": [
    "from above we conclude that SVM model give the best result among the all model"
   ]
  },
  {
   "cell_type": "code",
   "execution_count": 8,
   "metadata": {
    "id": "1ZhTowT8KkNq"
   },
   "outputs": [
    {
     "ename": "NameError",
     "evalue": "name 'all_models' is not defined",
     "output_type": "error",
     "traceback": [
      "\u001b[1;31m---------------------------------------------------------------------------\u001b[0m",
      "\u001b[1;31mNameError\u001b[0m                                 Traceback (most recent call last)",
      "\u001b[1;32m<ipython-input-8-d15d04450189>\u001b[0m in \u001b[0;36m<module>\u001b[1;34m\u001b[0m\n\u001b[1;32m----> 1\u001b[1;33m \u001b[0mall_models\u001b[0m\u001b[1;33m.\u001b[0m\u001b[0mto_csv\u001b[0m\u001b[1;33m(\u001b[0m\u001b[1;34m'4.all_models.csv'\u001b[0m\u001b[1;33m,\u001b[0m\u001b[0mindex\u001b[0m\u001b[1;33m=\u001b[0m\u001b[1;32mFalse\u001b[0m\u001b[1;33m)\u001b[0m\u001b[1;33m\u001b[0m\u001b[1;33m\u001b[0m\u001b[0m\n\u001b[0m",
      "\u001b[1;31mNameError\u001b[0m: name 'all_models' is not defined"
     ]
    }
   ],
   "source": [
    "all_models.to_csv('4.all_models.csv',index=False)"
   ]
  },
  {
   "cell_type": "code",
   "execution_count": null,
   "metadata": {
    "id": "SHrW8AQKKpv5"
   },
   "outputs": [],
   "source": []
  }
 ],
 "metadata": {
  "colab": {
   "collapsed_sections": [],
   "name": "Modelling and Hyperparameter Tuning.ipynb",
   "provenance": []
  },
  "kernelspec": {
   "display_name": "Python 3",
   "language": "python",
   "name": "python3"
  },
  "language_info": {
   "codemirror_mode": {
    "name": "ipython",
    "version": 3
   },
   "file_extension": ".py",
   "mimetype": "text/x-python",
   "name": "python",
   "nbconvert_exporter": "python",
   "pygments_lexer": "ipython3",
   "version": "3.8.5"
  }
 },
 "nbformat": 4,
 "nbformat_minor": 1
}
