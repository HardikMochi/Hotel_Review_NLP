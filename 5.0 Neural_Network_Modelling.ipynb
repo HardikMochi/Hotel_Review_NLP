{
 "cells": [
  {
   "cell_type": "markdown",
   "metadata": {
    "Collapsed": "false",
    "id": "NgNmIw2UAeqh"
   },
   "source": [
    "# 5. Neural Network Modelling"
   ]
  },
  {
   "cell_type": "markdown",
   "metadata": {
    "Collapsed": "false",
    "id": "mVlogHgBAeqt"
   },
   "source": [
    "In 3.Modelling_and_Hyperparamter_Tuning, I experimented with different classifcation and ensemble methods to help classify hotel review scores. Some performed well, but there was definitely room for improvement, so I wanted to explore a deep learning approach. "
   ]
  },
  {
   "cell_type": "markdown",
   "metadata": {
    "Collapsed": "false",
    "id": "-ZnQF4LlAeqv"
   },
   "source": [
    "## 5.1 Imports"
   ]
  },
  {
   "cell_type": "code",
   "execution_count": 11,
   "metadata": {
    "Collapsed": "false",
    "id": "I5PJBLx0Aeqw"
   },
   "outputs": [],
   "source": [
    "import pandas as pd\n",
    "import numpy as np\n",
    "import seaborn as sns\n",
    "import matplotlib.pyplot as plt\n",
    "\n",
    "from nltk.tokenize import RegexpTokenizer\n",
    "from sklearn.model_selection import train_test_split\n",
    "from sklearn.preprocessing import OneHotEncoder\n",
    "from sklearn.metrics import confusion_matrix\n",
    "\n",
    "from tensorflow import keras\n",
    "from tensorflow.keras.preprocessing import sequence\n",
    "from tensorflow.python.keras import Sequential\n",
    "from tensorflow.keras.models import load_model\n",
    "from tensorflow.python.keras.layers import Dense, Embedding, GlobalAveragePooling1D\n",
    "\n",
    "import pickle\n"
   ]
  },
  {
   "cell_type": "code",
   "execution_count": 12,
   "metadata": {
    "Collapsed": "false",
    "id": "40psJdn1Aeqy"
   },
   "outputs": [],
   "source": [
    "sns.set_context('poster')"
   ]
  },
  {
   "cell_type": "code",
   "execution_count": 13,
   "metadata": {
    "Collapsed": "false",
    "id": "sXp43TUDAeqz"
   },
   "outputs": [],
   "source": [
    "df = pd.read_csv('Data/dataset.csv')"
   ]
  },
  {
   "cell_type": "markdown",
   "metadata": {
    "Collapsed": "false",
    "id": "ccttZTQIAeqz"
   },
   "source": [
    "## 5.2 One Hot Encoding Scores Column"
   ]
  },
  {
   "cell_type": "markdown",
   "metadata": {
    "Collapsed": "false",
    "id": "AZALC6J9Aeqz"
   },
   "source": [
    "For multi-class classifcation using the neural network model, I needed the target variable to be one hot encoded, as the output layer would have 5 nodes, 1 for each score."
   ]
  },
  {
   "cell_type": "code",
   "execution_count": 14,
   "metadata": {
    "Collapsed": "false",
    "colab": {
     "base_uri": "https://localhost:8080/",
     "height": 285
    },
    "id": "gHyfbknKAeq0",
    "outputId": "bcbaa685-596d-416d-f045-44c0205ae9f9"
   },
   "outputs": [
    {
     "data": {
      "text/html": [
       "<div>\n",
       "<style scoped>\n",
       "    .dataframe tbody tr th:only-of-type {\n",
       "        vertical-align: middle;\n",
       "    }\n",
       "\n",
       "    .dataframe tbody tr th {\n",
       "        vertical-align: top;\n",
       "    }\n",
       "\n",
       "    .dataframe thead th {\n",
       "        text-align: right;\n",
       "    }\n",
       "</style>\n",
       "<table border=\"1\" class=\"dataframe\">\n",
       "  <thead>\n",
       "    <tr style=\"text-align: right;\">\n",
       "      <th></th>\n",
       "      <th>hotel_name</th>\n",
       "      <th>review_summary</th>\n",
       "      <th>score</th>\n",
       "      <th>review</th>\n",
       "      <th>0</th>\n",
       "      <th>1</th>\n",
       "      <th>2</th>\n",
       "      <th>3</th>\n",
       "      <th>4</th>\n",
       "    </tr>\n",
       "  </thead>\n",
       "  <tbody>\n",
       "    <tr>\n",
       "      <th>0</th>\n",
       "      <td>Hotel Hilton London Gatwick Airport</td>\n",
       "      <td>Awful...</td>\n",
       "      <td>1</td>\n",
       "      <td>Its hard to find words that can describe this ...</td>\n",
       "      <td>1.0</td>\n",
       "      <td>0.0</td>\n",
       "      <td>0.0</td>\n",
       "      <td>0.0</td>\n",
       "      <td>0.0</td>\n",
       "    </tr>\n",
       "    <tr>\n",
       "      <th>1</th>\n",
       "      <td>Hilton London Metropole</td>\n",
       "      <td>Terrible</td>\n",
       "      <td>1</td>\n",
       "      <td>Absolutely terrible. Cracked ceiling, tiny roo...</td>\n",
       "      <td>1.0</td>\n",
       "      <td>0.0</td>\n",
       "      <td>0.0</td>\n",
       "      <td>0.0</td>\n",
       "      <td>0.0</td>\n",
       "    </tr>\n",
       "    <tr>\n",
       "      <th>2</th>\n",
       "      <td>Hilton London Euston</td>\n",
       "      <td>Double deposit taken from bank</td>\n",
       "      <td>1</td>\n",
       "      <td>Very disappointed firstly i checked in online ...</td>\n",
       "      <td>1.0</td>\n",
       "      <td>0.0</td>\n",
       "      <td>0.0</td>\n",
       "      <td>0.0</td>\n",
       "      <td>0.0</td>\n",
       "    </tr>\n",
       "    <tr>\n",
       "      <th>3</th>\n",
       "      <td>Hilton London Metropole</td>\n",
       "      <td>Super disappointed!</td>\n",
       "      <td>1</td>\n",
       "      <td>First of all we arrived wanting to park at the...</td>\n",
       "      <td>1.0</td>\n",
       "      <td>0.0</td>\n",
       "      <td>0.0</td>\n",
       "      <td>0.0</td>\n",
       "      <td>0.0</td>\n",
       "    </tr>\n",
       "    <tr>\n",
       "      <th>4</th>\n",
       "      <td>Hilton London Metropole</td>\n",
       "      <td>Dissatisfied Hilton gold number</td>\n",
       "      <td>1</td>\n",
       "      <td>Hello,  I currently staying @ Hilton Metropole...</td>\n",
       "      <td>1.0</td>\n",
       "      <td>0.0</td>\n",
       "      <td>0.0</td>\n",
       "      <td>0.0</td>\n",
       "      <td>0.0</td>\n",
       "    </tr>\n",
       "  </tbody>\n",
       "</table>\n",
       "</div>"
      ],
      "text/plain": [
       "                            hotel_name                   review_summary  \\\n",
       "0  Hotel Hilton London Gatwick Airport                         Awful...   \n",
       "1              Hilton London Metropole                        Terrible    \n",
       "2                 Hilton London Euston   Double deposit taken from bank   \n",
       "3              Hilton London Metropole              Super disappointed!   \n",
       "4              Hilton London Metropole  Dissatisfied Hilton gold number   \n",
       "\n",
       "   score                                             review    0    1    2  \\\n",
       "0      1  Its hard to find words that can describe this ...  1.0  0.0  0.0   \n",
       "1      1  Absolutely terrible. Cracked ceiling, tiny roo...  1.0  0.0  0.0   \n",
       "2      1  Very disappointed firstly i checked in online ...  1.0  0.0  0.0   \n",
       "3      1  First of all we arrived wanting to park at the...  1.0  0.0  0.0   \n",
       "4      1  Hello,  I currently staying @ Hilton Metropole...  1.0  0.0  0.0   \n",
       "\n",
       "     3    4  \n",
       "0  0.0  0.0  \n",
       "1  0.0  0.0  \n",
       "2  0.0  0.0  \n",
       "3  0.0  0.0  \n",
       "4  0.0  0.0  "
      ]
     },
     "execution_count": 14,
     "metadata": {},
     "output_type": "execute_result"
    }
   ],
   "source": [
    "enc = OneHotEncoder(handle_unknown='ignore')\n",
    "\n",
    "enc_df = pd.DataFrame(enc.fit_transform(df[['score']]).toarray())\n",
    "\n",
    "df = df.join(enc_df)\n",
    "df.head()"
   ]
  },
  {
   "cell_type": "code",
   "execution_count": 15,
   "metadata": {
    "Collapsed": "false",
    "id": "YmT7Un4xAeq1"
   },
   "outputs": [],
   "source": [
    "df = df.rename(columns={0: \"score_1\", 1:'score_2',2:'score_3',3:'score_4',4:'score_5'})"
   ]
  },
  {
   "cell_type": "code",
   "execution_count": 16,
   "metadata": {
    "Collapsed": "false",
    "colab": {
     "base_uri": "https://localhost:8080/",
     "height": 371
    },
    "id": "XyqlPmbQAeq1",
    "outputId": "e6740df2-404c-4139-f716-6dfda828e237"
   },
   "outputs": [
    {
     "data": {
      "text/html": [
       "<div>\n",
       "<style scoped>\n",
       "    .dataframe tbody tr th:only-of-type {\n",
       "        vertical-align: middle;\n",
       "    }\n",
       "\n",
       "    .dataframe tbody tr th {\n",
       "        vertical-align: top;\n",
       "    }\n",
       "\n",
       "    .dataframe thead th {\n",
       "        text-align: right;\n",
       "    }\n",
       "</style>\n",
       "<table border=\"1\" class=\"dataframe\">\n",
       "  <thead>\n",
       "    <tr style=\"text-align: right;\">\n",
       "      <th></th>\n",
       "      <th>hotel_name</th>\n",
       "      <th>review_summary</th>\n",
       "      <th>score</th>\n",
       "      <th>review</th>\n",
       "      <th>score_1</th>\n",
       "      <th>score_2</th>\n",
       "      <th>score_3</th>\n",
       "      <th>score_4</th>\n",
       "      <th>score_5</th>\n",
       "    </tr>\n",
       "  </thead>\n",
       "  <tbody>\n",
       "    <tr>\n",
       "      <th>0</th>\n",
       "      <td>Hotel Hilton London Gatwick Airport</td>\n",
       "      <td>Awful...</td>\n",
       "      <td>1</td>\n",
       "      <td>Its hard to find words that can describe this ...</td>\n",
       "      <td>1.0</td>\n",
       "      <td>0.0</td>\n",
       "      <td>0.0</td>\n",
       "      <td>0.0</td>\n",
       "      <td>0.0</td>\n",
       "    </tr>\n",
       "    <tr>\n",
       "      <th>1</th>\n",
       "      <td>Hilton London Metropole</td>\n",
       "      <td>Terrible</td>\n",
       "      <td>1</td>\n",
       "      <td>Absolutely terrible. Cracked ceiling, tiny roo...</td>\n",
       "      <td>1.0</td>\n",
       "      <td>0.0</td>\n",
       "      <td>0.0</td>\n",
       "      <td>0.0</td>\n",
       "      <td>0.0</td>\n",
       "    </tr>\n",
       "    <tr>\n",
       "      <th>2</th>\n",
       "      <td>Hilton London Euston</td>\n",
       "      <td>Double deposit taken from bank</td>\n",
       "      <td>1</td>\n",
       "      <td>Very disappointed firstly i checked in online ...</td>\n",
       "      <td>1.0</td>\n",
       "      <td>0.0</td>\n",
       "      <td>0.0</td>\n",
       "      <td>0.0</td>\n",
       "      <td>0.0</td>\n",
       "    </tr>\n",
       "    <tr>\n",
       "      <th>3</th>\n",
       "      <td>Hilton London Metropole</td>\n",
       "      <td>Super disappointed!</td>\n",
       "      <td>1</td>\n",
       "      <td>First of all we arrived wanting to park at the...</td>\n",
       "      <td>1.0</td>\n",
       "      <td>0.0</td>\n",
       "      <td>0.0</td>\n",
       "      <td>0.0</td>\n",
       "      <td>0.0</td>\n",
       "    </tr>\n",
       "    <tr>\n",
       "      <th>4</th>\n",
       "      <td>Hilton London Metropole</td>\n",
       "      <td>Dissatisfied Hilton gold number</td>\n",
       "      <td>1</td>\n",
       "      <td>Hello,  I currently staying @ Hilton Metropole...</td>\n",
       "      <td>1.0</td>\n",
       "      <td>0.0</td>\n",
       "      <td>0.0</td>\n",
       "      <td>0.0</td>\n",
       "      <td>0.0</td>\n",
       "    </tr>\n",
       "  </tbody>\n",
       "</table>\n",
       "</div>"
      ],
      "text/plain": [
       "                            hotel_name                   review_summary  \\\n",
       "0  Hotel Hilton London Gatwick Airport                         Awful...   \n",
       "1              Hilton London Metropole                        Terrible    \n",
       "2                 Hilton London Euston   Double deposit taken from bank   \n",
       "3              Hilton London Metropole              Super disappointed!   \n",
       "4              Hilton London Metropole  Dissatisfied Hilton gold number   \n",
       "\n",
       "   score                                             review  score_1  score_2  \\\n",
       "0      1  Its hard to find words that can describe this ...      1.0      0.0   \n",
       "1      1  Absolutely terrible. Cracked ceiling, tiny roo...      1.0      0.0   \n",
       "2      1  Very disappointed firstly i checked in online ...      1.0      0.0   \n",
       "3      1  First of all we arrived wanting to park at the...      1.0      0.0   \n",
       "4      1  Hello,  I currently staying @ Hilton Metropole...      1.0      0.0   \n",
       "\n",
       "   score_3  score_4  score_5  \n",
       "0      0.0      0.0      0.0  \n",
       "1      0.0      0.0      0.0  \n",
       "2      0.0      0.0      0.0  \n",
       "3      0.0      0.0      0.0  \n",
       "4      0.0      0.0      0.0  "
      ]
     },
     "execution_count": 16,
     "metadata": {},
     "output_type": "execute_result"
    }
   ],
   "source": [
    "df.head()"
   ]
  },
  {
   "cell_type": "markdown",
   "metadata": {
    "Collapsed": "false",
    "id": "h57tqGwbAeq2"
   },
   "source": [
    "## 5.3 Train Test Split"
   ]
  },
  {
   "cell_type": "code",
   "execution_count": 17,
   "metadata": {
    "Collapsed": "false",
    "id": "-vIs40hkAeq2"
   },
   "outputs": [],
   "source": [
    "x_train, x_test, y_train, y_test = train_test_split(df[['review','review_summary']], \n",
    "                                                    df[['score_1','score_2','score_3','score_4','score_5']], \n",
    "                                                    test_size=.2, \n",
    "                                                    random_state=42)"
   ]
  },
  {
   "cell_type": "code",
   "execution_count": 18,
   "metadata": {
    "Collapsed": "false",
    "id": "IIBzzFSVAeq3"
   },
   "outputs": [],
   "source": [
    "y_test.to_csv('Data/6.y_test_ohe.csv',index=False)"
   ]
  },
  {
   "cell_type": "markdown",
   "metadata": {
    "Collapsed": "false",
    "id": "Z3Jh0uIXAeq3"
   },
   "source": [
    "## 5.4 Add Suffix to the Review Summary to Distinguish the Difference"
   ]
  },
  {
   "cell_type": "markdown",
   "metadata": {
    "Collapsed": "false",
    "id": "6nx6CQwYAeq3"
   },
   "source": [
    "I wanted the words in the review summary to be separate from the words in the review, as they may have a more or less significant impact. Also new data may not contain a review summary and the model will not accurately reflect the review-only data."
   ]
  },
  {
   "cell_type": "code",
   "execution_count": 19,
   "metadata": {
    "id": "ohdT7rw8BRu5"
   },
   "outputs": [],
   "source": [
    "tokenizer = RegexpTokenizer(r'[a-zA-Z]+')\n"
   ]
  },
  {
   "cell_type": "code",
   "execution_count": 20,
   "metadata": {
    "id": "hdC6-vNNBTjO"
   },
   "outputs": [],
   "source": [
    "def add_sum_suffix(text):\n",
    "    \n",
    "    token_list = tokenizer.tokenize(text.lower())\n",
    "    new_text = ''\n",
    "    for word in token_list:\n",
    "        word = word + '_sum'\n",
    "        new_text += word + ' '\n",
    "        \n",
    "    return new_text"
   ]
  },
  {
   "cell_type": "code",
   "execution_count": 21,
   "metadata": {
    "id": "qIyCS_NuBVY4"
   },
   "outputs": [],
   "source": [
    "\n",
    "def text_cleanup(text):\n",
    "    \n",
    "    token_list = tokenizer.tokenize(text.lower())\n",
    "    new_text = ''\n",
    "    for word in token_list:\n",
    "        new_text += word + ' '\n",
    "        \n",
    "    return new_text"
   ]
  },
  {
   "cell_type": "code",
   "execution_count": 22,
   "metadata": {
    "id": "xr9_uy33BZfn"
   },
   "outputs": [],
   "source": [
    "def add_one_argmax_score(x):\n",
    "    \n",
    "    x = x+1\n",
    "    \n",
    "    return x"
   ]
  },
  {
   "cell_type": "code",
   "execution_count": 23,
   "metadata": {
    "id": "dgiJZ9deBb7Q"
   },
   "outputs": [],
   "source": [
    "def reverse_encode(y_df):\n",
    "    \n",
    "    y_df['score'] = (y_df.iloc[:, 0:] == 1).idxmax(1)['score'] = (y_df.iloc[:, 0:] == 1).idxmax(1)\n",
    "    for i in range(0,len(y_df)):\n",
    "        if y_df.iloc[i,-1] == 'score_1':\n",
    "            y_df.iloc[i,-1] = 1\n",
    "        elif y_df.iloc[i,-1] == 'score_2':\n",
    "            y_df.iloc[i,-1] = 2\n",
    "        elif y_df.iloc[i,-1]== 'score_3':\n",
    "            y_df.iloc[i,-1] = 3\n",
    "        elif y_df.iloc[i,-1]== 'score_4':\n",
    "            y_df.iloc[i,-1] = 4\n",
    "        elif y_df.iloc[i,-1] == 'score_5':\n",
    "            y_df.iloc[i,-1]= 5"
   ]
  },
  {
   "cell_type": "code",
   "execution_count": 24,
   "metadata": {
    "id": "bPVOMBF2BeLz"
   },
   "outputs": [],
   "source": [
    "def conf_matrix(cm):\n",
    "    \n",
    "    plt.figure(figsize=(9,7))\n",
    "    ax = sns.heatmap(cm,\n",
    "                     annot= True, \n",
    "                     fmt = '.4g', \n",
    "                     cbar=0,\n",
    "                     xticklabels=[1,2,3,4,5],\n",
    "                     yticklabels=[1,2,3,4,5])\n",
    "    ax.set(xlabel='Predicted', ylabel='True')\n",
    "    plt.show()"
   ]
  },
  {
   "cell_type": "code",
   "execution_count": 25,
   "metadata": {
    "Collapsed": "false",
    "id": "3w5bnAi-Aeq4"
   },
   "outputs": [],
   "source": [
    "x_train['review_summary_suffixed'] = x_train['review_summary'].apply(add_sum_suffix)\n",
    "x_test['review_summary_suffixed'] = x_test['review_summary'].apply(add_sum_suffix)"
   ]
  },
  {
   "cell_type": "code",
   "execution_count": 26,
   "metadata": {
    "Collapsed": "false",
    "colab": {
     "base_uri": "https://localhost:8080/",
     "height": 285
    },
    "id": "fHS_i1V-Aeq4",
    "outputId": "c552b0d2-3845-4193-f8ce-e8d116cb39cc"
   },
   "outputs": [
    {
     "data": {
      "text/html": [
       "<div>\n",
       "<style scoped>\n",
       "    .dataframe tbody tr th:only-of-type {\n",
       "        vertical-align: middle;\n",
       "    }\n",
       "\n",
       "    .dataframe tbody tr th {\n",
       "        vertical-align: top;\n",
       "    }\n",
       "\n",
       "    .dataframe thead th {\n",
       "        text-align: right;\n",
       "    }\n",
       "</style>\n",
       "<table border=\"1\" class=\"dataframe\">\n",
       "  <thead>\n",
       "    <tr style=\"text-align: right;\">\n",
       "      <th></th>\n",
       "      <th>review</th>\n",
       "      <th>review_summary</th>\n",
       "      <th>review_summary_suffixed</th>\n",
       "    </tr>\n",
       "  </thead>\n",
       "  <tbody>\n",
       "    <tr>\n",
       "      <th>9048</th>\n",
       "      <td>From arrival at check in, where we had great s...</td>\n",
       "      <td>Excellent hotel</td>\n",
       "      <td>excellent_sum hotel_sum</td>\n",
       "    </tr>\n",
       "    <tr>\n",
       "      <th>1219</th>\n",
       "      <td>After 3 hours waiting for chosen room booked o...</td>\n",
       "      <td>Don't bother with online check-in</td>\n",
       "      <td>don_sum t_sum bother_sum with_sum online_sum c...</td>\n",
       "    </tr>\n",
       "    <tr>\n",
       "      <th>6901</th>\n",
       "      <td>The hotel is very well located five minutes wa...</td>\n",
       "      <td>Great location, cozy bar, good service</td>\n",
       "      <td>great_sum location_sum cozy_sum bar_sum good_s...</td>\n",
       "    </tr>\n",
       "    <tr>\n",
       "      <th>5466</th>\n",
       "      <td>We stayed here a total of 3 nights in April 20...</td>\n",
       "      <td>London base for land tour with Globus</td>\n",
       "      <td>london_sum base_sum for_sum land_sum tour_sum ...</td>\n",
       "    </tr>\n",
       "    <tr>\n",
       "      <th>6107</th>\n",
       "      <td>We recently stayed at Hilton Gatwick south ter...</td>\n",
       "      <td>Pre and post holiday stays</td>\n",
       "      <td>pre_sum and_sum post_sum holiday_sum stays_sum</td>\n",
       "    </tr>\n",
       "  </tbody>\n",
       "</table>\n",
       "</div>"
      ],
      "text/plain": [
       "                                                 review  \\\n",
       "9048  From arrival at check in, where we had great s...   \n",
       "1219  After 3 hours waiting for chosen room booked o...   \n",
       "6901  The hotel is very well located five minutes wa...   \n",
       "5466  We stayed here a total of 3 nights in April 20...   \n",
       "6107  We recently stayed at Hilton Gatwick south ter...   \n",
       "\n",
       "                              review_summary  \\\n",
       "9048                         Excellent hotel   \n",
       "1219       Don't bother with online check-in   \n",
       "6901  Great location, cozy bar, good service   \n",
       "5466   London base for land tour with Globus   \n",
       "6107              Pre and post holiday stays   \n",
       "\n",
       "                                review_summary_suffixed  \n",
       "9048                           excellent_sum hotel_sum   \n",
       "1219  don_sum t_sum bother_sum with_sum online_sum c...  \n",
       "6901  great_sum location_sum cozy_sum bar_sum good_s...  \n",
       "5466  london_sum base_sum for_sum land_sum tour_sum ...  \n",
       "6107    pre_sum and_sum post_sum holiday_sum stays_sum   "
      ]
     },
     "execution_count": 26,
     "metadata": {},
     "output_type": "execute_result"
    }
   ],
   "source": [
    "x_train.head()"
   ]
  },
  {
   "cell_type": "markdown",
   "metadata": {
    "Collapsed": "false",
    "id": "VYeO8PXfAeq4"
   },
   "source": [
    "## 5.5 Removing Punctuation and Tokenizing Review Column"
   ]
  },
  {
   "cell_type": "code",
   "execution_count": 27,
   "metadata": {
    "Collapsed": "false",
    "id": "rYZ8BOqFAeq5"
   },
   "outputs": [],
   "source": [
    "x_train['review_cleaned'] = x_train['review'].apply(text_cleanup)\n",
    "x_test['review_cleaned'] = x_test['review'].apply(text_cleanup)"
   ]
  },
  {
   "cell_type": "code",
   "execution_count": 28,
   "metadata": {
    "Collapsed": "false",
    "colab": {
     "base_uri": "https://localhost:8080/",
     "height": 285
    },
    "id": "Y06cELo4Aeq5",
    "outputId": "43b34566-1507-46e2-b979-21787abacd67"
   },
   "outputs": [
    {
     "data": {
      "text/html": [
       "<div>\n",
       "<style scoped>\n",
       "    .dataframe tbody tr th:only-of-type {\n",
       "        vertical-align: middle;\n",
       "    }\n",
       "\n",
       "    .dataframe tbody tr th {\n",
       "        vertical-align: top;\n",
       "    }\n",
       "\n",
       "    .dataframe thead th {\n",
       "        text-align: right;\n",
       "    }\n",
       "</style>\n",
       "<table border=\"1\" class=\"dataframe\">\n",
       "  <thead>\n",
       "    <tr style=\"text-align: right;\">\n",
       "      <th></th>\n",
       "      <th>review</th>\n",
       "      <th>review_summary</th>\n",
       "      <th>review_summary_suffixed</th>\n",
       "      <th>review_cleaned</th>\n",
       "    </tr>\n",
       "  </thead>\n",
       "  <tbody>\n",
       "    <tr>\n",
       "      <th>9048</th>\n",
       "      <td>From arrival at check in, where we had great s...</td>\n",
       "      <td>Excellent hotel</td>\n",
       "      <td>excellent_sum hotel_sum</td>\n",
       "      <td>from arrival at check in where we had great se...</td>\n",
       "    </tr>\n",
       "    <tr>\n",
       "      <th>1219</th>\n",
       "      <td>After 3 hours waiting for chosen room booked o...</td>\n",
       "      <td>Don't bother with online check-in</td>\n",
       "      <td>don_sum t_sum bother_sum with_sum online_sum c...</td>\n",
       "      <td>after hours waiting for chosen room booked onl...</td>\n",
       "    </tr>\n",
       "    <tr>\n",
       "      <th>6901</th>\n",
       "      <td>The hotel is very well located five minutes wa...</td>\n",
       "      <td>Great location, cozy bar, good service</td>\n",
       "      <td>great_sum location_sum cozy_sum bar_sum good_s...</td>\n",
       "      <td>the hotel is very well located five minutes wa...</td>\n",
       "    </tr>\n",
       "    <tr>\n",
       "      <th>5466</th>\n",
       "      <td>We stayed here a total of 3 nights in April 20...</td>\n",
       "      <td>London base for land tour with Globus</td>\n",
       "      <td>london_sum base_sum for_sum land_sum tour_sum ...</td>\n",
       "      <td>we stayed here a total of nights in april the ...</td>\n",
       "    </tr>\n",
       "    <tr>\n",
       "      <th>6107</th>\n",
       "      <td>We recently stayed at Hilton Gatwick south ter...</td>\n",
       "      <td>Pre and post holiday stays</td>\n",
       "      <td>pre_sum and_sum post_sum holiday_sum stays_sum</td>\n",
       "      <td>we recently stayed at hilton gatwick south ter...</td>\n",
       "    </tr>\n",
       "  </tbody>\n",
       "</table>\n",
       "</div>"
      ],
      "text/plain": [
       "                                                 review  \\\n",
       "9048  From arrival at check in, where we had great s...   \n",
       "1219  After 3 hours waiting for chosen room booked o...   \n",
       "6901  The hotel is very well located five minutes wa...   \n",
       "5466  We stayed here a total of 3 nights in April 20...   \n",
       "6107  We recently stayed at Hilton Gatwick south ter...   \n",
       "\n",
       "                              review_summary  \\\n",
       "9048                         Excellent hotel   \n",
       "1219       Don't bother with online check-in   \n",
       "6901  Great location, cozy bar, good service   \n",
       "5466   London base for land tour with Globus   \n",
       "6107              Pre and post holiday stays   \n",
       "\n",
       "                                review_summary_suffixed  \\\n",
       "9048                           excellent_sum hotel_sum    \n",
       "1219  don_sum t_sum bother_sum with_sum online_sum c...   \n",
       "6901  great_sum location_sum cozy_sum bar_sum good_s...   \n",
       "5466  london_sum base_sum for_sum land_sum tour_sum ...   \n",
       "6107    pre_sum and_sum post_sum holiday_sum stays_sum    \n",
       "\n",
       "                                         review_cleaned  \n",
       "9048  from arrival at check in where we had great se...  \n",
       "1219  after hours waiting for chosen room booked onl...  \n",
       "6901  the hotel is very well located five minutes wa...  \n",
       "5466  we stayed here a total of nights in april the ...  \n",
       "6107  we recently stayed at hilton gatwick south ter...  "
      ]
     },
     "execution_count": 28,
     "metadata": {},
     "output_type": "execute_result"
    }
   ],
   "source": [
    "x_train.head()"
   ]
  },
  {
   "cell_type": "markdown",
   "metadata": {
    "Collapsed": "false",
    "id": "NMyvKV3hAeq6"
   },
   "source": [
    "## 5.6 Creating a Dictionary With Words That Appear in Reviews and an Index"
   ]
  },
  {
   "cell_type": "markdown",
   "metadata": {
    "Collapsed": "false",
    "id": "L_rByfgoAeq6"
   },
   "source": [
    "I created an index for each word in the training review dataset, so when passed through the embedding layer of the neural network there is an indexed number associated with each word."
   ]
  },
  {
   "cell_type": "code",
   "execution_count": 29,
   "metadata": {
    "Collapsed": "false",
    "id": "qUBjUHk3Aeq6"
   },
   "outputs": [],
   "source": [
    "flat_review = \" \".join(x_train['review_cleaned'].values)\n",
    "flat_review = flat_review.lower().split()"
   ]
  },
  {
   "cell_type": "code",
   "execution_count": 30,
   "metadata": {
    "Collapsed": "false",
    "colab": {
     "base_uri": "https://localhost:8080/"
    },
    "id": "IMQqGFKUAeq7",
    "outputId": "2fcff1a4-0189-44e3-c358-56e52c98c2b4"
   },
   "outputs": [
    {
     "data": {
      "text/plain": [
       "733061"
      ]
     },
     "execution_count": 30,
     "metadata": {},
     "output_type": "execute_result"
    }
   ],
   "source": [
    "len(flat_review)"
   ]
  },
  {
   "cell_type": "code",
   "execution_count": 31,
   "metadata": {
    "Collapsed": "false",
    "id": "AS1JBQz-Aeq7"
   },
   "outputs": [],
   "source": [
    "flat_review_summary = \" \".join(x_train['review_summary_suffixed'].values)\n",
    "flat_review_summary = flat_review_summary.lower().split()"
   ]
  },
  {
   "cell_type": "code",
   "execution_count": 32,
   "metadata": {
    "Collapsed": "false",
    "id": "waV5Brj6Aeq7"
   },
   "outputs": [],
   "source": [
    "unique_list = []\n",
    "for word in flat_review:\n",
    "    if word not in unique_list:\n",
    "        unique_list.append(word)\n",
    "for word in flat_review_summary:\n",
    "    if word not in unique_list:\n",
    "        unique_list.append(word)"
   ]
  },
  {
   "cell_type": "code",
   "execution_count": 33,
   "metadata": {
    "Collapsed": "false",
    "colab": {
     "base_uri": "https://localhost:8080/"
    },
    "id": "7CU6FmYTAeq8",
    "outputId": "d01c22a6-2ce5-404c-9411-f89ea771e02a"
   },
   "outputs": [
    {
     "data": {
      "text/plain": [
       "17313"
      ]
     },
     "execution_count": 33,
     "metadata": {},
     "output_type": "execute_result"
    }
   ],
   "source": [
    "len(unique_list)"
   ]
  },
  {
   "cell_type": "code",
   "execution_count": 34,
   "metadata": {
    "Collapsed": "false",
    "id": "BD4UaThyAeq8"
   },
   "outputs": [],
   "source": [
    "word_index_dict = {}\n",
    "for i in range(0,len(unique_list)):\n",
    "    word_index_dict[unique_list[i]] = i\n",
    "    "
   ]
  },
  {
   "cell_type": "markdown",
   "metadata": {
    "Collapsed": "false",
    "id": "RSKDPZAPAeq9"
   },
   "source": [
    "I added 4 other items to the dictionary that represented padding, the start of the review, unknown words, and unused words."
   ]
  },
  {
   "cell_type": "code",
   "execution_count": 35,
   "metadata": {
    "Collapsed": "false",
    "id": "sSeQZM_8Aeq9"
   },
   "outputs": [],
   "source": [
    "word_index_dict = {k:(v+4) for k,v in word_index_dict.items()}\n",
    "word_index_dict['<PAD>'] = 0\n",
    "word_index_dict['<START>'] = 1\n",
    "word_index_dict['<UNK>'] = 2\n",
    "word_index_dict['<UNUSED>'] = 3"
   ]
  },
  {
   "cell_type": "markdown",
   "metadata": {
    "Collapsed": "false",
    "id": "PzaJbvOLAeq9"
   },
   "source": [
    "## 5.7 Indexing Words in Reviews Using Dictionary"
   ]
  },
  {
   "cell_type": "code",
   "execution_count": 36,
   "metadata": {
    "Collapsed": "false",
    "id": "MvFWa8REAeq-"
   },
   "outputs": [],
   "source": [
    "def index_review_words(text):\n",
    "    review_word_list = []\n",
    "    for word in text.lower().split():\n",
    "        if word in word_index_dict.keys():\n",
    "            review_word_list.append(word_index_dict[word])\n",
    "        else:\n",
    "            review_word_list.append(word_index_dict['<UNK>'])\n",
    "\n",
    "    return review_word_list "
   ]
  },
  {
   "cell_type": "code",
   "execution_count": 37,
   "metadata": {
    "Collapsed": "false",
    "id": "E30AHPLfAeq-"
   },
   "outputs": [],
   "source": [
    "x_train['preprocessed_review'] = x_train['review_cleaned'].apply(index_review_words)\n",
    "x_test['preprocessed_review'] = x_test['review_cleaned'].apply(index_review_words)"
   ]
  },
  {
   "cell_type": "code",
   "execution_count": 38,
   "metadata": {
    "Collapsed": "false",
    "id": "CCbPbvG3Aeq-"
   },
   "outputs": [],
   "source": [
    "x_train['preprocessed_review_summary'] = x_train['review_summary_suffixed'].apply(index_review_words)\n",
    "x_test['preprocessed_review_summary'] = x_test['review_summary_suffixed'].apply(index_review_words)"
   ]
  },
  {
   "cell_type": "code",
   "execution_count": 39,
   "metadata": {
    "Collapsed": "false",
    "colab": {
     "base_uri": "https://localhost:8080/",
     "height": 823
    },
    "id": "0kawWuXdAeq_",
    "outputId": "db1a00d4-8c7b-41bd-b973-338d80901eae"
   },
   "outputs": [
    {
     "data": {
      "text/html": [
       "<div>\n",
       "<style scoped>\n",
       "    .dataframe tbody tr th:only-of-type {\n",
       "        vertical-align: middle;\n",
       "    }\n",
       "\n",
       "    .dataframe tbody tr th {\n",
       "        vertical-align: top;\n",
       "    }\n",
       "\n",
       "    .dataframe thead th {\n",
       "        text-align: right;\n",
       "    }\n",
       "</style>\n",
       "<table border=\"1\" class=\"dataframe\">\n",
       "  <thead>\n",
       "    <tr style=\"text-align: right;\">\n",
       "      <th></th>\n",
       "      <th>review</th>\n",
       "      <th>review_summary</th>\n",
       "      <th>review_summary_suffixed</th>\n",
       "      <th>review_cleaned</th>\n",
       "      <th>preprocessed_review</th>\n",
       "      <th>preprocessed_review_summary</th>\n",
       "    </tr>\n",
       "  </thead>\n",
       "  <tbody>\n",
       "    <tr>\n",
       "      <th>9048</th>\n",
       "      <td>From arrival at check in, where we had great s...</td>\n",
       "      <td>Excellent hotel</td>\n",
       "      <td>excellent_sum hotel_sum</td>\n",
       "      <td>from arrival at check in where we had great se...</td>\n",
       "      <td>[4, 5, 6, 7, 8, 9, 10, 11, 12, 13, 14, 15, 16,...</td>\n",
       "      <td>[14416, 14417]</td>\n",
       "    </tr>\n",
       "    <tr>\n",
       "      <th>1219</th>\n",
       "      <td>After 3 hours waiting for chosen room booked o...</td>\n",
       "      <td>Don't bother with online check-in</td>\n",
       "      <td>don_sum t_sum bother_sum with_sum online_sum c...</td>\n",
       "      <td>after hours waiting for chosen room booked onl...</td>\n",
       "      <td>[61, 62, 63, 64, 65, 42, 66, 67, 68, 69, 39, 7...</td>\n",
       "      <td>[14418, 14419, 14420, 14421, 14422, 14423, 14424]</td>\n",
       "    </tr>\n",
       "    <tr>\n",
       "      <th>6901</th>\n",
       "      <td>The hotel is very well located five minutes wa...</td>\n",
       "      <td>Great location, cozy bar, good service</td>\n",
       "      <td>great_sum location_sum cozy_sum bar_sum good_s...</td>\n",
       "      <td>the hotel is very well located five minutes wa...</td>\n",
       "      <td>[33, 60, 111, 19, 112, 113, 114, 115, 116, 4, ...</td>\n",
       "      <td>[14425, 14426, 14427, 14428, 14429, 14430]</td>\n",
       "    </tr>\n",
       "    <tr>\n",
       "      <th>5466</th>\n",
       "      <td>We stayed here a total of 3 nights in April 20...</td>\n",
       "      <td>London base for land tour with Globus</td>\n",
       "      <td>london_sum base_sum for_sum land_sum tour_sum ...</td>\n",
       "      <td>we stayed here a total of nights in april the ...</td>\n",
       "      <td>[10, 144, 145, 22, 146, 25, 147, 8, 148, 33, 7...</td>\n",
       "      <td>[14431, 14432, 14433, 14434, 14435, 14421, 14436]</td>\n",
       "    </tr>\n",
       "    <tr>\n",
       "      <th>6107</th>\n",
       "      <td>We recently stayed at Hilton Gatwick south ter...</td>\n",
       "      <td>Pre and post holiday stays</td>\n",
       "      <td>pre_sum and_sum post_sum holiday_sum stays_sum</td>\n",
       "      <td>we recently stayed at hilton gatwick south ter...</td>\n",
       "      <td>[10, 172, 144, 6, 173, 174, 175, 176, 33, 49, ...</td>\n",
       "      <td>[14437, 14438, 14439, 14440, 14441]</td>\n",
       "    </tr>\n",
       "  </tbody>\n",
       "</table>\n",
       "</div>"
      ],
      "text/plain": [
       "                                                 review  \\\n",
       "9048  From arrival at check in, where we had great s...   \n",
       "1219  After 3 hours waiting for chosen room booked o...   \n",
       "6901  The hotel is very well located five minutes wa...   \n",
       "5466  We stayed here a total of 3 nights in April 20...   \n",
       "6107  We recently stayed at Hilton Gatwick south ter...   \n",
       "\n",
       "                              review_summary  \\\n",
       "9048                         Excellent hotel   \n",
       "1219       Don't bother with online check-in   \n",
       "6901  Great location, cozy bar, good service   \n",
       "5466   London base for land tour with Globus   \n",
       "6107              Pre and post holiday stays   \n",
       "\n",
       "                                review_summary_suffixed  \\\n",
       "9048                           excellent_sum hotel_sum    \n",
       "1219  don_sum t_sum bother_sum with_sum online_sum c...   \n",
       "6901  great_sum location_sum cozy_sum bar_sum good_s...   \n",
       "5466  london_sum base_sum for_sum land_sum tour_sum ...   \n",
       "6107    pre_sum and_sum post_sum holiday_sum stays_sum    \n",
       "\n",
       "                                         review_cleaned  \\\n",
       "9048  from arrival at check in where we had great se...   \n",
       "1219  after hours waiting for chosen room booked onl...   \n",
       "6901  the hotel is very well located five minutes wa...   \n",
       "5466  we stayed here a total of nights in april the ...   \n",
       "6107  we recently stayed at hilton gatwick south ter...   \n",
       "\n",
       "                                    preprocessed_review  \\\n",
       "9048  [4, 5, 6, 7, 8, 9, 10, 11, 12, 13, 14, 15, 16,...   \n",
       "1219  [61, 62, 63, 64, 65, 42, 66, 67, 68, 69, 39, 7...   \n",
       "6901  [33, 60, 111, 19, 112, 113, 114, 115, 116, 4, ...   \n",
       "5466  [10, 144, 145, 22, 146, 25, 147, 8, 148, 33, 7...   \n",
       "6107  [10, 172, 144, 6, 173, 174, 175, 176, 33, 49, ...   \n",
       "\n",
       "                            preprocessed_review_summary  \n",
       "9048                                     [14416, 14417]  \n",
       "1219  [14418, 14419, 14420, 14421, 14422, 14423, 14424]  \n",
       "6901         [14425, 14426, 14427, 14428, 14429, 14430]  \n",
       "5466  [14431, 14432, 14433, 14434, 14435, 14421, 14436]  \n",
       "6107                [14437, 14438, 14439, 14440, 14441]  "
      ]
     },
     "execution_count": 39,
     "metadata": {},
     "output_type": "execute_result"
    }
   ],
   "source": [
    "x_train.head()"
   ]
  },
  {
   "cell_type": "markdown",
   "metadata": {
    "Collapsed": "false",
    "id": "obDhTJW1Aeq_"
   },
   "source": [
    "## 5.8 Combining Indexed Review Summary and Indexed Review Into a Single Column Called All Preprocessed Review"
   ]
  },
  {
   "cell_type": "code",
   "execution_count": 40,
   "metadata": {
    "Collapsed": "false",
    "id": "mrsFlTOoAeq_"
   },
   "outputs": [],
   "source": [
    "x_train['all_preprocessed_review'] = x_train['preprocessed_review'] + x_train['preprocessed_review_summary']\n",
    "x_test['all_preprocessed_review'] = x_test['preprocessed_review'] + x_test['preprocessed_review_summary']"
   ]
  },
  {
   "cell_type": "markdown",
   "metadata": {
    "Collapsed": "false",
    "id": "zGRoxSuXAerA"
   },
   "source": [
    "## 5.9 Modelling"
   ]
  },
  {
   "cell_type": "markdown",
   "metadata": {
    "Collapsed": "false",
    "id": "n5QDAf5HAerA"
   },
   "source": [
    "### 5.9.1 Add Padding to Reviews and Capping Reviews to Length 250 Words"
   ]
  },
  {
   "cell_type": "code",
   "execution_count": 41,
   "metadata": {
    "Collapsed": "false",
    "id": "y-gdgjUfAerA"
   },
   "outputs": [],
   "source": [
    "x_train = sequence.pad_sequences(x_train['all_preprocessed_review'],value=word_index_dict['<PAD>'],padding='post',maxlen=250)\n",
    "x_test = sequence.pad_sequences(x_test['all_preprocessed_review'],value=word_index_dict['<PAD>'],padding='post',maxlen=250)"
   ]
  },
  {
   "cell_type": "markdown",
   "metadata": {
    "Collapsed": "false",
    "id": "iL1RL8UxAerB"
   },
   "source": [
    "### 5.9.3 Creating and Training Neural Network Model"
   ]
  },
  {
   "cell_type": "code",
   "execution_count": 42,
   "metadata": {
    "Collapsed": "false",
    "id": "oTV_hxf-AerC"
   },
   "outputs": [],
   "source": [
    "model = Sequential()\n",
    "model.add(Embedding(17317,16))\n",
    "model.add(GlobalAveragePooling1D())\n",
    "model.add(Dense(16,activation='relu'))\n",
    "model.add(Dense(5,activation='sigmoid'))"
   ]
  },
  {
   "cell_type": "code",
   "execution_count": 43,
   "metadata": {
    "Collapsed": "false",
    "id": "JOt08EixAerD"
   },
   "outputs": [],
   "source": [
    "model.compile(optimizer='adam',loss='categorical_crossentropy',metrics=['accuracy'])"
   ]
  },
  {
   "cell_type": "code",
   "execution_count": 44,
   "metadata": {
    "Collapsed": "false",
    "id": "KHNqG-oJAerE"
   },
   "outputs": [],
   "source": [
    "x_train, x_val, y_train, y_val = train_test_split(x_train,y_train,test_size=.2,random_state=42)"
   ]
  },
  {
   "cell_type": "code",
   "execution_count": 45,
   "metadata": {
    "Collapsed": "false",
    "id": "zC5Zz2JhAerE"
   },
   "outputs": [],
   "source": [
    "fitModel = model.fit(x_train,y_train,epochs=60,batch_size=250,validation_data=(x_val,y_val),verbose=0)"
   ]
  },
  {
   "cell_type": "markdown",
   "metadata": {
    "Collapsed": "false",
    "id": "nhvx3lfuAerF"
   },
   "source": [
    "## 5.10 Testing Model"
   ]
  },
  {
   "cell_type": "markdown",
   "metadata": {
    "Collapsed": "false",
    "id": "0NvSEgxbAerF"
   },
   "source": [
    "After looking at accuracy scores for the validation data (0.5568) and the test data (0.5710), we can see the neural network model performs well."
   ]
  },
  {
   "cell_type": "code",
   "execution_count": 46,
   "metadata": {
    "Collapsed": "false",
    "colab": {
     "base_uri": "https://localhost:8080/"
    },
    "id": "vdnXGMoSAerG",
    "outputId": "07f21694-1a2a-402f-e494-6a4790a660ad"
   },
   "outputs": [
    {
     "name": "stdout",
     "output_type": "stream",
     "text": [
      "48/48 [==============================] - 0s 1ms/step - loss: 1.0030 - accuracy: 0.5555\n"
     ]
    },
    {
     "data": {
      "text/plain": [
       "[1.0029680728912354, 0.5554817318916321]"
      ]
     },
     "execution_count": 46,
     "metadata": {},
     "output_type": "execute_result"
    }
   ],
   "source": [
    "model.evaluate(x_val,y_val)"
   ]
  },
  {
   "cell_type": "code",
   "execution_count": 47,
   "metadata": {
    "Collapsed": "false",
    "colab": {
     "base_uri": "https://localhost:8080/"
    },
    "id": "Lq4zK3nNAerH",
    "outputId": "3a951b4b-bf8e-45e4-aedd-5e8e6770c53a"
   },
   "outputs": [
    {
     "name": "stdout",
     "output_type": "stream",
     "text": [
      "59/59 [==============================] - 0s 1ms/step - loss: 0.9704 - accuracy: 0.5747\n"
     ]
    },
    {
     "data": {
      "text/plain": [
       "[0.9704474806785583, 0.5746943354606628]"
      ]
     },
     "execution_count": 47,
     "metadata": {},
     "output_type": "execute_result"
    }
   ],
   "source": [
    "model.evaluate(x_test,y_test)"
   ]
  },
  {
   "cell_type": "markdown",
   "metadata": {
    "Collapsed": "false",
    "id": "qVjbU00TAerH"
   },
   "source": [
    "## 5.11 Test Confusion Matrix"
   ]
  },
  {
   "cell_type": "markdown",
   "metadata": {
    "Collapsed": "false",
    "id": "aPU4aL6sAerI"
   },
   "source": [
    "In order to create a confusion matrix, I have to reverse one hot encode the scores column and adjust the index for 0-4 back to 1-5."
   ]
  },
  {
   "cell_type": "markdown",
   "metadata": {
    "Collapsed": "false",
    "id": "6oc_nZ_eAerI"
   },
   "source": [
    "## 5.11.1 Reverse Encode Target Into One Column for Confusion Matrix"
   ]
  },
  {
   "cell_type": "code",
   "execution_count": 48,
   "metadata": {
    "Collapsed": "false",
    "id": "RYbocLkpAerJ"
   },
   "outputs": [],
   "source": [
    "reverse_encode(y_test)"
   ]
  },
  {
   "cell_type": "code",
   "execution_count": 49,
   "metadata": {
    "Collapsed": "false",
    "id": "wLS16Lj-AerJ"
   },
   "outputs": [],
   "source": [
    "reverse_encode(y_val)"
   ]
  },
  {
   "cell_type": "code",
   "execution_count": 50,
   "metadata": {
    "Collapsed": "false",
    "id": "2ZIlIPMWAerK"
   },
   "outputs": [],
   "source": [
    "y_test_predicted = add_one_argmax_score(np.argmax(model.predict(x_test),axis=1))"
   ]
  },
  {
   "cell_type": "markdown",
   "metadata": {
    "Collapsed": "false",
    "id": "WoIaA8saAerK"
   },
   "source": [
    "### 5.11.2 Saving Neural Network Preprocessed y Data"
   ]
  },
  {
   "cell_type": "code",
   "execution_count": 51,
   "metadata": {
    "Collapsed": "false",
    "id": "oNS7hFy7AerL"
   },
   "outputs": [],
   "source": [
    "y_test.to_csv('Data/6.y_test_nn_df.csv',index=False)\n",
    "np.save('Data/6.y_test_predicted_array',y_test_predicted)"
   ]
  },
  {
   "cell_type": "markdown",
   "metadata": {
    "Collapsed": "false",
    "id": "SzQFuGwrAerM"
   },
   "source": [
    "### 5.11.3 Creating Confusion Matrix for Test Data"
   ]
  },
  {
   "cell_type": "markdown",
   "metadata": {
    "Collapsed": "false",
    "id": "M-GXpRA4AerM"
   },
   "source": [
    "The confusion matrix looks better than it did for the previous classification model. I shall compare and discuss this in 6.Revaluation_and_Deployment notebook in further detail."
   ]
  },
  {
   "cell_type": "code",
   "execution_count": 52,
   "metadata": {
    "id": "jjoGcxICC6Kc"
   },
   "outputs": [],
   "source": [
    "test = []\n",
    "another1 = []\n",
    "for i in y_test['score'].values:\n",
    "    if i in [0,1,2,3,4,5]:\n",
    "        test.append(i)\n",
    "    else:\n",
    "        another1.append(i)"
   ]
  },
  {
   "cell_type": "code",
   "execution_count": 53,
   "metadata": {
    "Collapsed": "false",
    "colab": {
     "base_uri": "https://localhost:8080/",
     "height": 475
    },
    "id": "iO_JbQAXAerM",
    "outputId": "b5bc5c86-c2f2-4bd4-8dbc-48f69a276ab5"
   },
   "outputs": [
    {
     "data": {
      "image/png": "[encoded data removed]",
      "text/plain": [
       "<Figure size 648x504 with 1 Axes>"
      ]
     },
     "metadata": {
      "needs_background": "light"
     },
     "output_type": "display_data"
    }
   ],
   "source": [
    "test_cm = confusion_matrix(test, y_test_predicted)\n",
    "conf_matrix(test_cm)"
   ]
  },
  {
   "cell_type": "markdown",
   "metadata": {
    "id": "OJElYVDFDHx8"
   },
   "source": [
    "## **camparision Between Neural network and Machine Learning Models**"
   ]
  },
  {
   "attachments": {
    "all%20model.PNG": {
     "image/png": "[encoded data removed]"
    }
   },
   "cell_type": "markdown",
   "metadata": {
    "id": "CCpk1RopDHAh"
   },
   "source": [
    "![all%20model.PNG](attachment:all%20model.PNG)"
   ]
  },
  {
   "cell_type": "markdown",
   "metadata": {},
   "source": [
    "The error is more contained with in adjacent scores with the neural network model. Almost zero confusion between extreme scores 1 and 5, and minimal confusion with scores 2 and 4. Although a score of 3 can be harder to predict, there is definitely an improvement from the Stacking model."
   ]
  },
  {
   "cell_type": "markdown",
   "metadata": {},
   "source": [
    "# **5.12 Deployment**\n",
    "## **5.12.1 Streamlit Application**\n",
    "\n",
    "I planned on future improvements being the addition of the neural network model and then creating an application for the model, so as a next step I decided to make a working application to test out new reviews using streamlit."
   ]
  },
  {
   "cell_type": "markdown",
   "metadata": {
    "Collapsed": "false",
    "id": "GZfOsC5cAerN"
   },
   "source": [
    "## 5.13 Saving Model\n"
   ]
  },
  {
   "cell_type": "code",
   "execution_count": 54,
   "metadata": {
    "Collapsed": "false",
    "id": "kFuTN8S6AerN"
   },
   "outputs": [],
   "source": [
    "model.save('Models/Neural_Network.h5')"
   ]
  },
  {
   "cell_type": "code",
   "execution_count": 56,
   "metadata": {
    "Collapsed": "false",
    "id": "YRb0NEqxAerN"
   },
   "outputs": [],
   "source": [
    "pickle.dump(word_index_dict,open('Data/word_index_dict.pkl','wb'))"
   ]
  },
  {
   "cell_type": "code",
   "execution_count": null,
   "metadata": {},
   "outputs": [],
   "source": []
  }
 ],
 "metadata": {
  "colab": {
   "name": "5.Neural_Network_Modelling.ipynb",
   "provenance": [],
   "toc_visible": true
  },
  "kernelspec": {
   "display_name": "Python 3",
   "language": "python",
   "name": "python3"
  },
  "language_info": {
   "codemirror_mode": {
    "name": "ipython",
    "version": 3
   },
   "file_extension": ".py",
   "mimetype": "text/x-python",
   "name": "python",
   "nbconvert_exporter": "python",
   "pygments_lexer": "ipython3",
   "version": "3.8.5"
  }
 },
 "nbformat": 4,
 "nbformat_minor": 1
}
